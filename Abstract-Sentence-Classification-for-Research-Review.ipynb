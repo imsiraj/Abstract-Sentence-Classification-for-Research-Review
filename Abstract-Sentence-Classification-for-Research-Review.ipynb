{
  "cells": [
    {
      "cell_type": "code",
      "execution_count": null,
      "metadata": {
        "colab": {
          "base_uri": "https://localhost:8080/"
        },
        "id": "ZvQy9Fw4YFs2",
        "outputId": "b9d3e1e8-5bab-4efc-9c9e-c6e835a953f5"
      },
      "outputs": [
        {
          "name": "stdout",
          "output_type": "stream",
          "text": [
            "/bin/bash: line 1: nvidia-smi: command not found\n"
          ]
        }
      ],
      "source": [
        "!nvidia-smi -L"
      ]
    },
    {
      "cell_type": "code",
      "execution_count": null,
      "metadata": {
        "colab": {
          "base_uri": "https://localhost:8080/"
        },
        "id": "MA2MTCkffh48",
        "outputId": "372835ad-d0ee-4f5f-e4a9-3354caf9bcf7"
      },
      "outputs": [
        {
          "name": "stdout",
          "output_type": "stream",
          "text": [
            "Cloning into 'pubmed-rct'...\n",
            "remote: Enumerating objects: 39, done.\u001b[K\n",
            "remote: Counting objects: 100% (14/14), done.\u001b[K\n",
            "remote: Compressing objects: 100% (9/9), done.\u001b[K\n",
            "remote: Total 39 (delta 8), reused 5 (delta 5), pack-reused 25\u001b[K\n",
            "Receiving objects: 100% (39/39), 177.08 MiB | 24.54 MiB/s, done.\n",
            "Resolving deltas: 100% (15/15), done.\n",
            "Updating files: 100% (13/13), done.\n",
            "PubMed_200k_RCT\t\t\t\t       PubMed_20k_RCT_numbers_replaced_with_at_sign\n",
            "PubMed_200k_RCT_numbers_replaced_with_at_sign  README.md\n",
            "PubMed_20k_RCT\n"
          ]
        }
      ],
      "source": [
        "!git clone https://github.com/Franck-Dernoncourt/pubmed-rct.git\n",
        "!ls pubmed-rct"
      ]
    },
    {
      "cell_type": "code",
      "execution_count": null,
      "metadata": {
        "colab": {
          "base_uri": "https://localhost:8080/"
        },
        "id": "9AGKG_k6gSTR",
        "outputId": "4b6dec8c-52f4-42a6-8504-81dbc62de8c0"
      },
      "outputs": [
        {
          "name": "stdout",
          "output_type": "stream",
          "text": [
            "dev.txt  test.txt  train.txt\n"
          ]
        }
      ],
      "source": [
        "!ls pubmed-rct/PubMed_20k_RCT_numbers_replaced_with_at_sign/"
      ]
    },
    {
      "cell_type": "code",
      "execution_count": null,
      "metadata": {
        "id": "odnhjKdVhHB3"
      },
      "outputs": [],
      "source": [
        "data_dir=\"/content/pubmed-rct/PubMed_20k_RCT_numbers_replaced_with_at_sign/\""
      ]
    },
    {
      "cell_type": "code",
      "execution_count": null,
      "metadata": {
        "colab": {
          "base_uri": "https://localhost:8080/"
        },
        "id": "HXLGY7NGi8us",
        "outputId": "19ff6566-4fdd-45f5-cf6d-c1e39b5e6b23"
      },
      "outputs": [
        {
          "data": {
            "text/plain": [
              "['/content/pubmed-rct/PubMed_20k_RCT_numbers_replaced_with_at_sign/dev.txt',\n",
              " '/content/pubmed-rct/PubMed_20k_RCT_numbers_replaced_with_at_sign/test.txt',\n",
              " '/content/pubmed-rct/PubMed_20k_RCT_numbers_replaced_with_at_sign/train.txt']"
            ]
          },
          "execution_count": 5,
          "metadata": {},
          "output_type": "execute_result"
        }
      ],
      "source": [
        "import os\n",
        "filenames=[data_dir+filename for filename in os.listdir(data_dir)]\n",
        "filenames"
      ]
    },
    {
      "cell_type": "code",
      "execution_count": null,
      "metadata": {
        "id": "9CV8yS3-jGDv"
      },
      "outputs": [],
      "source": [
        "def get_lines(filename):\n",
        "\n",
        "  with open(filename,'r') as f:\n",
        "    return f.readlines()"
      ]
    },
    {
      "cell_type": "code",
      "execution_count": null,
      "metadata": {
        "colab": {
          "base_uri": "https://localhost:8080/"
        },
        "id": "bcj_3nwZkmtM",
        "outputId": "bcfe2918-3c88-4d3e-c5b8-e5b7ab259138"
      },
      "outputs": [
        {
          "data": {
            "text/plain": [
              "['###24293578\\n',\n",
              " 'OBJECTIVE\\tTo investigate the efficacy of @ weeks of daily low-dose oral prednisolone in improving pain , mobility , and systemic low-grade inflammation in the short term and whether the effect would be sustained at @ weeks in older adults with moderate to severe knee osteoarthritis ( OA ) .\\n',\n",
              " 'METHODS\\tA total of @ patients with primary knee OA were randomized @:@ ; @ received @ mg/day of prednisolone and @ received placebo for @ weeks .\\n',\n",
              " 'METHODS\\tOutcome measures included pain reduction and improvement in function scores and systemic inflammation markers .\\n',\n",
              " 'METHODS\\tPain was assessed using the visual analog pain scale ( @-@ mm ) .\\n',\n",
              " 'METHODS\\tSecondary outcome measures included the Western Ontario and McMaster Universities Osteoarthritis Index scores , patient global assessment ( PGA ) of the severity of knee OA , and @-min walk distance ( @MWD ) .\\n',\n",
              " 'METHODS\\tSerum levels of interleukin @ ( IL-@ ) , IL-@ , tumor necrosis factor ( TNF ) - , and high-sensitivity C-reactive protein ( hsCRP ) were measured .\\n',\n",
              " 'RESULTS\\tThere was a clinically relevant reduction in the intervention group compared to the placebo group for knee pain , physical function , PGA , and @MWD at @ weeks .\\n',\n",
              " 'RESULTS\\tThe mean difference between treatment arms ( @ % CI ) was @ ( @-@ @ ) , p < @ ; @ ( @-@ @ ) , p < @ ; @ ( @-@ @ ) , p < @ ; and @ ( @-@ @ ) , p < @ , respectively .\\n',\n",
              " 'RESULTS\\tFurther , there was a clinically relevant reduction in the serum levels of IL-@ , IL-@ , TNF - , and hsCRP at @ weeks in the intervention group when compared to the placebo group .\\n',\n",
              " 'RESULTS\\tThese differences remained significant at @ weeks .\\n',\n",
              " 'RESULTS\\tThe Outcome Measures in Rheumatology Clinical Trials-Osteoarthritis Research Society International responder rate was @ % in the intervention group and @ % in the placebo group ( p < @ ) .\\n',\n",
              " 'CONCLUSIONS\\tLow-dose oral prednisolone had both a short-term and a longer sustained effect resulting in less knee pain , better physical function , and attenuation of systemic inflammation in older patients with knee OA ( ClinicalTrials.gov identifier NCT@ ) .\\n',\n",
              " '\\n',\n",
              " '###24854809\\n',\n",
              " 'BACKGROUND\\tEmotional eating is associated with overeating and the development of obesity .\\n',\n",
              " 'BACKGROUND\\tYet , empirical evidence for individual ( trait ) differences in emotional eating and cognitive mechanisms that contribute to eating during sad mood remain equivocal .\\n',\n",
              " 'OBJECTIVE\\tThe aim of this study was to test if attention bias for food moderates the effect of self-reported emotional eating during sad mood ( vs neutral mood ) on actual food intake .\\n',\n",
              " 'OBJECTIVE\\tIt was expected that emotional eating is predictive of elevated attention for food and higher food intake after an experimentally induced sad mood and that attentional maintenance on food predicts food intake during a sad versus a neutral mood .\\n',\n",
              " 'METHODS\\tParticipants ( N = @ ) were randomly assigned to one of the two experimental mood induction conditions ( sad/neutral ) .\\n']"
            ]
          },
          "execution_count": 7,
          "metadata": {},
          "output_type": "execute_result"
        }
      ],
      "source": [
        "train_lines=get_lines(data_dir+\"train.txt\")\n",
        "train_lines[:20]"
      ]
    },
    {
      "cell_type": "markdown",
      "metadata": {
        "id": "kXeTN_Fhmuss"
      },
      "source": [
        "Structure for the data\n",
        "```\n",
        "[{'line_number:0,\n",
        "  'target':'BACKGROUND',\n",
        "  'text':\"Emotional eating is associated with overeating and the development of obesity\",\n",
        "  'total_lines':11},\n",
        "  ...]\n",
        "```"
      ]
    },
    {
      "cell_type": "code",
      "execution_count": null,
      "metadata": {
        "id": "yJf7JLATkxNK"
      },
      "outputs": [],
      "source": [
        "def preprocess_text_with_line_numbers(filename):\n",
        "\n",
        "  input_lines=get_lines(filename)\n",
        "  abstract_lines=\"\"\n",
        "  abstract_sample=[]\n",
        "\n",
        "  for line in input_lines:\n",
        "    if line.startswith(\"###\"):\n",
        "      abstract_id=line\n",
        "      abstract_lines=\"\"\n",
        "\n",
        "    elif line.isspace():\n",
        "      abstract_line_split=abstract_lines.splitlines()\n",
        "\n",
        "      for abstract_line_number,abstract_line in enumerate(abstract_line_split):\n",
        "        line_data={}\n",
        "        target_text_split=abstract_line.split(\"\\t\")\n",
        "\n",
        "        line_data['target']=target_text_split[0]\n",
        "        line_data['text']=target_text_split[1].lower()\n",
        "        line_data['line_number']=abstract_line_number\n",
        "        line_data['total_lines']=len(abstract_line_split) - 1\n",
        "\n",
        "        abstract_sample.append(line_data)\n",
        "    else:\n",
        "      abstract_lines+=line\n",
        "\n",
        "  return abstract_sample\n",
        "\n"
      ]
    },
    {
      "cell_type": "code",
      "execution_count": null,
      "metadata": {
        "colab": {
          "base_uri": "https://localhost:8080/"
        },
        "id": "61m-3dLzsd1W",
        "outputId": "8015e567-3b72-47d2-fdc4-510ef546793d"
      },
      "outputs": [
        {
          "data": {
            "text/plain": [
              "['###24293578\\n',\n",
              " 'OBJECTIVE\\tTo investigate the efficacy of @ weeks of daily low-dose oral prednisolone in improving pain , mobility , and systemic low-grade inflammation in the short term and whether the effect would be sustained at @ weeks in older adults with moderate to severe knee osteoarthritis ( OA ) .\\n',\n",
              " 'METHODS\\tA total of @ patients with primary knee OA were randomized @:@ ; @ received @ mg/day of prednisolone and @ received placebo for @ weeks .\\n',\n",
              " 'METHODS\\tOutcome measures included pain reduction and improvement in function scores and systemic inflammation markers .\\n',\n",
              " 'METHODS\\tPain was assessed using the visual analog pain scale ( @-@ mm ) .\\n']"
            ]
          },
          "execution_count": 9,
          "metadata": {},
          "output_type": "execute_result"
        }
      ],
      "source": [
        "train_lines[:5]"
      ]
    },
    {
      "cell_type": "code",
      "execution_count": null,
      "metadata": {
        "id": "WhFMSffwr5xv"
      },
      "outputs": [],
      "source": [
        "train_samples=preprocess_text_with_line_numbers(data_dir+\"train.txt\")\n",
        "val_samples=preprocess_text_with_line_numbers(data_dir+\"dev.txt\")\n",
        "test_samples=preprocess_text_with_line_numbers(data_dir+\"test.txt\")"
      ]
    },
    {
      "cell_type": "code",
      "execution_count": null,
      "metadata": {
        "colab": {
          "base_uri": "https://localhost:8080/"
        },
        "id": "iI52Bc_2r-YW",
        "outputId": "ec637f6e-d9c7-43b2-8a78-bc43ac413f18"
      },
      "outputs": [
        {
          "data": {
            "text/plain": [
              "(180040, 30212, 30135)"
            ]
          },
          "execution_count": 11,
          "metadata": {},
          "output_type": "execute_result"
        }
      ],
      "source": [
        "len(train_samples),len(val_samples),len(test_samples)"
      ]
    },
    {
      "cell_type": "code",
      "execution_count": null,
      "metadata": {
        "id": "ajmBx0m6wpeH"
      },
      "outputs": [],
      "source": [
        "import pandas as pd"
      ]
    },
    {
      "cell_type": "code",
      "execution_count": null,
      "metadata": {
        "colab": {
          "base_uri": "https://localhost:8080/",
          "height": 519
        },
        "id": "Z-Q7QkVCxcjI",
        "outputId": "341c62b5-6e63-410b-e6b2-28a2d487c893"
      },
      "outputs": [
        {
          "data": {
            "application/vnd.google.colaboratory.intrinsic+json": {
              "summary": "{\n  \"name\": \"train_df[:15]\",\n  \"rows\": 15,\n  \"fields\": [\n    {\n      \"column\": \"target\",\n      \"properties\": {\n        \"dtype\": \"category\",\n        \"num_unique_values\": 5,\n        \"samples\": [\n          \"METHODS\",\n          \"BACKGROUND\",\n          \"RESULTS\"\n        ],\n        \"semantic_type\": \"\",\n        \"description\": \"\"\n      }\n    },\n    {\n      \"column\": \"text\",\n      \"properties\": {\n        \"dtype\": \"string\",\n        \"num_unique_values\": 15,\n        \"samples\": [\n          \"these differences remained significant at @ weeks .\",\n          \"low-dose oral prednisolone had both a short-term and a longer sustained effect resulting in less knee pain , better physical function , and attenuation of systemic inflammation in older patients with knee oa ( clinicaltrials.gov identifier nct@ ) .\",\n          \"to investigate the efficacy of @ weeks of daily low-dose oral prednisolone in improving pain , mobility , and systemic low-grade inflammation in the short term and whether the effect would be sustained at @ weeks in older adults with moderate to severe knee osteoarthritis ( oa ) .\"\n        ],\n        \"semantic_type\": \"\",\n        \"description\": \"\"\n      }\n    },\n    {\n      \"column\": \"line_number\",\n      \"properties\": {\n        \"dtype\": \"number\",\n        \"std\": 3,\n        \"min\": 0,\n        \"max\": 11,\n        \"num_unique_values\": 12,\n        \"samples\": [\n          10,\n          9,\n          0\n        ],\n        \"semantic_type\": \"\",\n        \"description\": \"\"\n      }\n    },\n    {\n      \"column\": \"total_lines\",\n      \"properties\": {\n        \"dtype\": \"number\",\n        \"std\": 0,\n        \"min\": 10,\n        \"max\": 11,\n        \"num_unique_values\": 2,\n        \"samples\": [\n          10,\n          11\n        ],\n        \"semantic_type\": \"\",\n        \"description\": \"\"\n      }\n    }\n  ]\n}",
              "type": "dataframe"
            },
            "text/html": [
              "\n",
              "  <div id=\"df-6eda2068-619f-4a61-a45a-186ac7037717\" class=\"colab-df-container\">\n",
              "    <div>\n",
              "<style scoped>\n",
              "    .dataframe tbody tr th:only-of-type {\n",
              "        vertical-align: middle;\n",
              "    }\n",
              "\n",
              "    .dataframe tbody tr th {\n",
              "        vertical-align: top;\n",
              "    }\n",
              "\n",
              "    .dataframe thead th {\n",
              "        text-align: right;\n",
              "    }\n",
              "</style>\n",
              "<table border=\"1\" class=\"dataframe\">\n",
              "  <thead>\n",
              "    <tr style=\"text-align: right;\">\n",
              "      <th></th>\n",
              "      <th>target</th>\n",
              "      <th>text</th>\n",
              "      <th>line_number</th>\n",
              "      <th>total_lines</th>\n",
              "    </tr>\n",
              "  </thead>\n",
              "  <tbody>\n",
              "    <tr>\n",
              "      <th>0</th>\n",
              "      <td>OBJECTIVE</td>\n",
              "      <td>to investigate the efficacy of @ weeks of dail...</td>\n",
              "      <td>0</td>\n",
              "      <td>11</td>\n",
              "    </tr>\n",
              "    <tr>\n",
              "      <th>1</th>\n",
              "      <td>METHODS</td>\n",
              "      <td>a total of @ patients with primary knee oa wer...</td>\n",
              "      <td>1</td>\n",
              "      <td>11</td>\n",
              "    </tr>\n",
              "    <tr>\n",
              "      <th>2</th>\n",
              "      <td>METHODS</td>\n",
              "      <td>outcome measures included pain reduction and i...</td>\n",
              "      <td>2</td>\n",
              "      <td>11</td>\n",
              "    </tr>\n",
              "    <tr>\n",
              "      <th>3</th>\n",
              "      <td>METHODS</td>\n",
              "      <td>pain was assessed using the visual analog pain...</td>\n",
              "      <td>3</td>\n",
              "      <td>11</td>\n",
              "    </tr>\n",
              "    <tr>\n",
              "      <th>4</th>\n",
              "      <td>METHODS</td>\n",
              "      <td>secondary outcome measures included the wester...</td>\n",
              "      <td>4</td>\n",
              "      <td>11</td>\n",
              "    </tr>\n",
              "    <tr>\n",
              "      <th>5</th>\n",
              "      <td>METHODS</td>\n",
              "      <td>serum levels of interleukin @ ( il-@ ) , il-@ ...</td>\n",
              "      <td>5</td>\n",
              "      <td>11</td>\n",
              "    </tr>\n",
              "    <tr>\n",
              "      <th>6</th>\n",
              "      <td>RESULTS</td>\n",
              "      <td>there was a clinically relevant reduction in t...</td>\n",
              "      <td>6</td>\n",
              "      <td>11</td>\n",
              "    </tr>\n",
              "    <tr>\n",
              "      <th>7</th>\n",
              "      <td>RESULTS</td>\n",
              "      <td>the mean difference between treatment arms ( @...</td>\n",
              "      <td>7</td>\n",
              "      <td>11</td>\n",
              "    </tr>\n",
              "    <tr>\n",
              "      <th>8</th>\n",
              "      <td>RESULTS</td>\n",
              "      <td>further , there was a clinically relevant redu...</td>\n",
              "      <td>8</td>\n",
              "      <td>11</td>\n",
              "    </tr>\n",
              "    <tr>\n",
              "      <th>9</th>\n",
              "      <td>RESULTS</td>\n",
              "      <td>these differences remained significant at @ we...</td>\n",
              "      <td>9</td>\n",
              "      <td>11</td>\n",
              "    </tr>\n",
              "    <tr>\n",
              "      <th>10</th>\n",
              "      <td>RESULTS</td>\n",
              "      <td>the outcome measures in rheumatology clinical ...</td>\n",
              "      <td>10</td>\n",
              "      <td>11</td>\n",
              "    </tr>\n",
              "    <tr>\n",
              "      <th>11</th>\n",
              "      <td>CONCLUSIONS</td>\n",
              "      <td>low-dose oral prednisolone had both a short-te...</td>\n",
              "      <td>11</td>\n",
              "      <td>11</td>\n",
              "    </tr>\n",
              "    <tr>\n",
              "      <th>12</th>\n",
              "      <td>BACKGROUND</td>\n",
              "      <td>emotional eating is associated with overeating...</td>\n",
              "      <td>0</td>\n",
              "      <td>10</td>\n",
              "    </tr>\n",
              "    <tr>\n",
              "      <th>13</th>\n",
              "      <td>BACKGROUND</td>\n",
              "      <td>yet , empirical evidence for individual ( trai...</td>\n",
              "      <td>1</td>\n",
              "      <td>10</td>\n",
              "    </tr>\n",
              "    <tr>\n",
              "      <th>14</th>\n",
              "      <td>OBJECTIVE</td>\n",
              "      <td>the aim of this study was to test if attention...</td>\n",
              "      <td>2</td>\n",
              "      <td>10</td>\n",
              "    </tr>\n",
              "  </tbody>\n",
              "</table>\n",
              "</div>\n",
              "    <div class=\"colab-df-buttons\">\n",
              "\n",
              "  <div class=\"colab-df-container\">\n",
              "    <button class=\"colab-df-convert\" onclick=\"convertToInteractive('df-6eda2068-619f-4a61-a45a-186ac7037717')\"\n",
              "            title=\"Convert this dataframe to an interactive table.\"\n",
              "            style=\"display:none;\">\n",
              "\n",
              "  <svg xmlns=\"http://www.w3.org/2000/svg\" height=\"24px\" viewBox=\"0 -960 960 960\">\n",
              "    <path d=\"M120-120v-720h720v720H120Zm60-500h600v-160H180v160Zm220 220h160v-160H400v160Zm0 220h160v-160H400v160ZM180-400h160v-160H180v160Zm440 0h160v-160H620v160ZM180-180h160v-160H180v160Zm440 0h160v-160H620v160Z\"/>\n",
              "  </svg>\n",
              "    </button>\n",
              "\n",
              "  <style>\n",
              "    .colab-df-container {\n",
              "      display:flex;\n",
              "      gap: 12px;\n",
              "    }\n",
              "\n",
              "    .colab-df-convert {\n",
              "      background-color: #E8F0FE;\n",
              "      border: none;\n",
              "      border-radius: 50%;\n",
              "      cursor: pointer;\n",
              "      display: none;\n",
              "      fill: #1967D2;\n",
              "      height: 32px;\n",
              "      padding: 0 0 0 0;\n",
              "      width: 32px;\n",
              "    }\n",
              "\n",
              "    .colab-df-convert:hover {\n",
              "      background-color: #E2EBFA;\n",
              "      box-shadow: 0px 1px 2px rgba(60, 64, 67, 0.3), 0px 1px 3px 1px rgba(60, 64, 67, 0.15);\n",
              "      fill: #174EA6;\n",
              "    }\n",
              "\n",
              "    .colab-df-buttons div {\n",
              "      margin-bottom: 4px;\n",
              "    }\n",
              "\n",
              "    [theme=dark] .colab-df-convert {\n",
              "      background-color: #3B4455;\n",
              "      fill: #D2E3FC;\n",
              "    }\n",
              "\n",
              "    [theme=dark] .colab-df-convert:hover {\n",
              "      background-color: #434B5C;\n",
              "      box-shadow: 0px 1px 3px 1px rgba(0, 0, 0, 0.15);\n",
              "      filter: drop-shadow(0px 1px 2px rgba(0, 0, 0, 0.3));\n",
              "      fill: #FFFFFF;\n",
              "    }\n",
              "  </style>\n",
              "\n",
              "    <script>\n",
              "      const buttonEl =\n",
              "        document.querySelector('#df-6eda2068-619f-4a61-a45a-186ac7037717 button.colab-df-convert');\n",
              "      buttonEl.style.display =\n",
              "        google.colab.kernel.accessAllowed ? 'block' : 'none';\n",
              "\n",
              "      async function convertToInteractive(key) {\n",
              "        const element = document.querySelector('#df-6eda2068-619f-4a61-a45a-186ac7037717');\n",
              "        const dataTable =\n",
              "          await google.colab.kernel.invokeFunction('convertToInteractive',\n",
              "                                                    [key], {});\n",
              "        if (!dataTable) return;\n",
              "\n",
              "        const docLinkHtml = 'Like what you see? Visit the ' +\n",
              "          '<a target=\"_blank\" href=https://colab.research.google.com/notebooks/data_table.ipynb>data table notebook</a>'\n",
              "          + ' to learn more about interactive tables.';\n",
              "        element.innerHTML = '';\n",
              "        dataTable['output_type'] = 'display_data';\n",
              "        await google.colab.output.renderOutput(dataTable, element);\n",
              "        const docLink = document.createElement('div');\n",
              "        docLink.innerHTML = docLinkHtml;\n",
              "        element.appendChild(docLink);\n",
              "      }\n",
              "    </script>\n",
              "  </div>\n",
              "\n",
              "\n",
              "<div id=\"df-d7193448-5b90-4400-8350-117b42ec0918\">\n",
              "  <button class=\"colab-df-quickchart\" onclick=\"quickchart('df-d7193448-5b90-4400-8350-117b42ec0918')\"\n",
              "            title=\"Suggest charts\"\n",
              "            style=\"display:none;\">\n",
              "\n",
              "<svg xmlns=\"http://www.w3.org/2000/svg\" height=\"24px\"viewBox=\"0 0 24 24\"\n",
              "     width=\"24px\">\n",
              "    <g>\n",
              "        <path d=\"M19 3H5c-1.1 0-2 .9-2 2v14c0 1.1.9 2 2 2h14c1.1 0 2-.9 2-2V5c0-1.1-.9-2-2-2zM9 17H7v-7h2v7zm4 0h-2V7h2v10zm4 0h-2v-4h2v4z\"/>\n",
              "    </g>\n",
              "</svg>\n",
              "  </button>\n",
              "\n",
              "<style>\n",
              "  .colab-df-quickchart {\n",
              "      --bg-color: #E8F0FE;\n",
              "      --fill-color: #1967D2;\n",
              "      --hover-bg-color: #E2EBFA;\n",
              "      --hover-fill-color: #174EA6;\n",
              "      --disabled-fill-color: #AAA;\n",
              "      --disabled-bg-color: #DDD;\n",
              "  }\n",
              "\n",
              "  [theme=dark] .colab-df-quickchart {\n",
              "      --bg-color: #3B4455;\n",
              "      --fill-color: #D2E3FC;\n",
              "      --hover-bg-color: #434B5C;\n",
              "      --hover-fill-color: #FFFFFF;\n",
              "      --disabled-bg-color: #3B4455;\n",
              "      --disabled-fill-color: #666;\n",
              "  }\n",
              "\n",
              "  .colab-df-quickchart {\n",
              "    background-color: var(--bg-color);\n",
              "    border: none;\n",
              "    border-radius: 50%;\n",
              "    cursor: pointer;\n",
              "    display: none;\n",
              "    fill: var(--fill-color);\n",
              "    height: 32px;\n",
              "    padding: 0;\n",
              "    width: 32px;\n",
              "  }\n",
              "\n",
              "  .colab-df-quickchart:hover {\n",
              "    background-color: var(--hover-bg-color);\n",
              "    box-shadow: 0 1px 2px rgba(60, 64, 67, 0.3), 0 1px 3px 1px rgba(60, 64, 67, 0.15);\n",
              "    fill: var(--button-hover-fill-color);\n",
              "  }\n",
              "\n",
              "  .colab-df-quickchart-complete:disabled,\n",
              "  .colab-df-quickchart-complete:disabled:hover {\n",
              "    background-color: var(--disabled-bg-color);\n",
              "    fill: var(--disabled-fill-color);\n",
              "    box-shadow: none;\n",
              "  }\n",
              "\n",
              "  .colab-df-spinner {\n",
              "    border: 2px solid var(--fill-color);\n",
              "    border-color: transparent;\n",
              "    border-bottom-color: var(--fill-color);\n",
              "    animation:\n",
              "      spin 1s steps(1) infinite;\n",
              "  }\n",
              "\n",
              "  @keyframes spin {\n",
              "    0% {\n",
              "      border-color: transparent;\n",
              "      border-bottom-color: var(--fill-color);\n",
              "      border-left-color: var(--fill-color);\n",
              "    }\n",
              "    20% {\n",
              "      border-color: transparent;\n",
              "      border-left-color: var(--fill-color);\n",
              "      border-top-color: var(--fill-color);\n",
              "    }\n",
              "    30% {\n",
              "      border-color: transparent;\n",
              "      border-left-color: var(--fill-color);\n",
              "      border-top-color: var(--fill-color);\n",
              "      border-right-color: var(--fill-color);\n",
              "    }\n",
              "    40% {\n",
              "      border-color: transparent;\n",
              "      border-right-color: var(--fill-color);\n",
              "      border-top-color: var(--fill-color);\n",
              "    }\n",
              "    60% {\n",
              "      border-color: transparent;\n",
              "      border-right-color: var(--fill-color);\n",
              "    }\n",
              "    80% {\n",
              "      border-color: transparent;\n",
              "      border-right-color: var(--fill-color);\n",
              "      border-bottom-color: var(--fill-color);\n",
              "    }\n",
              "    90% {\n",
              "      border-color: transparent;\n",
              "      border-bottom-color: var(--fill-color);\n",
              "    }\n",
              "  }\n",
              "</style>\n",
              "\n",
              "  <script>\n",
              "    async function quickchart(key) {\n",
              "      const quickchartButtonEl =\n",
              "        document.querySelector('#' + key + ' button');\n",
              "      quickchartButtonEl.disabled = true;  // To prevent multiple clicks.\n",
              "      quickchartButtonEl.classList.add('colab-df-spinner');\n",
              "      try {\n",
              "        const charts = await google.colab.kernel.invokeFunction(\n",
              "            'suggestCharts', [key], {});\n",
              "      } catch (error) {\n",
              "        console.error('Error during call to suggestCharts:', error);\n",
              "      }\n",
              "      quickchartButtonEl.classList.remove('colab-df-spinner');\n",
              "      quickchartButtonEl.classList.add('colab-df-quickchart-complete');\n",
              "    }\n",
              "    (() => {\n",
              "      let quickchartButtonEl =\n",
              "        document.querySelector('#df-d7193448-5b90-4400-8350-117b42ec0918 button');\n",
              "      quickchartButtonEl.style.display =\n",
              "        google.colab.kernel.accessAllowed ? 'block' : 'none';\n",
              "    })();\n",
              "  </script>\n",
              "</div>\n",
              "\n",
              "    </div>\n",
              "  </div>\n"
            ],
            "text/plain": [
              "         target                                               text  \\\n",
              "0     OBJECTIVE  to investigate the efficacy of @ weeks of dail...   \n",
              "1       METHODS  a total of @ patients with primary knee oa wer...   \n",
              "2       METHODS  outcome measures included pain reduction and i...   \n",
              "3       METHODS  pain was assessed using the visual analog pain...   \n",
              "4       METHODS  secondary outcome measures included the wester...   \n",
              "5       METHODS  serum levels of interleukin @ ( il-@ ) , il-@ ...   \n",
              "6       RESULTS  there was a clinically relevant reduction in t...   \n",
              "7       RESULTS  the mean difference between treatment arms ( @...   \n",
              "8       RESULTS  further , there was a clinically relevant redu...   \n",
              "9       RESULTS  these differences remained significant at @ we...   \n",
              "10      RESULTS  the outcome measures in rheumatology clinical ...   \n",
              "11  CONCLUSIONS  low-dose oral prednisolone had both a short-te...   \n",
              "12   BACKGROUND  emotional eating is associated with overeating...   \n",
              "13   BACKGROUND  yet , empirical evidence for individual ( trai...   \n",
              "14    OBJECTIVE  the aim of this study was to test if attention...   \n",
              "\n",
              "    line_number  total_lines  \n",
              "0             0           11  \n",
              "1             1           11  \n",
              "2             2           11  \n",
              "3             3           11  \n",
              "4             4           11  \n",
              "5             5           11  \n",
              "6             6           11  \n",
              "7             7           11  \n",
              "8             8           11  \n",
              "9             9           11  \n",
              "10           10           11  \n",
              "11           11           11  \n",
              "12            0           10  \n",
              "13            1           10  \n",
              "14            2           10  "
            ]
          },
          "execution_count": 13,
          "metadata": {},
          "output_type": "execute_result"
        }
      ],
      "source": [
        "train_df=pd.DataFrame(train_samples)\n",
        "val_df=pd.DataFrame(val_samples)\n",
        "test_df=pd.DataFrame(test_samples)\n",
        "train_df[:15]"
      ]
    },
    {
      "cell_type": "code",
      "execution_count": null,
      "metadata": {
        "colab": {
          "base_uri": "https://localhost:8080/"
        },
        "id": "OZS7quwcxiQc",
        "outputId": "eeb52147-d9ac-4e4f-e7e3-2d21b7d7a8f6"
      },
      "outputs": [
        {
          "data": {
            "text/plain": [
              "METHODS        59353\n",
              "RESULTS        57953\n",
              "CONCLUSIONS    27168\n",
              "BACKGROUND     21727\n",
              "OBJECTIVE      13839\n",
              "Name: target, dtype: int64"
            ]
          },
          "execution_count": 14,
          "metadata": {},
          "output_type": "execute_result"
        }
      ],
      "source": [
        "train_df.target.value_counts()"
      ]
    },
    {
      "cell_type": "code",
      "execution_count": null,
      "metadata": {
        "colab": {
          "base_uri": "https://localhost:8080/",
          "height": 448
        },
        "id": "37q3_ckKyO9w",
        "outputId": "f0312227-25e0-4425-a387-519cdb7e4807"
      },
      "outputs": [
        {
          "data": {
            "text/plain": [
              "<Axes: ylabel='Frequency'>"
            ]
          },
          "execution_count": 15,
          "metadata": {},
          "output_type": "execute_result"
        },
        {
          "data": {
            "image/png": "[encoded data removed]",
            "text/plain": [
              "<Figure size 640x480 with 1 Axes>"
            ]
          },
          "metadata": {},
          "output_type": "display_data"
        }
      ],
      "source": [
        "train_df.total_lines.plot.hist()"
      ]
    },
    {
      "cell_type": "markdown",
      "metadata": {
        "id": "jt2oQoLjyruo"
      },
      "source": [
        "### Get lists of sentences"
      ]
    },
    {
      "cell_type": "code",
      "execution_count": null,
      "metadata": {
        "colab": {
          "base_uri": "https://localhost:8080/"
        },
        "id": "w3I3JOoiy95D",
        "outputId": "d206c537-731e-4669-9210-06c611dd4bd7"
      },
      "outputs": [
        {
          "data": {
            "text/plain": [
              "['to investigate the efficacy of @ weeks of daily low-dose oral prednisolone in improving pain , mobility , and systemic low-grade inflammation in the short term and whether the effect would be sustained at @ weeks in older adults with moderate to severe knee osteoarthritis ( oa ) .',\n",
              " 'a total of @ patients with primary knee oa were randomized @:@ ; @ received @ mg/day of prednisolone and @ received placebo for @ weeks .',\n",
              " 'outcome measures included pain reduction and improvement in function scores and systemic inflammation markers .',\n",
              " 'pain was assessed using the visual analog pain scale ( @-@ mm ) .',\n",
              " 'secondary outcome measures included the western ontario and mcmaster universities osteoarthritis index scores , patient global assessment ( pga ) of the severity of knee oa , and @-min walk distance ( @mwd ) .',\n",
              " 'serum levels of interleukin @ ( il-@ ) , il-@ , tumor necrosis factor ( tnf ) - , and high-sensitivity c-reactive protein ( hscrp ) were measured .',\n",
              " 'there was a clinically relevant reduction in the intervention group compared to the placebo group for knee pain , physical function , pga , and @mwd at @ weeks .',\n",
              " 'the mean difference between treatment arms ( @ % ci ) was @ ( @-@ @ ) , p < @ ; @ ( @-@ @ ) , p < @ ; @ ( @-@ @ ) , p < @ ; and @ ( @-@ @ ) , p < @ , respectively .',\n",
              " 'further , there was a clinically relevant reduction in the serum levels of il-@ , il-@ , tnf - , and hscrp at @ weeks in the intervention group when compared to the placebo group .',\n",
              " 'these differences remained significant at @ weeks .']"
            ]
          },
          "execution_count": 16,
          "metadata": {},
          "output_type": "execute_result"
        }
      ],
      "source": [
        "train_sentences=train_df['text'].to_list()\n",
        "val_sentences=val_df['text'].to_list()\n",
        "test_sentences=test_df['text'].to_list()\n",
        "train_sentences[:10]"
      ]
    },
    {
      "cell_type": "markdown",
      "metadata": {
        "id": "rs6RO_W9zJhk"
      },
      "source": [
        "### Make numeric lables (ML models require numeric labels)"
      ]
    },
    {
      "cell_type": "code",
      "execution_count": null,
      "metadata": {
        "colab": {
          "base_uri": "https://localhost:8080/"
        },
        "id": "8tiVpcXEPyCZ",
        "outputId": "656cc11b-a1e5-4397-9205-a52848804523"
      },
      "outputs": [
        {
          "name": "stderr",
          "output_type": "stream",
          "text": [
            "/usr/local/lib/python3.10/dist-packages/sklearn/preprocessing/_encoders.py:868: FutureWarning: `sparse` was renamed to `sparse_output` in version 1.2 and will be removed in 1.4. `sparse_output` is ignored unless you leave `sparse` to its default value.\n",
            "  warnings.warn(\n"
          ]
        }
      ],
      "source": [
        "from sklearn.preprocessing import OneHotEncoder\n",
        "one_hot_encoder=OneHotEncoder(sparse=False)\n",
        "train_labels_one_hot=one_hot_encoder.fit_transform(train_df['target'].to_numpy().reshape(-1,1))\n",
        "val_labels_one_hot=one_hot_encoder.transform(val_df['target'].to_numpy().reshape(-1,1))\n",
        "test_labels_one_hot=one_hot_encoder.transform(test_df['target'].to_numpy().reshape(-1,1))"
      ]
    },
    {
      "cell_type": "code",
      "execution_count": null,
      "metadata": {
        "colab": {
          "base_uri": "https://localhost:8080/"
        },
        "id": "YQCQ94SVRgEL",
        "outputId": "43365232-44b2-4fe8-c71d-517945dfdb57"
      },
      "outputs": [
        {
          "data": {
            "text/plain": [
              "<tf.Tensor: shape=(180040, 5), dtype=float64, numpy=\n",
              "array([[0., 0., 0., 1., 0.],\n",
              "       [0., 0., 1., 0., 0.],\n",
              "       [0., 0., 1., 0., 0.],\n",
              "       ...,\n",
              "       [0., 0., 0., 0., 1.],\n",
              "       [0., 1., 0., 0., 0.],\n",
              "       [0., 1., 0., 0., 0.]])>"
            ]
          },
          "execution_count": 18,
          "metadata": {},
          "output_type": "execute_result"
        }
      ],
      "source": [
        "import tensorflow as tf\n",
        "tf.constant(train_labels_one_hot)"
      ]
    },
    {
      "cell_type": "markdown",
      "metadata": {
        "id": "p9Cu1xTHTkeN"
      },
      "source": [
        "### Label Encode labels"
      ]
    },
    {
      "cell_type": "code",
      "execution_count": null,
      "metadata": {
        "colab": {
          "base_uri": "https://localhost:8080/"
        },
        "id": "W5HnB3vVRm5y",
        "outputId": "f67851a7-c9ed-4f52-fdda-d365a35b81ed"
      },
      "outputs": [
        {
          "data": {
            "text/plain": [
              "array([3, 2, 2, ..., 4, 1, 1])"
            ]
          },
          "execution_count": 19,
          "metadata": {},
          "output_type": "execute_result"
        }
      ],
      "source": [
        "# Extract labels('target' column) and encode them into integers\n",
        "from sklearn.preprocessing import LabelEncoder\n",
        "label_encoder=LabelEncoder()\n",
        "train_labels_encoded=label_encoder.fit_transform(train_df['target'].to_numpy())\n",
        "val_labels_encoded=label_encoder.transform(val_df['target'].to_numpy())\n",
        "test_labels_encoded=label_encoder.transform(test_df['target'].to_numpy())\n",
        "train_labels_encoded"
      ]
    },
    {
      "cell_type": "code",
      "execution_count": null,
      "metadata": {
        "colab": {
          "base_uri": "https://localhost:8080/"
        },
        "id": "hBBtiLQBVQn4",
        "outputId": "a8bd061a-4683-47f2-bbc5-a7f85c489122"
      },
      "outputs": [
        {
          "data": {
            "text/plain": [
              "(5,\n",
              " array(['BACKGROUND', 'CONCLUSIONS', 'METHODS', 'OBJECTIVE', 'RESULTS'],\n",
              "       dtype=object))"
            ]
          },
          "execution_count": 20,
          "metadata": {},
          "output_type": "execute_result"
        }
      ],
      "source": [
        "num_classes=len(label_encoder.classes_)\n",
        "class_names=label_encoder.classes_\n",
        "num_classes,class_names"
      ]
    },
    {
      "cell_type": "markdown",
      "metadata": {
        "id": "aeRMCXlMoOrh"
      },
      "source": [
        "### Model 0 : baseline (naive bayes text classification with tf-idf)"
      ]
    },
    {
      "cell_type": "code",
      "execution_count": null,
      "metadata": {
        "colab": {
          "base_uri": "https://localhost:8080/",
          "height": 125
        },
        "id": "uFznoGHsVwyU",
        "outputId": "6b23fbce-be37-4382-cc07-3a284db462b3"
      },
      "outputs": [
        {
          "data": {
            "text/html": [
              "<style>#sk-container-id-1 {color: black;background-color: white;}#sk-container-id-1 pre{padding: 0;}#sk-container-id-1 div.sk-toggleable {background-color: white;}#sk-container-id-1 label.sk-toggleable__label {cursor: pointer;display: block;width: 100%;margin-bottom: 0;padding: 0.3em;box-sizing: border-box;text-align: center;}#sk-container-id-1 label.sk-toggleable__label-arrow:before {content: \"▸\";float: left;margin-right: 0.25em;color: #696969;}#sk-container-id-1 label.sk-toggleable__label-arrow:hover:before {color: black;}#sk-container-id-1 div.sk-estimator:hover label.sk-toggleable__label-arrow:before {color: black;}#sk-container-id-1 div.sk-toggleable__content {max-height: 0;max-width: 0;overflow: hidden;text-align: left;background-color: #f0f8ff;}#sk-container-id-1 div.sk-toggleable__content pre {margin: 0.2em;color: black;border-radius: 0.25em;background-color: #f0f8ff;}#sk-container-id-1 input.sk-toggleable__control:checked~div.sk-toggleable__content {max-height: 200px;max-width: 100%;overflow: auto;}#sk-container-id-1 input.sk-toggleable__control:checked~label.sk-toggleable__label-arrow:before {content: \"▾\";}#sk-container-id-1 div.sk-estimator input.sk-toggleable__control:checked~label.sk-toggleable__label {background-color: #d4ebff;}#sk-container-id-1 div.sk-label input.sk-toggleable__control:checked~label.sk-toggleable__label {background-color: #d4ebff;}#sk-container-id-1 input.sk-hidden--visually {border: 0;clip: rect(1px 1px 1px 1px);clip: rect(1px, 1px, 1px, 1px);height: 1px;margin: -1px;overflow: hidden;padding: 0;position: absolute;width: 1px;}#sk-container-id-1 div.sk-estimator {font-family: monospace;background-color: #f0f8ff;border: 1px dotted black;border-radius: 0.25em;box-sizing: border-box;margin-bottom: 0.5em;}#sk-container-id-1 div.sk-estimator:hover {background-color: #d4ebff;}#sk-container-id-1 div.sk-parallel-item::after {content: \"\";width: 100%;border-bottom: 1px solid gray;flex-grow: 1;}#sk-container-id-1 div.sk-label:hover label.sk-toggleable__label {background-color: #d4ebff;}#sk-container-id-1 div.sk-serial::before {content: \"\";position: absolute;border-left: 1px solid gray;box-sizing: border-box;top: 0;bottom: 0;left: 50%;z-index: 0;}#sk-container-id-1 div.sk-serial {display: flex;flex-direction: column;align-items: center;background-color: white;padding-right: 0.2em;padding-left: 0.2em;position: relative;}#sk-container-id-1 div.sk-item {position: relative;z-index: 1;}#sk-container-id-1 div.sk-parallel {display: flex;align-items: stretch;justify-content: center;background-color: white;position: relative;}#sk-container-id-1 div.sk-item::before, #sk-container-id-1 div.sk-parallel-item::before {content: \"\";position: absolute;border-left: 1px solid gray;box-sizing: border-box;top: 0;bottom: 0;left: 50%;z-index: -1;}#sk-container-id-1 div.sk-parallel-item {display: flex;flex-direction: column;z-index: 1;position: relative;background-color: white;}#sk-container-id-1 div.sk-parallel-item:first-child::after {align-self: flex-end;width: 50%;}#sk-container-id-1 div.sk-parallel-item:last-child::after {align-self: flex-start;width: 50%;}#sk-container-id-1 div.sk-parallel-item:only-child::after {width: 0;}#sk-container-id-1 div.sk-dashed-wrapped {border: 1px dashed gray;margin: 0 0.4em 0.5em 0.4em;box-sizing: border-box;padding-bottom: 0.4em;background-color: white;}#sk-container-id-1 div.sk-label label {font-family: monospace;font-weight: bold;display: inline-block;line-height: 1.2em;}#sk-container-id-1 div.sk-label-container {text-align: center;}#sk-container-id-1 div.sk-container {/* jupyter's `normalize.less` sets `[hidden] { display: none; }` but bootstrap.min.css set `[hidden] { display: none !important; }` so we also need the `!important` here to be able to override the default hidden behavior on the sphinx rendered scikit-learn.org. See: https://github.com/scikit-learn/scikit-learn/issues/21755 */display: inline-block !important;position: relative;}#sk-container-id-1 div.sk-text-repr-fallback {display: none;}</style><div id=\"sk-container-id-1\" class=\"sk-top-container\"><div class=\"sk-text-repr-fallback\"><pre>Pipeline(steps=[(&#x27;tfidf&#x27;, TfidfVectorizer()), (&#x27;clf&#x27;, MultinomialNB())])</pre><b>In a Jupyter environment, please rerun this cell to show the HTML representation or trust the notebook. <br />On GitHub, the HTML representation is unable to render, please try loading this page with nbviewer.org.</b></div><div class=\"sk-container\" hidden><div class=\"sk-item sk-dashed-wrapped\"><div class=\"sk-label-container\"><div class=\"sk-label sk-toggleable\"><input class=\"sk-toggleable__control sk-hidden--visually\" id=\"sk-estimator-id-1\" type=\"checkbox\" ><label for=\"sk-estimator-id-1\" class=\"sk-toggleable__label sk-toggleable__label-arrow\">Pipeline</label><div class=\"sk-toggleable__content\"><pre>Pipeline(steps=[(&#x27;tfidf&#x27;, TfidfVectorizer()), (&#x27;clf&#x27;, MultinomialNB())])</pre></div></div></div><div class=\"sk-serial\"><div class=\"sk-item\"><div class=\"sk-estimator sk-toggleable\"><input class=\"sk-toggleable__control sk-hidden--visually\" id=\"sk-estimator-id-2\" type=\"checkbox\" ><label for=\"sk-estimator-id-2\" class=\"sk-toggleable__label sk-toggleable__label-arrow\">TfidfVectorizer</label><div class=\"sk-toggleable__content\"><pre>TfidfVectorizer()</pre></div></div></div><div class=\"sk-item\"><div class=\"sk-estimator sk-toggleable\"><input class=\"sk-toggleable__control sk-hidden--visually\" id=\"sk-estimator-id-3\" type=\"checkbox\" ><label for=\"sk-estimator-id-3\" class=\"sk-toggleable__label sk-toggleable__label-arrow\">MultinomialNB</label><div class=\"sk-toggleable__content\"><pre>MultinomialNB()</pre></div></div></div></div></div></div></div>"
            ],
            "text/plain": [
              "Pipeline(steps=[('tfidf', TfidfVectorizer()), ('clf', MultinomialNB())])"
            ]
          },
          "execution_count": 21,
          "metadata": {},
          "output_type": "execute_result"
        }
      ],
      "source": [
        "from sklearn.feature_extraction.text import TfidfVectorizer\n",
        "from sklearn.naive_bayes import MultinomialNB\n",
        "from sklearn.pipeline import Pipeline\n",
        "\n",
        "\n",
        "model_0=Pipeline([\n",
        "    (\"tfidf\",TfidfVectorizer()),\n",
        "     ('clf',MultinomialNB())\n",
        "])\n",
        "model_0.fit(train_sentences,train_labels_encoded)"
      ]
    },
    {
      "cell_type": "code",
      "execution_count": null,
      "metadata": {
        "colab": {
          "base_uri": "https://localhost:8080/"
        },
        "id": "ux7wqL9oo94a",
        "outputId": "86d9f4d2-e7f1-4161-c9f6-5d5b606893d8"
      },
      "outputs": [
        {
          "name": "stdout",
          "output_type": "stream",
          "text": [
            "Our baseline model achieves an accuracy of :72.18%\n"
          ]
        }
      ],
      "source": [
        "baseline_score=model_0.score(val_sentences,val_labels_encoded)\n",
        "print(f\"Our baseline model achieves an accuracy of :{baseline_score*100:.2f}%\")"
      ]
    },
    {
      "cell_type": "code",
      "execution_count": null,
      "metadata": {
        "colab": {
          "base_uri": "https://localhost:8080/"
        },
        "id": "SOlb6aWCpezl",
        "outputId": "18ab71fd-50a1-4126-c059-830575f56e64"
      },
      "outputs": [
        {
          "data": {
            "text/plain": [
              "array([4, 1, 3, 2, 2, 2, 2, 2, 4, 4, 0, 4, 1, 1, 2, 2, 4, 1, 4, 4])"
            ]
          },
          "execution_count": 23,
          "metadata": {},
          "output_type": "execute_result"
        }
      ],
      "source": [
        "baseline_preds=model_0.predict(val_sentences)\n",
        "baseline_preds[:20]"
      ]
    },
    {
      "cell_type": "code",
      "execution_count": null,
      "metadata": {
        "id": "j0Jn1RQYpy1b"
      },
      "outputs": [],
      "source": [
        "from sklearn.metrics import accuracy_score,precision_recall_fscore_support\n",
        "\n",
        "def calculate_results(y_true,y_pred):\n",
        "\n",
        "  model_accuracy=accuracy_score(y_true,y_pred)*100\n",
        "\n",
        "  model_precision,model_recall,model_f1,_=precision_recall_fscore_support(y_true,y_pred,average='weighted')\n",
        "\n",
        "  model_results={'accuracy':model_accuracy,\n",
        "                 'precision':model_precision,\n",
        "                 'recall':model_recall,\n",
        "                 'f1':model_f1}\n",
        "  return model_results"
      ]
    },
    {
      "cell_type": "code",
      "execution_count": null,
      "metadata": {
        "colab": {
          "base_uri": "https://localhost:8080/"
        },
        "id": "3iB65xbAqTZ3",
        "outputId": "fff71e56-6259-43bb-d0e3-cf55e31e1258"
      },
      "outputs": [
        {
          "data": {
            "text/plain": [
              "{'accuracy': 72.1832384482987,\n",
              " 'precision': 0.7186466952323352,\n",
              " 'recall': 0.7218323844829869,\n",
              " 'f1': 0.6989250353450294}"
            ]
          },
          "execution_count": 25,
          "metadata": {},
          "output_type": "execute_result"
        }
      ],
      "source": [
        "baseline_results=calculate_results(val_labels_encoded,\n",
        "                                   baseline_preds\n",
        "                                   )\n",
        "baseline_results"
      ]
    },
    {
      "cell_type": "markdown",
      "metadata": {
        "id": "VKMF-Auh1a6p"
      },
      "source": [
        "### Text Vectorization (tokenization)"
      ]
    },
    {
      "cell_type": "code",
      "execution_count": null,
      "metadata": {
        "id": "-rmoyk5UqgLN"
      },
      "outputs": [],
      "source": [
        "import tensorflow as tf\n",
        "from tensorflow.keras.layers import TextVectorization\n",
        "\n",
        "text_vectorizer=TextVectorization(max_tokens=None,\n",
        "                                  standardize='lower_and_strip_punctuation',\n",
        "                                  split='whitespace',\n",
        "                                  ngrams=None,\n",
        "                                  output_mode='int',\n",
        "                                  output_sequence_length=None)"
      ]
    },
    {
      "cell_type": "code",
      "execution_count": null,
      "metadata": {
        "colab": {
          "base_uri": "https://localhost:8080/"
        },
        "id": "dlZPI5HZ5il8",
        "outputId": "cc9f0a96-79cf-48dd-d71d-efbdf9fd543c"
      },
      "outputs": [
        {
          "data": {
            "text/plain": [
              "26"
            ]
          },
          "execution_count": 27,
          "metadata": {},
          "output_type": "execute_result"
        }
      ],
      "source": [
        "round((sum([len(i.split()) for i in train_sentences]))/len(train_sentences))"
      ]
    },
    {
      "cell_type": "code",
      "execution_count": null,
      "metadata": {
        "id": "wARzgYmb5sV5"
      },
      "outputs": [],
      "source": [
        "max_vocab_length=68000\n",
        "max_length=55\n",
        "\n",
        "text_vectorizer=TextVectorization(max_tokens=max_vocab_length,\n",
        "                                  output_mode='int',\n",
        "                                  output_sequence_length=max_length)"
      ]
    },
    {
      "cell_type": "code",
      "execution_count": null,
      "metadata": {
        "id": "g5UKqQUn6AJx"
      },
      "outputs": [],
      "source": [
        "text_vectorizer.adapt(train_sentences)"
      ]
    },
    {
      "cell_type": "code",
      "execution_count": null,
      "metadata": {
        "colab": {
          "base_uri": "https://localhost:8080/"
        },
        "id": "EqtMwgRS6ECP",
        "outputId": "22c30a3e-ef04-4b6f-ee79-fd61ab157725"
      },
      "outputs": [
        {
          "name": "stdout",
          "output_type": "stream",
          "text": [
            "Original Text:\n",
            "the one subject who did not complete the study did so for reasons unrelated to the study or products used .      \n",
            "\n",
            " Vectorized Version of Text:\n"
          ]
        },
        {
          "data": {
            "text/plain": [
              "<tf.Tensor: shape=(1, 55), dtype=int64, numpy=\n",
              "array([[   2,   88, 1567,   67,  112,   31,  488,    2,   17,  112, 1365,\n",
              "          11, 2312, 3294,    6,    2,   17,   16, 1703,   98,    0,    0,\n",
              "           0,    0,    0,    0,    0,    0,    0,    0,    0,    0,    0,\n",
              "           0,    0,    0,    0,    0,    0,    0,    0,    0,    0,    0,\n",
              "           0,    0,    0,    0,    0,    0,    0,    0,    0,    0,    0]])>"
            ]
          },
          "execution_count": 30,
          "metadata": {},
          "output_type": "execute_result"
        }
      ],
      "source": [
        "import random\n",
        "random_sentence=random.choice(train_sentences)\n",
        "print(f\"Original Text:\\n{random_sentence}\\\n",
        "      \\n\\n Vectorized Version of Text:\")\n",
        "text_vectorizer([random_sentence])"
      ]
    },
    {
      "cell_type": "code",
      "execution_count": null,
      "metadata": {
        "colab": {
          "base_uri": "https://localhost:8080/"
        },
        "id": "D8ymx8Mv6WrF",
        "outputId": "d61bf932-e4b7-447d-9292-986e3cccac3c"
      },
      "outputs": [
        {
          "name": "stdout",
          "output_type": "stream",
          "text": [
            "Number of words in vocab:64841\n"
          ]
        }
      ],
      "source": [
        "rct_20k_text_vocab=text_vectorizer.get_vocabulary()\n",
        "print(f\"Number of words in vocab:{len(rct_20k_text_vocab)}\")"
      ]
    },
    {
      "cell_type": "markdown",
      "metadata": {
        "id": "ooX5Ugcp65Ie"
      },
      "source": [
        "### Creating an embedding using embedding layer"
      ]
    },
    {
      "cell_type": "code",
      "execution_count": null,
      "metadata": {
        "colab": {
          "base_uri": "https://localhost:8080/"
        },
        "id": "ezItRmJv60v0",
        "outputId": "6374432b-01ca-4172-8808-39de95c86cf5"
      },
      "outputs": [
        {
          "data": {
            "text/plain": [
              "<keras.src.layers.core.embedding.Embedding at 0x7f53ac15dea0>"
            ]
          },
          "execution_count": 32,
          "metadata": {},
          "output_type": "execute_result"
        }
      ],
      "source": [
        "tf.random.set_seed(42)\n",
        "from tensorflow.keras import layers\n",
        "token_embed=layers.Embedding(input_dim=len(rct_20k_text_vocab),\n",
        "                           output_dim=128,\n",
        "                           embeddings_initializer='uniform',\n",
        "                           input_length=max_length,\n",
        "                           name='embedding_1')\n",
        "token_embed"
      ]
    },
    {
      "cell_type": "code",
      "execution_count": null,
      "metadata": {
        "colab": {
          "base_uri": "https://localhost:8080/"
        },
        "id": "r4ffLOk97ZL4",
        "outputId": "70941222-067b-4692-e9d0-0335749ee5a8"
      },
      "outputs": [
        {
          "name": "stdout",
          "output_type": "stream",
          "text": [
            "Original sentence:\n",
            "early supplementation of enteral ml and fo to premature infants with an enterostomy increased dietary protein absorption , intestinal rna , protein and n-@ epa content without altering other fa content .\n",
            "      \n",
            "\n",
            "Embedded Sentence:\n"
          ]
        },
        {
          "data": {
            "text/plain": [
              "<tf.Tensor: shape=(1, 55, 128), dtype=float32, numpy=\n",
              "array([[[ 0.04214731, -0.00433079, -0.03066005, ..., -0.04407779,\n",
              "          0.04379207, -0.02841923],\n",
              "        [ 0.03677538,  0.0486888 , -0.0115239 , ..., -0.03495695,\n",
              "         -0.04479466, -0.010386  ],\n",
              "        [-0.04738635, -0.04079632, -0.02454302, ..., -0.02661357,\n",
              "          0.00894412,  0.04725682],\n",
              "        ...,\n",
              "        [-0.02164217, -0.03443869, -0.03762767, ...,  0.00467585,\n",
              "         -0.00673243, -0.02545104],\n",
              "        [-0.02164217, -0.03443869, -0.03762767, ...,  0.00467585,\n",
              "         -0.00673243, -0.02545104],\n",
              "        [-0.02164217, -0.03443869, -0.03762767, ...,  0.00467585,\n",
              "         -0.00673243, -0.02545104]]], dtype=float32)>"
            ]
          },
          "execution_count": 33,
          "metadata": {},
          "output_type": "execute_result"
        }
      ],
      "source": [
        "random_sentence=random.choice(train_sentences)\n",
        "print(f'Original sentence:\\n{random_sentence}\\n\\\n",
        "      \\n\\nEmbedded Sentence:')\n",
        "sample_embed=token_embed(text_vectorizer([random_sentence]))\n",
        "sample_embed"
      ]
    },
    {
      "cell_type": "code",
      "execution_count": null,
      "metadata": {
        "colab": {
          "base_uri": "https://localhost:8080/"
        },
        "id": "0XADNzeX7yOf",
        "outputId": "97e2f51b-c0c9-4ab0-98a2-212e951844f1"
      },
      "outputs": [
        {
          "data": {
            "text/plain": [
              "(<tf.Tensor: shape=(128,), dtype=float32, numpy=\n",
              " array([ 0.04214731, -0.00433079, -0.03066005,  0.0299448 , -0.014991  ,\n",
              "        -0.02556324,  0.03386464,  0.03825546,  0.03456824, -0.00070305,\n",
              "        -0.0106337 , -0.02149333,  0.02568901,  0.04849778, -0.04182315,\n",
              "         0.01326176,  0.04267958,  0.0171638 , -0.00299848, -0.01468147,\n",
              "         0.02979422,  0.02594997, -0.01847594,  0.02151373,  0.02164358,\n",
              "         0.04441421,  0.01095679, -0.02608485, -0.02728972, -0.01261396,\n",
              "         0.04047641, -0.01205909,  0.0175264 ,  0.04950741,  0.03748211,\n",
              "         0.00222791,  0.02501624, -0.02497442, -0.03417852,  0.04589104,\n",
              "         0.03386685,  0.02363484, -0.04053631, -0.01227262, -0.03555083,\n",
              "        -0.02191759, -0.01455164, -0.04624523, -0.01665699, -0.00837978,\n",
              "         0.02949442, -0.03153618, -0.03421751, -0.01458118, -0.04114618,\n",
              "        -0.04758419, -0.03880256, -0.03493688,  0.03355828, -0.02339035,\n",
              "         0.0434022 , -0.0239555 ,  0.0462541 ,  0.03338236, -0.03068428,\n",
              "        -0.04922336,  0.01369032, -0.01049765,  0.03942648,  0.03124923,\n",
              "         0.03110016,  0.036118  ,  0.01356883, -0.0127513 , -0.03000199,\n",
              "        -0.03244052,  0.0177728 , -0.00733324,  0.02197633,  0.03673365,\n",
              "        -0.00337211,  0.01398711,  0.02324374, -0.04975239,  0.02980569,\n",
              "         0.00096778, -0.0205146 ,  0.04288104,  0.03291812,  0.02246777,\n",
              "        -0.04299494, -0.04638481,  0.03260852,  0.00842681, -0.02912298,\n",
              "         0.03132195,  0.02526503, -0.04852022,  0.03260351, -0.01178037,\n",
              "         0.02928369,  0.0094534 , -0.04681757, -0.01915312, -0.0195087 ,\n",
              "        -0.04543466, -0.00624185, -0.02715351, -0.01363998,  0.03823861,\n",
              "         0.02386713, -0.0391428 ,  0.00851351,  0.03532657, -0.04612142,\n",
              "         0.0029568 , -0.0273239 ,  0.04284347,  0.04592791,  0.01438912,\n",
              "        -0.03716763,  0.04092104, -0.02535548, -0.00630984,  0.04584013,\n",
              "        -0.04407779,  0.04379207, -0.02841923], dtype=float32)>,\n",
              " TensorShape([128]),\n",
              " 'early supplementation of enteral ml and fo to premature infants with an enterostomy increased dietary protein absorption , intestinal rna , protein and n-@ epa content without altering other fa content .')"
            ]
          },
          "execution_count": 34,
          "metadata": {},
          "output_type": "execute_result"
        }
      ],
      "source": [
        "sample_embed[0][0],sample_embed[0][0].shape,random_sentence"
      ]
    },
    {
      "cell_type": "code",
      "execution_count": null,
      "metadata": {
        "id": "F0M1jx9K79zm"
      },
      "outputs": [],
      "source": [
        "train_dataset=tf.data.Dataset.from_tensor_slices((train_sentences,train_labels_one_hot))\n",
        "val_dataset=tf.data.Dataset.from_tensor_slices((val_sentences,val_labels_one_hot))\n",
        "test_dataset=tf.data.Dataset.from_tensor_slices((test_sentences,test_labels_one_hot))"
      ]
    },
    {
      "cell_type": "code",
      "execution_count": null,
      "metadata": {
        "colab": {
          "base_uri": "https://localhost:8080/"
        },
        "id": "HMMN5Q8XOuKH",
        "outputId": "b549b8b2-f34a-41b5-ba44-d534bc4337c2"
      },
      "outputs": [
        {
          "data": {
            "text/plain": [
              "<_TensorSliceDataset element_spec=(TensorSpec(shape=(), dtype=tf.string, name=None), TensorSpec(shape=(5,), dtype=tf.float64, name=None))>"
            ]
          },
          "execution_count": 36,
          "metadata": {},
          "output_type": "execute_result"
        }
      ],
      "source": [
        "train_dataset"
      ]
    },
    {
      "cell_type": "code",
      "execution_count": null,
      "metadata": {
        "id": "tOGeXzggO_SQ"
      },
      "outputs": [],
      "source": [
        "train_dataset=train_dataset.batch(32).prefetch(tf.data.AUTOTUNE)\n",
        "val_dataset=val_dataset.batch(32).prefetch(tf.data.AUTOTUNE)\n",
        "test_dataset=test_dataset.batch(32).prefetch(tf.data.AUTOTUNE)"
      ]
    },
    {
      "cell_type": "code",
      "execution_count": null,
      "metadata": {
        "colab": {
          "base_uri": "https://localhost:8080/"
        },
        "id": "Y1iesgVWU9UH",
        "outputId": "4a6da472-407c-4dd7-9659-15e838e3aba2"
      },
      "outputs": [
        {
          "data": {
            "text/plain": [
              "<_PrefetchDataset element_spec=(TensorSpec(shape=(None,), dtype=tf.string, name=None), TensorSpec(shape=(None, 5), dtype=tf.float64, name=None))>"
            ]
          },
          "execution_count": 38,
          "metadata": {},
          "output_type": "execute_result"
        }
      ],
      "source": [
        "train_dataset"
      ]
    },
    {
      "cell_type": "markdown",
      "metadata": {
        "id": "D6Pwb51K3Xkj"
      },
      "source": [
        "### Model 1: Conv1 with token embedding"
      ]
    },
    {
      "cell_type": "code",
      "execution_count": null,
      "metadata": {
        "id": "dSFjogKFU-b9"
      },
      "outputs": [],
      "source": [
        "inputs=layers.Input(shape=(1,),dtype=tf.string)\n",
        "text_vectors=text_vectorizer(inputs)\n",
        "token_embeddings=token_embed(text_vectors)\n",
        "x=layers.Conv1D(64,kernel_size=5,padding='same',activation='relu')(token_embeddings)\n",
        "x=layers.GlobalAveragePooling1D()(x)\n",
        "outputs=layers.Dense(num_classes,activation='softmax')(x)\n",
        "\n",
        "model_1=tf.keras.Model(inputs,outputs)\n",
        "\n",
        "model_1.compile(loss='categorical_crossentropy',\n",
        "                optimizer=tf.keras.optimizers.Adam(),\n",
        "                metrics=['accuracy'])"
      ]
    },
    {
      "cell_type": "code",
      "execution_count": null,
      "metadata": {
        "colab": {
          "base_uri": "https://localhost:8080/"
        },
        "id": "HCsSWFm64wCm",
        "outputId": "92e874aa-d422-408a-d370-90b768108669"
      },
      "outputs": [
        {
          "name": "stdout",
          "output_type": "stream",
          "text": [
            "Model: \"model\"\n",
            "_________________________________________________________________\n",
            " Layer (type)                Output Shape              Param #   \n",
            "=================================================================\n",
            " input_1 (InputLayer)        [(None, 1)]               0         \n",
            "                                                                 \n",
            " text_vectorization_1 (Text  (None, 55)                0         \n",
            " Vectorization)                                                  \n",
            "                                                                 \n",
            " embedding_1 (Embedding)     (None, 55, 128)           8299648   \n",
            "                                                                 \n",
            " conv1d (Conv1D)             (None, 55, 64)            41024     \n",
            "                                                                 \n",
            " global_average_pooling1d (  (None, 64)                0         \n",
            " GlobalAveragePooling1D)                                         \n",
            "                                                                 \n",
            " dense (Dense)               (None, 5)                 325       \n",
            "                                                                 \n",
            "=================================================================\n",
            "Total params: 8340997 (31.82 MB)\n",
            "Trainable params: 8340997 (31.82 MB)\n",
            "Non-trainable params: 0 (0.00 Byte)\n",
            "_________________________________________________________________\n"
          ]
        }
      ],
      "source": [
        "model_1.summary()"
      ]
    },
    {
      "cell_type": "code",
      "execution_count": null,
      "metadata": {
        "colab": {
          "base_uri": "https://localhost:8080/"
        },
        "id": "1_wGJBEC8TTD",
        "outputId": "6a7bcb0e-525e-43f7-fdcb-1191a296fa38"
      },
      "outputs": [
        {
          "data": {
            "text/plain": [
              "<_PrefetchDataset element_spec=(TensorSpec(shape=(None,), dtype=tf.string, name=None), TensorSpec(shape=(None, 5), dtype=tf.float64, name=None))>"
            ]
          },
          "execution_count": 41,
          "metadata": {},
          "output_type": "execute_result"
        }
      ],
      "source": [
        "val_dataset"
      ]
    },
    {
      "cell_type": "code",
      "execution_count": null,
      "metadata": {
        "colab": {
          "base_uri": "https://localhost:8080/"
        },
        "id": "KnsDy04J5AL6",
        "outputId": "f4b44416-026a-4e64-8d8a-44de5c4375c7"
      },
      "outputs": [
        {
          "name": "stdout",
          "output_type": "stream",
          "text": [
            "Epoch 1/3\n",
            "562/562 [==============================] - 75s 131ms/step - loss: 0.9120 - accuracy: 0.6431 - val_loss: 0.6864 - val_accuracy: 0.7411\n",
            "Epoch 2/3\n",
            "562/562 [==============================] - 72s 128ms/step - loss: 0.6550 - accuracy: 0.7586 - val_loss: 0.6314 - val_accuracy: 0.7688\n",
            "Epoch 3/3\n",
            "562/562 [==============================] - 73s 129ms/step - loss: 0.6169 - accuracy: 0.7759 - val_loss: 0.5951 - val_accuracy: 0.7842\n"
          ]
        }
      ],
      "source": [
        "history_model_1=model_1.fit(train_dataset,\n",
        "                            epochs=3,\n",
        "                            steps_per_epoch=0.1*len(train_dataset),\n",
        "                            validation_data=val_dataset,\n",
        "                            validation_steps=0.1*len(val_dataset))"
      ]
    },
    {
      "cell_type": "code",
      "execution_count": null,
      "metadata": {
        "colab": {
          "base_uri": "https://localhost:8080/"
        },
        "id": "AbTZnFu78aBJ",
        "outputId": "6856c06f-eed2-48c2-b06a-a125e8cb6e66"
      },
      "outputs": [
        {
          "name": "stdout",
          "output_type": "stream",
          "text": [
            "945/945 [==============================] - 7s 7ms/step - loss: 0.5953 - accuracy: 0.7867\n"
          ]
        },
        {
          "data": {
            "text/plain": [
              "[0.5952844619750977, 0.7867072820663452]"
            ]
          },
          "execution_count": 43,
          "metadata": {},
          "output_type": "execute_result"
        }
      ],
      "source": [
        "model_1.evaluate(val_dataset)"
      ]
    },
    {
      "cell_type": "code",
      "execution_count": null,
      "metadata": {
        "colab": {
          "base_uri": "https://localhost:8080/"
        },
        "id": "IPAxC2zM841T",
        "outputId": "28c9cb0c-29e4-44ae-e534-6f1c43e03a9d"
      },
      "outputs": [
        {
          "name": "stdout",
          "output_type": "stream",
          "text": [
            "945/945 [==============================] - 6s 6ms/step\n"
          ]
        },
        {
          "data": {
            "text/plain": [
              "array([[4.07441676e-01, 1.59828946e-01, 9.94521827e-02, 3.01757336e-01,\n",
              "        3.15198191e-02],\n",
              "       [4.69626784e-01, 2.49145821e-01, 1.30496807e-02, 2.61016458e-01,\n",
              "        7.16119166e-03],\n",
              "       [1.24133304e-01, 7.75783835e-03, 1.32740207e-03, 8.66697490e-01,\n",
              "        8.40268258e-05],\n",
              "       ...,\n",
              "       [3.80268921e-06, 8.95287027e-04, 6.00697880e-04, 2.97501742e-06,\n",
              "        9.98497248e-01],\n",
              "       [6.62158057e-02, 4.30537045e-01, 1.18534200e-01, 9.48785469e-02,\n",
              "        2.89834380e-01],\n",
              "       [1.76679507e-01, 6.94207489e-01, 3.82353775e-02, 2.78587285e-02,\n",
              "        6.30188286e-02]], dtype=float32)"
            ]
          },
          "execution_count": 44,
          "metadata": {},
          "output_type": "execute_result"
        }
      ],
      "source": [
        "model_1_pred_probs=model_1.predict(val_dataset)\n",
        "model_1_pred_probs"
      ]
    },
    {
      "cell_type": "code",
      "execution_count": null,
      "metadata": {
        "colab": {
          "base_uri": "https://localhost:8080/"
        },
        "id": "Kqjkjk7_9Cg3",
        "outputId": "e0a6a3f1-ed89-49c8-ea14-0103ce0e85f3"
      },
      "outputs": [
        {
          "data": {
            "text/plain": [
              "<tf.Tensor: shape=(30212,), dtype=int64, numpy=array([0, 0, 3, ..., 4, 1, 1])>"
            ]
          },
          "execution_count": 45,
          "metadata": {},
          "output_type": "execute_result"
        }
      ],
      "source": [
        "model_1_preds=tf.argmax(model_1_pred_probs,axis=1)\n",
        "model_1_preds"
      ]
    },
    {
      "cell_type": "code",
      "execution_count": null,
      "metadata": {
        "colab": {
          "base_uri": "https://localhost:8080/"
        },
        "id": "wHKDE4_49Km0",
        "outputId": "bd8fd4e8-c72f-4680-8723-17ba6962f2e7"
      },
      "outputs": [
        {
          "data": {
            "text/plain": [
              "{'accuracy': 78.67072686349795,\n",
              " 'precision': 0.783629971207998,\n",
              " 'recall': 0.7867072686349795,\n",
              " 'f1': 0.7843066379097107}"
            ]
          },
          "execution_count": 46,
          "metadata": {},
          "output_type": "execute_result"
        }
      ],
      "source": [
        "model_1_results=calculate_results(y_true=val_labels_encoded,\n",
        "                                  y_pred=model_1_preds)\n",
        "model_1_results"
      ]
    },
    {
      "cell_type": "markdown",
      "metadata": {
        "id": "OEGRJS5ZA-ed"
      },
      "source": [
        "### Model 2:Feature Extraction with pretrained token embedding\n"
      ]
    },
    {
      "cell_type": "code",
      "execution_count": null,
      "metadata": {
        "colab": {
          "base_uri": "https://localhost:8080/"
        },
        "id": "5vcwkG-ORAkZ",
        "outputId": "956df9af-6329-4c71-fb86-a624e19bf1ec"
      },
      "outputs": [
        {
          "data": {
            "text/plain": [
              "['to investigate the efficacy of @ weeks of daily low-dose oral prednisolone in improving pain , mobility , and systemic low-grade inflammation in the short term and whether the effect would be sustained at @ weeks in older adults with moderate to severe knee osteoarthritis ( oa ) .',\n",
              " 'a total of @ patients with primary knee oa were randomized @:@ ; @ received @ mg/day of prednisolone and @ received placebo for @ weeks .',\n",
              " 'outcome measures included pain reduction and improvement in function scores and systemic inflammation markers .',\n",
              " 'pain was assessed using the visual analog pain scale ( @-@ mm ) .',\n",
              " 'secondary outcome measures included the western ontario and mcmaster universities osteoarthritis index scores , patient global assessment ( pga ) of the severity of knee oa , and @-min walk distance ( @mwd ) .',\n",
              " 'serum levels of interleukin @ ( il-@ ) , il-@ , tumor necrosis factor ( tnf ) - , and high-sensitivity c-reactive protein ( hscrp ) were measured .',\n",
              " 'there was a clinically relevant reduction in the intervention group compared to the placebo group for knee pain , physical function , pga , and @mwd at @ weeks .',\n",
              " 'the mean difference between treatment arms ( @ % ci ) was @ ( @-@ @ ) , p < @ ; @ ( @-@ @ ) , p < @ ; @ ( @-@ @ ) , p < @ ; and @ ( @-@ @ ) , p < @ , respectively .',\n",
              " 'further , there was a clinically relevant reduction in the serum levels of il-@ , il-@ , tnf - , and hscrp at @ weeks in the intervention group when compared to the placebo group .',\n",
              " 'these differences remained significant at @ weeks .',\n",
              " 'the outcome measures in rheumatology clinical trials-osteoarthritis research society international responder rate was @ % in the intervention group and @ % in the placebo group ( p < @ ) .',\n",
              " 'low-dose oral prednisolone had both a short-term and a longer sustained effect resulting in less knee pain , better physical function , and attenuation of systemic inflammation in older patients with knee oa ( clinicaltrials.gov identifier nct@ ) .',\n",
              " 'emotional eating is associated with overeating and the development of obesity .',\n",
              " 'yet , empirical evidence for individual ( trait ) differences in emotional eating and cognitive mechanisms that contribute to eating during sad mood remain equivocal .',\n",
              " 'the aim of this study was to test if attention bias for food moderates the effect of self-reported emotional eating during sad mood ( vs neutral mood ) on actual food intake .',\n",
              " 'it was expected that emotional eating is predictive of elevated attention for food and higher food intake after an experimentally induced sad mood and that attentional maintenance on food predicts food intake during a sad versus a neutral mood .',\n",
              " 'participants ( n = @ ) were randomly assigned to one of the two experimental mood induction conditions ( sad/neutral ) .',\n",
              " 'attentional biases for high caloric foods were measured by eye tracking during a visual probe task with pictorial food and neutral stimuli .',\n",
              " 'self-reported emotional eating was assessed with the dutch eating behavior questionnaire ( debq ) and ad libitum food intake was tested by a disguised food offer .',\n",
              " 'hierarchical multivariate regression modeling showed that self-reported emotional eating did not account for changes in attention allocation for food or food intake in either condition .',\n",
              " 'yet , attention maintenance on food cues was significantly related to increased intake specifically in the neutral condition , but not in the sad mood condition .',\n",
              " 'the current findings show that self-reported emotional eating ( based on the debq ) might not validly predict who overeats when sad , at least not in a laboratory setting with healthy women .',\n",
              " 'results further suggest that attention maintenance on food relates to eating motivation when in a neutral affective state , and might therefore be a cognitive mechanism contributing to increased food intake in general , but maybe not during sad mood .',\n",
              " 'although working smoke alarms halve deaths in residential fires , many households do not keep alarms operational .',\n",
              " 'we tested whether theory-based education increases alarm operability .',\n",
              " 'randomised multiarm trial , with a single arm randomly selected for use each day , in low-income neighbourhoods in maryland , usa .',\n",
              " \"intervention arms : ( @ ) full education combining a health belief module with a social-cognitive theory module that provided hands-on practice installing alarm batteries and using the alarm 's hush button ; ( @ ) hands-on practice social-cognitive module supplemented by typical fire department education ; ( @ ) current norm receiving typical fire department education only .\",\n",
              " 'four hundred and thirty-six homes recruited through churches or by knocking on doors in @-@ .',\n",
              " 'follow-up visits checked alarm operability in @ homes ( @ % ) @-@ @ years after installation .',\n",
              " 'number of homes with working alarms defined as alarms with working batteries or hard-wired and number of working alarms per home .',\n",
              " 'regressions controlled for alarm status preintervention ; demographics and beliefs about fire risks and alarm effectiveness .',\n",
              " 'homes in the full education and practice arms were more likely to have a functioning smoke alarm at follow-up ( or = @ , @ % ci @ to @ ) and had an average of @ more working alarms per home ( @ % ci @ to @ ) .',\n",
              " 'working alarms per home rose @ % .',\n",
              " 'full education and practice had similar effectiveness ( p = @ on both outcome measures ) .',\n",
              " 'without exceeding typical fire department installation time , installers can achieve greater smoke alarm operability .',\n",
              " 'hands-on practice is key .',\n",
              " 'two years after installation , for every three homes that received hands-on practice , one had an additional working alarm .',\n",
              " 'http://www.clinicaltrials.gov number nct@ .',\n",
              " 'to evaluate the performance ( efficacy , safety and acceptability ) of a new micro-adherent absorbent dressing ( urgoclean ) compared with a hydrofiber dressing ( aquacel ) in the local management of venous leg ulcers , in the debridement stage .',\n",
              " 'a non-inferiority european randomised controlled clinical trial ( rct ) was conducted in @ centres , on patients presenting with venous or predominantly venous , mixed aetiology leg ulcers at their sloughy stage ( with more than @ % of the wound bed covered with slough at baseline ) .',\n",
              " 'patients were followed over a @-week period and assessed weekly .',\n",
              " 'the primary judgement criteria was the relative regression of the wound surface area after the @-week treatment period .',\n",
              " 'secondary endpoints were the relative reduction of sloughy tissue and the percentage of patients presenting with a debrided wound .',\n",
              " 'altogether , @ patients were randomised to either urgoclean ( test group ; n = @ ) or aquacel ( control group ; n = @ ) dressings .',\n",
              " 'regarding the wound healing process predictive factors ( wound area , duration , abpi value , recurrence ) , at baseline , the two groups were well balanced , for both wound and patient characteristics .',\n",
              " 'compression therapy was administered to both groups and after a median @-day treatment period , the percentage of relative reduction of the wound surface area was very similar ( -@ % vs -@ % in the urgoclean and control groups , respectively ) .',\n",
              " 'when considering the secondary criteria at week @ , the relative reduction of sloughy tissue was significantly higher in the urgoclean group than in the control group ( -@ % vs -@,@ % ; p = @ ) .',\n",
              " 'the percentage of debrided wounds was also significantly higher in the test group ( @ % vs @ % ; p = @ ) .',\n",
              " \"this ` earth ' rct confirmed that the urgoclean dressing has similar efficacy and safety compared to aquacel .\",\n",
              " 'however , urgoclean also showed better autolytic properties than the control group in the management of venous leg ulcers at the sloughy stage .',\n",
              " 'the new urgoclean dressing therefore represents a promising therapeutic option within the current range of autolytic dressings available .',\n",
              " 'this study was sponsored by a grant from the pharmaceutical company laboratoires urgo .',\n",
              " 's. bohbot and o. tacca are employees of laboratoires urgo .',\n",
              " 's. meaume , j. dissemond and g. perceau have received monetary compensation as presenters for laboratoires urgo .',\n",
              " 'data management and statistical analyses were conducted independently by vertical ( paris , france ) .',\n",
              " 'eye movements ( em ) during recall of an aversive memory is a treatment element unique to eye movement desensitization and reprocessing ( emdr ) .',\n",
              " 'experimental studies have shown that em reduce memory vividness and/or emotionality shortly after the intervention .',\n",
              " 'however , it is unclear whether the immediate effects of the intervention reflect actual changes in memory .',\n",
              " 'the aim of this study was to test whether immediate reductions in memory vividness and emotionality persist at a @h follow up and whether the magnitude of these effects is related to the duration of the intervention .',\n",
              " \"seventy-three undergraduates recalled two negative autobiographical memories , one with em ( `` recall with em '' ) and one without ( `` recall only '' ) .\",\n",
              " 'half of participants recalled each memory for four periods of @s , the other half for eight periods of @s .',\n",
              " 'memory vividness/emotionality were self-rated at a pre-test , an immediate post-test , and a @h follow-up test .',\n",
              " 'in both duration groups , recall with em , but not recall only , caused an immediate decrease in memory vividness .',\n",
              " 'there were no immediate reductions in memory emotionality .',\n",
              " \"furthermore , only the ` eight periods ' group showed that recall with em , but not recall only , caused a decrease in both memory emotionality and memory vividness from the pre-test to the follow-up .\",\n",
              " 'only self-report measures were used .',\n",
              " 'the findings suggest that recall with em causes @-hchanges in memory vividness/emotionality , which may explain part of the emdr treatment effect , and these effects are related to intervention duration .',\n",
              " 'few studies have tested the impact of motivational interviewing ( mi ) delivered by primary care providers on pediatric obesity .',\n",
              " 'this study tested the efficacy of mi delivered by providers and registered dietitians ( rds ) to parents of overweight children aged @ through @ .',\n",
              " 'forty-two practices from the pediatric research in office settings network of the american academy of pediatrics were randomly assigned to @ of @ groups .',\n",
              " 'group @ ( usual care ) measured bmi percentile at baseline and @ - and @-year follow-up .',\n",
              " 'group @ ( provider only ) delivered @ mi counseling sessions to parents of the index child over @ years .',\n",
              " 'group @ ( provider + rd ) delivered @ provider mi sessions plus @ mi sessions from a rd. .',\n",
              " 'the primary outcome was child bmi percentile at @-year follow up .',\n",
              " 'at @-year follow-up , the adjusted bmi percentile was @ , @ , and @ for groups @ , @ , and @ , respectively .',\n",
              " 'the group @ mean was significantly ( p = @ ) lower than group @ .',\n",
              " 'mean changes from baseline in bmi percentile were @ , @ , and @ across groups @ , @ , and @ .',\n",
              " 'mi delivered by providers and rds ( group @ ) resulted in statistically significant reductions in bmi percentile .',\n",
              " 'research is needed to determine the clinical significance and persistence of the bmi effects observed .',\n",
              " 'how the intervention can be brought to scale ( in particular , how to train physicians to use mi effectively and how best to train rds and integrate them into primary care settings ) also merits future research .',\n",
              " 'antithrombin ( at ) concentrations are reduced after cardiac surgery with cardiopulmonary bypass compared with the preoperative levels .',\n",
              " 'low postoperative at is associated with worse short - and mid-term clinical outcomes .',\n",
              " 'the aim of the study is to evaluate the effects of at administration on activation of the coagulation and fibrinolytic systems , platelet function , and the inflammatory response in patients with low postoperative at levels .',\n",
              " 'sixty patients with postoperative at levels of less than @ % were randomly assigned to receive purified at ( @ iu in three administrations ) or placebo in the postoperative intensive care unit .',\n",
              " 'thirty patients with postoperative at levels greater than @ % were observed as controls .',\n",
              " 'interleukin @ ( a marker of inflammation ) , prothrombin fragment @-@ ( a marker of thrombin generation ) , plasmin-antiplasmin complex ( a marker of fibrinolysis ) , and platelet factor @ ( a marker of platelet activation ) were measured at six different times .',\n",
              " 'compared with the no at group and control patients , patients receiving at showed significantly higher at values until @ hours after the last administration .',\n",
              " 'analysis of variance for repeated measures showed a significant effect of study treatment in reducing prothrombin fragment @-@ ( p = @ ; interaction with time sample , p = @ ) and plasmin-antiplasmin complex ( p < @ ; interaction with time sample , p < @ ) values but not interleukin @ ( p = @ ; interaction with time sample , p = @ ) and platelet factor @ ( p = @ ; interaction with time sample , p = @ ) .',\n",
              " 'no difference in chest tube drainage , reopening for bleeding , and blood transfusion was observed .',\n",
              " 'antithrombin administration in patients with low at activity after surgery with cardiopulmonary bypass reduces postoperative thrombin generation and fibrinolysis with no effects on platelet activation and inflammatory response .',\n",
              " 'we evaluated patients at tertiary -lsb- both percutaneous coronary intervention ( pci ) and coronary artery bypass grafting ( cabg ) capable -rsb- and primary hospitals in the early-acs trial .',\n",
              " 'early invasive management is recommended for high-risk non-st-segment elevation acute coronary syndromes .',\n",
              " \"we evaluated outcomes in @,@ patients presenting to : tertiary sites , primary sites with transfer to tertiary sites ( `` transferred '' ) and those who remained at primary sites ( `` non-transfer '' ) .\",\n",
              " 'there were @ tertiary ( n = @,@ patients ) and @ primary hospitals -lsb- n = @,@ patients ( @ transferred ; @,@ non-transfer ) -rsb- .',\n",
              " 'significant delays occurred in time from symptom onset to angiography ( @ hr ) , pci ( @h ) , and cabg ( @ hr ) for transferred patients ( p < @ ) .',\n",
              " 'non-transfer patients had less @-day death/myocardial infarction -lsb- @ % vs. @ % ( tertiary ) ; adjusted odds ratio ( or ) : @ ( @-@ @ ) , p = @ -rsb- ; transferred ( @ % ) and tertiary patients were similar -lsb- adjusted or : @ ( @-@ @ ) , p = @ -rsb- .',\n",
              " 'non-transfer patients had lower @-year mortality -lsb- @ % vs. @ % ( tertiary ) ; adjusted hazard ratio ( hr ) : @ ( @-@ @ ) , p = @ -rsb- : there was no difference between transferred and tertiary patients -lsb- @ % vs. @ % ; adjusted hr : @ ( @-@ @ ) , p = @ -rsb- .',\n",
              " 'despite similar rates of catheterization , gusto severe/moderate bleeding within @ hr was less in non-transfer -lsb- @ % vs. @ % ( tertiary ) ; adjusted or : @ ( @-@ @ ) , p < @ -rsb- , whereas transferred ( @ % ) and tertiary patients were similar -lsb- adjusted or : @ ( @-@ @ ) , p = @ -rsb- .',\n",
              " 'there was no difference in non-cabg bleeding .',\n",
              " 'timely angiography and revascularization were often not achieved in transferred patients .',\n",
              " 'non-transferred patients presenting to primary sites had the lowest event rates and the best long-term survival .',\n",
              " 'we hypothesized that a targeted temperature of @ c as compared to that of @ c would increase survival and reduce the severity of circulatory shock in patients with shock on admission after out-of-hospital cardiac arrest ( ohca ) .',\n",
              " 'the recently published target temperature management trial ( ttm-trial ) randomized @ ohca patients with no difference in outcome between groups and no difference in mortality at the end of the trial in a predefined subgroup of patients with shock at admission .',\n",
              " 'shock was defined as a systolic blood pressure of < @ mm hg for > @ min or the need of supportive measures to maintain a blood pressure @ mmhg and/or clinical signs of end-organ hypoperfusion .',\n",
              " 'in this post hoc analysis reported here , we further analyzed the @ patients with shock at admission ; all had been randomized to receive intervention at @ c ( ttm@ ; n = @ ) or @ c ( ttm@ ; n = @ ) .',\n",
              " 'primary outcome was @-day mortality .',\n",
              " 'secondary outcomes were intensive care unit ( icu ) and @-day mortality , severity of circulatory shock assessed by mean arterial pressure , serum lactate , fluid balance and the extended sequential organ failure assessment ( sofa ) score .',\n",
              " 'there was no significance difference between targeted temperature management at @ c or @ c on @-day mortality -lsb- log-rank test , p = @ , hazard ratio @ , @ % confidence interval ( ci ) @-@ @ -rsb- or icu mortality ( @ vs. @ % , p = @ ; relative risk @ , @ % ci @-@ @ ) .',\n",
              " 'serum lactate and the extended cardiovascular sofa score were higher in the ttm@ group ( p < @ ) .',\n",
              " 'we found no benefit in survival or severity of circulatory shock with targeted temperature management at @ c as compared to @ c in patients with shock on admission after ohca .',\n",
              " 'youths with a family history of alcohol and other drug use disorders ( fh + ) are at a greater risk of developing substance use disorders than their peers with no such family histories ( fh - ) , and this increased risk may be related to impaired maturation of forebrain circuitry .',\n",
              " 'fh + individuals have shown altered forebrain activity at rest and while performing cognitive tasks .',\n",
              " 'however , it is not fully understood how forebrain activity is altered in fh + individuals , and ultimately how these alterations may contribute to substance use disorder risk .',\n",
              " 'in this study , we tested @ fh + and @ fh - youths performing a go/no-go task and examined activations in blocks with only go trials ( go only ) , blocks with @ % go and @ % no-go trials ( go/nogo ) , and a contrast of those @ blocks .',\n",
              " 'fh + youths had significantly greater cerebral activations in both the go and go/nogo blocks than fh - youths in regions including the posterior cingulate/precuneus , bilateral middle/superior temporal gyrus , and medial superior frontal gyrus with no significant group differences in the subtraction between go only and go/nogo blocks .',\n",
              " 'additionally , fh + youths had moderately slower reaction times on go trials in the go only blocks .',\n",
              " 'our findings suggest that global activation increase in fh + youths are modulated by fh density and are not specific to the inhibitory components of the task .',\n",
              " 'this pattern of increased activations in fh + youths may be at least partially due to impaired forebrain white matter development leading to greater activations/less efficient neural communication during task performance .',\n",
              " 'risk factors have been proposed for running injuries including ( a ) reduced muscular strength , ( b ) excessive joint movements and ( c ) excessive joint moments in the frontal and transverse planes .',\n",
              " \"to date , many running injury prevention programs have focused on a `` top down '' approach to strengthen the hip musculature in the attempt to reduce movements and moments at the hip , knee , and/or ankle joints .\",\n",
              " 'however , running mechanics did not change when hip muscle strength increased .',\n",
              " \"it could be speculated that emphasis should be placed on increasing the strength of the ankle joint for a `` ground up '' approach .\",\n",
              " 'strengthening of the large and small muscles crossing the ankle joint is assumed to change the force distribution for these muscles and to increase the use of smaller muscles .',\n",
              " 'this would be associated with a reduction of joint and insertion forces , which could have a beneficial effect on injury prevention .',\n",
              " 'however , training of the ankle joint as an injury prevention strategy has not been studied .',\n",
              " 'ankle strengthening techniques include isolated strengthening or movement-related strengthening such as functional balance training .',\n",
              " 'there is little knowledge about the efficacy of such training programs on strength alteration , gait or injury reduction .',\n",
              " 'novice runners will be randomly assigned to one of three groups : an isolated ankle strengthening group ( strength , n = @ ) , a functional balance training group ( balance , n = @ ) or an activity-matched control group ( control , n = @ ) .',\n",
              " 'isokinetic strength will be measured using a biodex system @ dynamometer .',\n",
              " 'running kinematics and kinetics will be assessed using @d motion analysis and a force platform .',\n",
              " 'postural control will be assessed by quantifying the magnitude and temporal structure of the center of pressure trace during single leg stance on a force platform .',\n",
              " 'the change pre - and post-training in isokinetic strength , running mechanics , and postural control variables will be compared following the interventions .',\n",
              " 'injuries rates will be compared between groups over @months .',\n",
              " 'avoiding injury will allow individuals to enjoy the benefits of participating in aerobic activities and reduce the healthcare costs associated with running injuries .',\n",
              " 'current controlled trial nct@ .',\n",
              " 'vitamin b@ deficiency causes neurologic and psychiatric disease , especially in older adults .',\n",
              " 'subacute combined degeneration is characterized by damage to the posterior and lateral spinal cord affecting the corticospinal tract .',\n",
              " 'to test corticospinal tract projections using motor evoked potentials ( meps ) by transcranial magnetic stimulation ( tms ) in asymptomatic older adults with low vitamin b@ ( b@ ) levels .',\n",
              " 'cross-sectional study of @ healthy older adults ( > @ years ) .',\n",
              " 'meps were recorded in the abductor pollicis brevis and tibialis anterior muscles , at rest and during slight tonic contraction .',\n",
              " 'central motor conduction time ( cmct ) was derived from the latency of meps and peripheral motor conduction time ( pmct ) .',\n",
              " 'neurophysiological variables were analyzed statistically according to b@ status .',\n",
              " 'median age was @ years ( @ % women ) .',\n",
              " 'twenty-six out of the @ subjects had low vitamin b@ levels ( b@ < @pmol/l ) .',\n",
              " 'meps were recorded for all subjects in upper and lower extremities .',\n",
              " 'there were no significant differences in either latency or amplitude of meps and cmct between low and normal b@ groups .',\n",
              " 'there was a significant pmct delay in the lower extremities in the low b@ group ( p = @ ) .',\n",
              " 'no subclinical abnormality of the corticospinal tract is detected in asymptomatic b@-deficient older adults .',\n",
              " 'the peripheral nervous system appears to be more vulnerable to damage attributable to this vitamin deficit .',\n",
              " 'the neurophysiological evaluation of asymptomatic older adults with lower b@ levels should be focused mainly in peripheral nervous system evaluation .',\n",
              " 'uncontrolled hypertension ( htn ) is a significant public health problem among blacks in the united states .',\n",
              " 'despite the proven efficacy of therapeutic lifestyle change ( tlc ) on blood pressure ( bp ) reduction in clinical trials , few studies have examined their effectiveness in church-based settings-an influential institution for health promotion in black communities .',\n",
              " 'using a cluster-randomized , @-arm trial design , this study evaluates the effectiveness of a faith-based tlc intervention vs health education ( he ) control on bp reduction among hypertensive black adults .',\n",
              " 'the intervention is delivered by trained lay health advisors through group tlc sessions plus motivational interviewing in @ black churches .',\n",
              " 'participants in the intervention group receive @ weekly tlc sessions targeting weight loss , increasing physical activity , fruit , vegetable and low-fat dairy intake , and decreasing fat and sodium intake , plus @ monthly individual motivational interviewing sessions .',\n",
              " 'participants in the control group attend @ weekly classes on htn and other health topics delivered by health care experts .',\n",
              " 'the primary outcome is change in bp from baseline to @ months .',\n",
              " 'secondary outcomes include level of physical activity , percent change in weight , and fruit and vegetable consumption at @ months , and bp control at @ months .',\n",
              " 'if successful , this trial will provide an alternative and culturally appropriate model for htn control through evidence-based lifestyle modification delivered in churches by lay health advisors .',\n",
              " 'the classification of clinical severity of ebstein anomaly still remains a challenge .',\n",
              " 'the aim of this study was to focus on the interaction of the pathologically altered right heart with the anatomically-supposedly-normal left heart and to derive from cardiac magnetic resonance ( cmr ) a simple imaging measure for the clinical severity of ebstein anomaly .',\n",
              " 'twenty-five patients at a mean age of @ years with unrepaired ebstein anomaly were examined in a prospective study .',\n",
              " 'disease severity was classified using cmr volumes and functional measurements in comparison with heart failure markers from clinical data , ecg , laboratory and cardiopulmonary exercise testing , and echocardiography .',\n",
              " 'all examinations were completed within @ hours .',\n",
              " 'a total right/left-volume index was defined from end-diastolic volume measurements in cmr : total right/left-volume index = ( ra + arv + frv ) / ( la+lv ) .',\n",
              " 'mean total right/left-volume index was @ ( normal values : @ ) .',\n",
              " 'this new total right/left-volume index correlated with almost all clinically used biomarkers of heart failure : brain natriuretic peptide ( r = @ ; p = @ ) , qrs ( r = @ ; p = @ ) , peak oxygen consumption/kg ( r = -@ ; p = @ ) , ventilatory response to carbon dioxide production at anaerobic threshold ( r = @ ; p = @ ) , the severity of tricuspid regurgitation ( r = @ ; p = @ ) , tricuspid valve offset ( r = @ ; p = @ ) , and tricuspid annular plane systolic excursion ( r = @ ; p = @ ) .',\n",
              " 'previously described severity indices ( -lsb- ra + arv -rsb- / -lsb- frv + la+lv -rsb- ) and frv/lv end-diastolic volume corresponded only to some parameters .',\n",
              " 'in patients with ebstein anomaly , the easily acquired index of right-sided to left-sided heart volumes from cmr correlated well with established heart failure markers .',\n",
              " 'our data suggest that the total right/left-volume index should be used as a new and simplified cmr measure , allowing more accurate assessment of disease severity than previously described scoring systems .',\n",
              " 'this study sought to investigate the association of beta-blocker therapy at discharge with clinical outcomes in patients with st-segment elevation myocardial infarction ( stemi ) after primary percutaneous coronary intervention ( pci ) .',\n",
              " 'limited data are available on the efficacy of beta-blocker therapy for secondary prevention in stemi patients .',\n",
              " 'between november @ , @ and september @ , @ , @,@ patients were enrolled in nationwide , prospective , multicenter registries .',\n",
              " 'among these , we studied stemi patients undergoing primary pci who were discharged alive ( n = @,@ ) .',\n",
              " 'we classified patients into the beta-blocker group ( n = @,@ ) and no-beta-blocker group ( n = @,@ ) according to the use of beta-blockers at discharge .',\n",
              " 'propensity-score matching analysis was also performed in @,@ patient triplets .',\n",
              " 'the primary outcome was all-cause death .',\n",
              " 'the median follow-up duration was @ days ( interquartile range : @ to @ days ) .',\n",
              " 'all-cause death occurred in @ patients ( @ % ) of the beta-blocker group versus @ patients ( @ % ) of the no-beta-blocker group ( p < @ ) .',\n",
              " 'after @:@ propensity-score matching , beta-blocker therapy was associated with a lower incidence of all-cause death ( @ % vs. @ % , adjusted hazard ratio : @ , @ % confidence interval : @ to @ , p = @ ) .',\n",
              " 'the association with better outcome of beta-blocker therapy in terms of all-cause death was consistent across various subgroups , including patients with relatively low-risk profiles such as ejection fraction > @ % or single-vessel disease .',\n",
              " 'beta-blocker therapy at discharge was associated with improved survival in stemi patients treated with primary pci .',\n",
              " 'our results support the current american college of cardiology/american heart association guidelines , which recommend long-term beta-blocker therapy in all patients with stemi regardless of reperfusion therapy or risk profile .',\n",
              " 'local anesthetic wound infiltration is widely used as an effective adjunct during multimodal postoperative pain management .',\n",
              " 'the aim of this study was to evaluate the effectiveness of continuous wound infusion of ropivacaine in postoperative pain relief , opioid sparing , incidence of nausea and vomiting , and bowel and liver function improvement in patients undergoing open hepatectomy .',\n",
              " 'forty patients undergoing open hepatectomy were enrolled in this prospective , randomized , double-blinded , placebo-controlled trial .',\n",
              " 'patients were divided into @ groups : the @ % saline continuous infusion group ( the control group ; n = @ ) and the ropivacaine continuous infusion group ( the ropi group ; n = @ ) .',\n",
              " 'outcomes measured postoperatively were pain score at rest and on movement , sufentanil consumption , incidence of nausea and vomiting , and sedation score across @ postoperative hours .',\n",
              " 'time to bowel recovery , liver function change , mean length of hospitalization , patient satisfaction , and other data after @ postoperative hours were collected until hospital discharge .',\n",
              " 'pain scores at rest were lower for the ropivacaine group and reached significance after @ and @ hours ( p < @ ) .',\n",
              " 'sufentanil consumption ( @ vs. @ g ; p < @ ) after @ hours , time to bowel recovery ( @ vs. @ d ; p < @ ) , incidence of nausea and vomiting ( @ vs. @ ; p < @ ) , and mean length of hospitalization ( @ vs. @ d ; p < @ ) were significantly reduced , and the sedation score and liver function change were also comparable between the @ groups .',\n",
              " 'there was no difference with respect to pain scores on movement , nor with respect to patient satisfaction .',\n",
              " 'surgical wound infusion with ropivacaine after hepatectomy can improve pain relief at rest and accelerate recovery and discharge .',\n",
              " 'tuberculosis ( tb ) is highly prevalent among hiv-infected people , including those receiving combination antiretroviral therapy ( cart ) , necessitating a well tolerated and efficacious tb vaccine for these populations .',\n",
              " 'we evaluated the safety and immunogenicity of the candidate tb vaccine m@/as@ in adults with well controlled hiv infection on cart .',\n",
              " 'a randomized , observer-blind , controlled trial ( nct@ ) .',\n",
              " 'hiv-infected adults on cart in switzerland were randomized @:@:@ to receive two doses , @ month apart , of m@/as@ , as@ or @ % physiological saline ( n = @ , n = @ and n = @ , respectively ) and were followed up to @ months postdose @ ( d@ ) .',\n",
              " 'individuals with cd@ cell counts below @ cells/l were excluded .',\n",
              " 'adverse events ( aes ) including hiv-specific and laboratory safety parameters were recorded .',\n",
              " 'cell-mediated ( ics ) and humoral ( elisa ) responses were evaluated before vaccination , @ month after each dose ( d@ , d@ ) and d@ .',\n",
              " 'thirty-seven individuals -lsb- interquartile range ( iqr ) cd@ cell counts at screening : @-@ cells/l ; undetectable hiv-@ viremia -rsb- were enrolled ; @ % of individuals reported previous bcg vaccination , @ % tested negative for the quantiferon-tb assay .',\n",
              " 'for m@/as@ recipients , no vaccine-related serious aes or cart-regimen adjustments were recorded , and there were no clinically relevant effects on laboratory safety parameters , hiv-@ viral loads or cd@ cell counts .',\n",
              " 'm@/as@ was immunogenic , inducing persistent and polyfunctional m@-specific cd@ t-cell responses -lsb- medians @ % ( iqr @-@ @ ) at d@ -rsb- and @ % ( @-@ @ ) at d@ , predominantly cd@lil-@tnf - , cd@lil-@ and cd@lil-@tnf-ifn - -rsb- .',\n",
              " 'all m@/as@ vaccines were seropositive for anti-m@ igg after second vaccination until study end .',\n",
              " 'm@/as@ was clinically well tolerated and immunogenic in this population , supporting further clinical evaluation in hiv-infected individuals in tb-endemic settings .',\n",
              " 'the aim of this study was to investigate whether remedial hydration ( rh ) reduces the incidence of contrast-induced nephropathy ( cin ) and short-term adverse events in st-elevation myocardial infarction ( stemi ) patients undergoing primary percutaneous coronary intervention ( pci ) .',\n",
              " 'a total of @ consecutive stemi patients were prospectively and randomly assigned into two groups : @ patients in the rh group and @ patients in the no rh ( control ) group .',\n",
              " 'the serum creatinine ( scr ) and creatinine clearance ( ccr ) levels were measured on admission and at @ , @ and @ hours after primary pci .',\n",
              " 'the rates of cin and short-term adverse events were analyzed for each group .',\n",
              " 'after surgery , the patients were categorized into four groups according to the mehran risk score : low ( @ , n = @ ) , moderate ( @-@ , n = @ ) , high ( @-@ , n = @ ) or very high ( @ , n = @ ) .',\n",
              " 'the incidence of cin in the rh group was lower than that observed in the control group ( @/@ ; @ % vs. @/@ ; @ % , p < @ ) .',\n",
              " 'the subgroup analysis showed that the rate of cin was lower in the moderate ( @/@ ; @ % vs. @/@ ; @ % , p < @ ) and significantly lower in both the high ( @/@ ; @ % vs. @/@ ; @ % , p < @ ) and very high score groups ( @/@ ; @ % vs. @/@ ; @ % , p < @ ) among the rh patients compared to the controls .',\n",
              " 'at @ , @ and @ hours after pci , the patients in the rh group exhibited lower scr levels and higher ccr levels than the patients in the control group ( both p < @ ) .',\n",
              " 'a lower incidence of in-hospital clinical events was also observed in the rh group .',\n",
              " 'remedial hydration decreases the occurrence of cin and improves the short-term prognosis of stemi patients undergoing primary pci .',\n",
              " 'an increased production of oxidizing species related to reactive oral diseases , such as chronic apical periodontitis , could have systemic implications such as an increase in cardiovascular morbidity .',\n",
              " 'based on this consideration , we conducted a prospective study to assess whether subjects affected by chronic periodontitis presented with higher values of oxidative stress than reference values before endodontic treatment , and whether endodontic treatment can reduce the oxidative imbalance and bring it back to normal in these subjects .',\n",
              " 'the authors recruited @ groups of patients from private studies and dental clinics : these patients were recruited randomly .',\n",
              " 'the oxidative balance in both patients with chronic apical periodontitis ( cap ) and healthy control patients was determined by measuring the oxidant status , using an identification of the reactive oxygen metabolites ( d-roms ) test , while the antioxidant status in these patients was determined using a biological antioxidant potential ( bap ) test .',\n",
              " 'both these tests were carried on plasma samples taken from enrolled patients .',\n",
              " 'values were measured both before the endodontic treatment of the patients with chronic apical periodontitis , and @ and @ days after treatment , and compared to those obtained from healthy control patients .',\n",
              " 'it was found that , on recruitment , the patients with chronic apical periodontitis exhibited significantly higher levels of oxidative stress than control patients , as determined by the d-roms and bap tests .',\n",
              " 'furthermore , the d-roms test values were shown to decrease and the bap test values to increase over time in patients with chronic apical periodontitis following endodontic therapy .',\n",
              " 'as the levels of oxidative stress in these patients tended to reduce and return to normal by @ days following treatment .',\n",
              " 'this study has demonstrated a positive association between chronic apical periodontitis and oxidative stress .',\n",
              " 'subjects affected by chronic apical periodontitis are exposed to a condition of oxidative stress , which is extremely dangerous to general health .',\n",
              " 'moreover , one can infer from these findings that through proper endodontic therapy , a good oxidative balance can be restored , thereby avoiding the risk of contracting the abovementioned diseases .',\n",
              " 'placebo effect has been largely studied and debated in medicine .',\n",
              " 'research focused mainly on children and adults but not on newborns .',\n",
              " 'in osteopathy , few studies documented this effect and no research has been conducted in newborns .',\n",
              " 'to assess the presence of placebo effect in newborns using sham osteopathic manipulative treatment .',\n",
              " 'randomized control trial .',\n",
              " 'neonatal intensive care unit in italy .',\n",
              " 'two groups ( @ patients each ) of preterm infants aged @-@ weeks without medical complications received routine pediatric care and osteopathic sham therapy was administrated to the study group only for the entire period of hospitalization .',\n",
              " 'primary end point was the mean reduction of length of stay at discharge .',\n",
              " 'secondary objective was the change in daily weight gain .',\n",
              " '@ newborns entered the study .',\n",
              " 'no difference between sham and control group was found for the primary outcome length of stay ( @ ; @ ; p = @ ) .',\n",
              " 'multivariate analysis showed no difference between study and control group on length of stay .',\n",
              " 'a negative association was found for gestational age ( -@ ; @ % ci -@ to -@ ; p = @ ) , birth weight ( -@ ; @ % ci -@ to -@ ; p < @ ) and milk volume at study enrollment ( -@ ; @ % ci -@ to -@ ; p = @ ) .',\n",
              " 'to the best of our knowledge , this study is the first in the field showing no placebo effect on newborns .',\n",
              " 'further discussions are opened concerning the age when placebo effect starts .',\n",
              " 'clostridium difficile infection ( cdi ) is a leading cause of diarrhoea in health care settings with symptoms ranging from mild and self-limiting to life threatening .',\n",
              " 'smt@ is a novel , non-absorbable antibiotic currently under development for the treatment of cdi .',\n",
              " 'here we report the results from a phase i study .',\n",
              " 'a double-blind , randomized , placebo-controlled study assessing safety and tolerability of single and multiple oral doses of smt@ in healthy volunteers .',\n",
              " 'pharmacokinetic assessments included blood and faecal sampling .',\n",
              " 'the effect of food on systemic exposure and analysis of the gut microbiota were also included .',\n",
              " 'fifty-six healthy male subjects were enrolled .',\n",
              " 'following single oral doses of up to @,@ mg in the fasted state , plasma concentrations of smt@ were generally below the lower limit of quantification .',\n",
              " 'in the fed state levels ranged from @ to @ ng/ml after single dosing and after repeat dosing at day @ from @ to @ ng/ml .',\n",
              " 'following single and multiple oral doses of smt@ , mean daily faecal concentrations increased with increasing dose level and were significantly above the typical mic range for c. difficile ( @-@ @ g/ml ) .',\n",
              " 'at @ mg bid , mean ( sd ) faecal concentrations of @,@ ( @ ) g/g and @,@ ( @ ) g/g were determined on days @ and @ of dosing respectively .',\n",
              " 'no notable metabolites were detected in faeces .',\n",
              " 'overall , all doses of smt@ were well tolerated both as single oral doses or bid oral doses for @ days .',\n",
              " 'the majority ( @ % ) of adverse events ( aes ) were classified as gastrointestinal disorders and were mild in severity , resolving without treatment .',\n",
              " 'the gut microbiota was analysed in the multiple dose groups with minimal changes observed in the bacterial groups analysed except for total clostridia which were reduced to below the limit of detection by day @ of dosing .',\n",
              " 'oral administration of smt@ was considered safe and well tolerated and was associated with negligible plasma concentrations after single and multiple doses .',\n",
              " 'in addition , minimal disruption of normal gut microbiota was noted , confirming the highly selective spectrum of the compound .',\n",
              " 'these results support the further clinical development of smt@ as an oral therapy for cdi .',\n",
              " 'current controlled trials .',\n",
              " 'isrctn@ .',\n",
              " 'while overall survival for most common cancers in australia is improving , the rural-urban differential has been widening , with significant excess deaths due to lung , colorectal , breast and prostate cancer in regional australia .',\n",
              " 'internationally a major focus on understanding variations in cancer outcomes has been later presentation to healthcare and later diagnosis .',\n",
              " 'approaches to reducing time to diagnosis of symptomatic cancer include public symptom awareness campaigns and interventions in primary care to improve early cancer detection .',\n",
              " 'this paper reports the protocol of a factorial cluster-randomised trial of community and general practice ( gp ) level interventions to reduce the time to diagnosis of cancer in rural western australia ( wa ) .',\n",
              " 'the community intervention is a symptom awareness campaign tailored for rural australians delivered through a community engagement model .',\n",
              " 'the gp intervention includes a resource card with symptom risk assessment charts and local referral pathways implemented through multiple academic detailing visits and case studies .',\n",
              " 'participants are eligible if recently diagnosed with breast , colorectal , lung or prostate cancer who reside in specific regions of rural wa with a planned sample size of @ .',\n",
              " 'the primary outcome is the total diagnostic interval , defined as the duration from first symptom ( or date of cancer screening test ) to cancer diagnosis .',\n",
              " 'secondary outcomes include cancer stage , healthcare utilisation , disease-free status , survival at @ and @years and cost-effectiveness .',\n",
              " 'ethics approval has been granted by the university of western australia and from all relevant hospital recruitment sites in wa .',\n",
              " 'results of this trial will be reported in peer-reviewed publications and in conference presentations .',\n",
              " 'australian new zealand clinical trials registry ( anzctr ) .',\n",
              " 'actrn@ .',\n",
              " 'this study aimed to evaluate whether incidental ct findings of emphysema , airway thickening and bronchiectasis , as seen on ct scans performed for other non-pulmonary clinical indications , are associated with future acute exacerbations of copd resulting in hospitalisation or death .',\n",
              " 'this multicentre prospective case-cohort study comprised @ subjects who underwent routine diagnostic chest ct for non-pulmonary indications .',\n",
              " 'using a case-cohort approach , we visually graded ct scans from cases and a random sample of @ % of the baseline cohort ( n = @ ) for emphysema severity ( range @-@ ) , airway thickening ( range @-@ ) and bronchiectasis ( range @-@ ) .',\n",
              " 'we used weighted cox proportional hazards analysis to assess the independent association between ct findings and hospitalisation or death due to copd exacerbation .',\n",
              " 'during a median follow-up of @ years ( maximum @ years ) , @ copd events were identified .',\n",
              " 'the risk of experiencing a future acute exacerbation of copd resulting in hospitalisation or death was significantly increased in subjects with severe emphysema ( score @ ) and severe airway thickening ( score @ ) .',\n",
              " 'the respective hrs were @ ( @ % ci @ to @ ) and @ ( @ % ci @ to @ ) .',\n",
              " 'severe bronchiectasis ( score @ ) was not significantly associated with increased risk of adverse events ( hr @ ; @ % ci @ to @ ) .',\n",
              " 'morphological correlates of copd such as emphysema and airway thickening detected on ct scans obtained for other non-pulmonary indications are strong independent predictors of subsequent development of acute exacerbations of copd resulting in hospitalisation or death .',\n",
              " 'to explore the feasibility of making a preoperative diagnosis of lung adenocarcinoma shown as ground-glass nodule ( ggn ) on computed tomography ( ct ) .',\n",
              " 'a total of @ ggn lesions proved pathologically were divided randomly into a and b groups .',\n",
              " 'then each group was further divided pathologically into preinvasive lesion , minimal invasive adenocarcinoma ( mia ) and invasive adenocarcinoma ( iac ) subgroups .',\n",
              " 'group a ( n = @ ) , size of lesion , proportion of ground glass opacity ( ggo ) composition of lesion , long diameter , longest diameter and size of solid component in lesion were measured on ct so as to establish the ct diagnostic standard of lung adenocarcinoma shown as ggn on ct. .',\n",
              " 'group b ( n = @ ) was employed to evaluate the accuracy of the above ct diagnostic standard .',\n",
              " 'spss @ software was used for statistical analysis .',\n",
              " 'significant statistic significance existed in all parameters among all groups ( p < @ ) .',\n",
              " 'all parameters were correlated the pathologic type of lesion .',\n",
              " 'the differences were statistically significant ( p = @ ) .',\n",
              " 'through the receiver operating characteristic ( roc ) curve , between groups of preinvasive lesion and mia , each parameter had a medium diagnostic value of @-@ @ ; between groups of mia and iac , size of lesion and long diameter of solid component in lesion had a medium diagnostic value of @-@ @ , longest diameter of solid component , size of solid component in lesion and proportion of ggo composition of lesion had a high diagnostic value with an auc of > @ .',\n",
              " 'the ct diagnostic standard , derived from group a , was used to analyze the pathologic type of group b. and t no significant statistic significance existed between ct preoperative diagnosis and operative pathologic diagnosis ( p > @ ) .',\n",
              " 'the correct diagnosis rates of size of lesion , proportion of ggo composition of lesion , long diameter , longest diameter and size of solid component in lesion were @ % , @ % , @ % , @ % and @ % respectively .',\n",
              " 'based upon size of lesion , proportion of ggo composition of lesion , long diameter , longest diameter and size of solid component in lesion , preoperative ct examination may be used to determine the pathological types of lung adenocarcinoma shown as ggn .',\n",
              " 'tonsillectomy surgery is associated with severe postoperative pain that usually requires analgesics including opioids .',\n",
              " 'pain control is still a big problem after tonsillectomy surgery .',\n",
              " 'we aimed to evaluate the efficacy of preemptive analgesia using montelukast for pediatric post-tonsillectomy pain management .',\n",
              " 'this is the first-time use of montelukast in post-tonsillectomy pain .',\n",
              " 'double-blind , controlled-randomized study .',\n",
              " 'university teaching and research hospital .',\n",
              " 'a total of @ children , aged @ to @ years , american society of anesthesiologist class i-ii , scheduled for elective tonsillectomy were enrolled in this clinical trial study .',\n",
              " 'the patients were randomized into @ groups : the montelukast group ( group m , n = @ ) and control group ( group c , n = @ ) .',\n",
              " 'group m recieved an oral montelukast tablet and group c recieved placebo at @pm on the morning before surgery .',\n",
              " 'post-tonsillectomy pain was evaluated with the wong-baker faces scale during the @ hours after surgery .',\n",
              " \"patients ' intraoperative hemodynamic parameters and intraoperative and postoperative complications were recorded .\",\n",
              " 'there were statistically significant differences between group c and group m for wong-baker faces pain rating scale scores ( p < @ ) .',\n",
              " 'in the @ hours after surgery , the total number of patients using rescue analgesics was higher in group c than in group m , and the difference was statistically significant ( p < @ ) .',\n",
              " 'there was no significant difference in demographic parameters ( p > @ ) .',\n",
              " 'there were no significant differences in postoperative nausea and vomiting , otalgia , trismus , fever , or halitosis between the groups ( p > @ ) .',\n",
              " 'preemptive montelukast can be used safely to reduce the serious pain caused by tonsillectomy in children .',\n",
              " 'metastatic colon cancer patients are treated with the chemotherapy regimens , folfox and folfiri , in either order .',\n",
              " 'so far , we can not predict the response of chemotherapeutic agent , so it is necessary to find which regimen is adequate before starting chemotherapy .',\n",
              " 'enrolled patients are randomized into either conventional treatment or planned treatment preceded by pretreatment genetic analysis .',\n",
              " 'blood samples of patients in planned treatment group ( n = @ ) were analyzed for the genetic polymorphism before selection of chemotherapeutic agents .',\n",
              " 'target genes were xpd-@ , gstp-@-@ , xrcc@-@ for oxaliplatin , ugt@a@ for irinotecan .',\n",
              " 'the response was measured by computed tomographic scan after completion of three cycles of chemotherapy .',\n",
              " 'overall response rate was significantly higher in planned group ( @ % vs. @ % , p = @ ) .',\n",
              " 'in folfox group , response rate was significantly improved in the planned patients ( @ % vs. @ % , p = @ ) .',\n",
              " \"in folfiri group , the difference did n't reach statistical significance ( @ % vs. @ % , p = @ ) .\",\n",
              " 'we found significantly improved response rates in the chemotherapy of metastatic colon cancer by pretreatment genetic analysis , especially in folfox group .',\n",
              " 'cardiac arrest causes ischaemic brain injury .',\n",
              " 'arterial carbon dioxide tension ( paco@ ) is a major determinant of cerebral blood flow .',\n",
              " 'thus , mild hypercapnia in the @ h following cardiac arrest may increase cerebral blood flow and attenuate such injury .',\n",
              " 'we describe the carbon control and cardiac arrest ( ccc ) trial .',\n",
              " 'the ccc trial is a pilot multicentre feasibility , safety and biological efficacy randomized controlled trial recruiting adult cardiac arrest patients admitted to the intensive care unit after return of spontaneous circulation .',\n",
              " 'at admission , using concealed allocation , participants are randomized to @ h of either normocapnia ( paco@ @ to @ mmhg ) or mild hypercapnia ( paco@ @ to @ mmhg ) .',\n",
              " 'key feasibility outcomes are recruitment rate and protocol compliance rate .',\n",
              " 'the primary biological efficacy and biological safety measures are the between-groups difference in serum neuron-specific enolase and s@b protein levels at @ h , @ h and @ h. secondary outcome measure include adverse events , in-hospital mortality , and neurological assessment at @ months .',\n",
              " 'the trial commenced in december @ and , when completed , will provide clinical evidence as to whether targeting mild hypercapnia for @ h following intensive care unit admission for cardiac arrest patients is feasible and safe and whether it results in decreased concentrations of neurological injury biomarkers compared with normocapnia .',\n",
              " 'trial results will also be used to determine whether a phase iib study powered for survival at @ days is feasible and justified .',\n",
              " 'australian new zealand clinical trials registry actrn@ .',\n",
              " 'for decades thiopental has been considered as the hypnotic drug of choice for intracranial surgery .',\n",
              " 'however , total intravenous anesthesia performed with thiopental is associated with delayed recovery , whereas early post-operative neurological evaluation is critical .',\n",
              " 'for this reason , target controlled infusion ( tci ) of propofol is increasingly used for maintenance of anesthesia .',\n",
              " 'however , a thiopental tci has never been assessed for this purpose .',\n",
              " 'we tested the hypothesis that a thiopental tci provides an acceptable way to achieve early recovery compared to a propofol tci during supratentorial surgery .',\n",
              " 'eighty patients undergoing elective craniotomy for a supratentorial tumor were randomized to receive either a propofol tci ( group p ) or a thiopental tci ( group t ) .',\n",
              " 'both groups received a sufentanil tci and the bispectral index was monitored .',\n",
              " 'the primary end-point was time to tracheal extubation .',\n",
              " 'secondary end-points were per - and post-operative hemodynamics as well as respiratory and recovery parameters .',\n",
              " 'assessment of study end-points was performed by an intensive care specialist blinded ( like the patient ) to the received hypnotic .',\n",
              " 'time to extubation was significantly ( p < @ ) shorter in group p ( median @ minutes ; interquartile range @-@ minutes ) than in group t ( median @ minutes ; interquartile range @-@ minutes ) .',\n",
              " 'similarly , the recovery parameters were significantly better in group p than in group t.',\n",
              " 'there was no difference between groups in terms of patient characteristics and hemodynamic parameters .',\n",
              " 'even with tci and bispectral index monitoring , thiopental is associated with an inappropriate delayed recovery from supratentorial surgery compared to propofol tci .',\n",
              " 'to investigate the effects of conservative therapy applied before arthroscopic subacromial decompression on the clinical outcome in patients with stage @ shoulder impingement syndrome .',\n",
              " 'sixty-eight patients having stage @ shoulder impingement syndrome and treated with arthroscopic subacromial decompression were included in the study .',\n",
              " 'we divided these patients into @ groups , whereby @ ( @ % ) patients received conservative therapy before arthroscopic subacromial decompression and @ ( @ % ) patients did not receive conservative therapy .',\n",
              " 'we compared both groups in terms of the the constant , ucla , and vas scores for shoulder pain before and after arthroscopic subacromial decompression .',\n",
              " 'constant , ucla , and vas scores were statistically significantly improved in both groups after arthroscopic subacromial decompression ( p < @ ) .',\n",
              " 'constant , ucla , and vas scores before arthroscopic subacromial decompression were statistically better in group @ than in group @ ( p < @ ) .',\n",
              " 'no statistically significant difference was found between the groups in terms of constant , ucla , and vas scores after arthroscopic subacromial decompression ( p > @ ) .',\n",
              " 'conservative therapy applied in patients with stage @ shoulder impingement syndrome before arthroscopic subacromial decompression does not have a positive contribution on the clinical outcome after arthroscopic subacromial decompression .',\n",
              " 'obstructive sleep apnea is associated with considerable health risks .',\n",
              " 'although continuous positive airway pressure ( cpap ) can mitigate these risks , effectiveness can be reduced by inadequate adherence to treatment .',\n",
              " 'we evaluated the clinical safety and effectiveness of upper-airway stimulation at @ months for the treatment of moderate-to-severe obstructive sleep apnea .',\n",
              " 'using a multicenter , prospective , single-group , cohort design , we surgically implanted an upper-airway stimulation device in patients with obstructive sleep apnea who had difficulty either accepting or adhering to cpap therapy .',\n",
              " 'the primary outcome measures were the apnea-hypopnea index ( ahi ; the number of apnea or hypopnea events per hour , with a score of @ indicating moderate-to-severe apnea ) and the oxygen desaturation index ( odi ; the number of times per hour of sleep that the blood oxygen level drops by @ percentage points from baseline ) .',\n",
              " 'secondary outcome measures were the epworth sleepiness scale , the functional outcomes of sleep questionnaire ( fosq ) , and the percentage of sleep time with the oxygen saturation less than @ % .',\n",
              " 'consecutive participants with a response were included in a randomized , controlled therapy-withdrawal trial .',\n",
              " 'the study included @ participants ; @ % were men .',\n",
              " 'the mean age was @ years , and the mean body-mass index ( the weight in kilograms divided by the square of the height in meters ) was @ .',\n",
              " 'the median ahi score at @ months decreased @ % , from @ events per hour to @ events per hour ( p < @ ) ; the odi score decreased @ % , from @ events per hour to @ events per hour ( p < @ ) .',\n",
              " 'secondary outcome measures showed a reduction in the effects of sleep apnea and improved quality of life .',\n",
              " 'in the randomized phase , the mean ahi score did not differ significantly from the @-month score in the nonrandomized phase among the @ participants in the therapy-maintenance group ( @ and @ events per hour , respectively ) ; the ahi score was significantly higher ( indicating more severe apnea ) among the @ participants in the therapy-withdrawal group ( @ vs. @ events per hour , p < @ ) .',\n",
              " 'the odi results followed a similar pattern .',\n",
              " 'the rate of procedure-related serious adverse events was less than @ % .',\n",
              " 'in this uncontrolled cohort study , upper-airway stimulation led to significant improvements in objective and subjective measurements of the severity of obstructive sleep apnea .',\n",
              " '( funded by inspire medical systems ; star clinicaltrials.gov number , nct@ . )',\n",
              " 'to identify facilitators and barriers to clinical trial implementation in aboriginal health services .',\n",
              " 'indepth interview study with thematic analysis .',\n",
              " 'six aboriginal community-controlled health services and one government-run service involved in the kanyini guidelines adherence with the polypill ( kgap ) study , a pragmatic randomised controlled trial that aimed to improve adherence to indicated drug treatments for people at high risk of cardiovascular disease .',\n",
              " '@ health care providers and @ aboriginal and torres strait islander patients .',\n",
              " 'a fundamental enabler was that participants considered the research to be governed and endorsed by the local health service .',\n",
              " 'that the research was perceived to address a health priority for communities was also highly motivating for both providers and patients .',\n",
              " 'enlisting the support of aboriginal and torres strait islander staff champions who were visible to the community as the main source of information about the trial was particularly important .',\n",
              " 'the major implementation barrier for staff was balancing their service delivery roles with adherence to often highly demanding trial-related procedures .',\n",
              " \"this was partially alleviated by the research team 's provision of onsite support and attempts to make trial processes more streamlined .\",\n",
              " 'although more intensive support was highly desired , there were usually insufficient resources to provide this .',\n",
              " 'despite strong community and health service support , major investments in time and resources are needed to ensure successful implementation and minimal disruption to already overstretched , routine services .',\n",
              " 'trial budgets will necessarily be inflated as a result .',\n",
              " 'funding agencies need to consider these additional resource demands when supporting trials of a similar nature .',\n",
              " 'to compare the effect of incomplete caries removal ( icr ) and indirect pulp capping ( ipc ) with calcium hydroxide ( ch ) or an inert material ( wax ) on color , consistency and contamination of the remaining dentin of primary molars .',\n",
              " 'this double-blind , parallel-design , randomized controlled trial included @ children presenting one primary molar with deep caries lesion .',\n",
              " 'children were randomly assigned after icr to receive ipc with ch or wax .',\n",
              " 'all teeth were then restored with resin composite .',\n",
              " 'baseline dentin color and consistency were evaluated after icr , and dentin samples were collected for contamination analyses using scanning electron microscopy .',\n",
              " 'after @ months , restorations were removed and the three parameters were re-evaluated .',\n",
              " 'in both groups , dentin became significantly darker after @ months .',\n",
              " 'no cases of yellow dentin were observed after @ months with ch compared to @ % of the wax cases ( p < @ ) .',\n",
              " 'a statistically significant difference over time was observed only for ch regarding consistency .',\n",
              " 'ch stimulated a dentin hardening process in a statistically higher number of cases than wax ( @ % vs. @ % ; p = @ ) .',\n",
              " 'contamination changed significantly over time in ch and wax without significant difference between groups .',\n",
              " 'it was concluded that ch and wax arrested the carious process of the remaining carious dentin after indirect pulp capping , but ch showed superior dentin color and consistency after @ months .',\n",
              " 'in literature there is a general consensus that the use of the mirror improves proprioception .',\n",
              " 'during rehabilitation the mirror is an important instrument to improve stability .',\n",
              " 'in some sports , such as dancing , mirrors are widely used during training .',\n",
              " 'the purpose of this study is to evaluate the effectiveness of the use of a mirror on balance in young dancers .',\n",
              " 'sixty-four young dancers ( ranging from @-@ years ) were included in this study .',\n",
              " 'thirty-two attending lessons with a mirror ( mirror - group ) were compared to @ young dancers that attended the same lessons without a mirror ( non-mirror group ) .',\n",
              " 'balance was evaluated by bess ( balance error scoring system ) , which consists of three stances ( double limb , single limb , and tandem ) on two surfaces ( firm and foam ) .',\n",
              " 'the errors were assessed at each stance and summed to create the two subtotal scores ( firm and foam surface ) and the final total score ( bess ) .',\n",
              " 'the bess was performed at recruitment ( t@ ) and after @months of dance lessons ( t@ ) .',\n",
              " 'the repeated measures anova analysis showed that for the bess total score there is a difference due to the time ( f = @ ; p < @ ) .',\n",
              " 'no other differences due to the group or to the time of measurement were found ( p > @ ) .',\n",
              " 'the analysis of the multiple regression model showed the influence of the values at t@ for every bess items and the dominance of limb for stability on an unstable surface standing on one or two legs .',\n",
              " 'these preliminary results suggest that the use of a mirror in a ballet classroom does not improve balance acquisition of the dancer .',\n",
              " 'on the other hand , improvement found after @months confirms that at the age of the dancers studied motor skills and balance can easily be trained and improved .',\n",
              " 'long-term follow-up studies documenting maintenance of treatment effects are fewin adolescent anorexia nervosa ( an ) .',\n",
              " 'this exploratory study reports relapse from full remission and attainment of remission during a @-year open follow-up period using a convenience sample of a subgroup of @ % ( n = @ ) from an original cohort of @ participants who completed a randomized clinical trial comparing family-based therapy ( fbt ) and adolescent-focused individual therapy ( aft ) .',\n",
              " 'follow-up assessments were completed up to @years posttreatment ( average , @ years ) .',\n",
              " 'available participants completed the eating disorder examination as well as self-report measures of self-esteem and depression at @ to @ years posttreatment .',\n",
              " 'two participants ( @ % ) relapsed ( fbt : n = @ , @ % ; aft : n = @ , @ % ) , on average @ years ( sd = @ years ) after remission was achieved at @-year follow-up .',\n",
              " 'ten new participants ( @ % ) achieved remission ( fbt : n = @ , @ % ; aft : n = @ , @ % ) .',\n",
              " 'mean time to remission for this group was @ years ( sd = @ years ) from @-year follow-up .',\n",
              " 'there were no differences based on treatment group assignment in either relapse from full remission or new remission during long-term follow-up .',\n",
              " 'other psychopathology was stable over time .',\n",
              " 'there were few changes in the clinical presentation of participants who were assessed at long-term follow-up .',\n",
              " 'these data suggest that outcomes are generally stable posttreatment regardless of treatment type once remission is achieved .',\n",
              " 'clinical trial registration information-effectiveness of family-based versus individual psychotherapy in treating adolescents with anorexia nervosa ; http://www.clinicaltrials.gov/; nct@ .',\n",
              " 'coronary artery bypass grafting using the radial artery has , since the @s , gone through a revival .',\n",
              " 'observational studies have indicated better long-term patency when using radial arteries .',\n",
              " 'therefore , radial artery might be preferred especially in younger patients where long time patency is important .',\n",
              " 'during the last @years different endoscopic techniques to harvest the radial artery have evolved .',\n",
              " 'endoscopic radial artery harvest only requires a small incision near the wrist in contrast to open harvest , which requires an incision from the elbow to the wrist .',\n",
              " 'however , it is unknown whether the endoscopic technique results in fewer complications or a graft patency comparable to open harvest .',\n",
              " 'when the radial artery has been harvested , there are two ways to use the radial artery as a graft .',\n",
              " 'one way is sewing it onto the aorta and another is sewing it onto the mammary artery .',\n",
              " 'it is unknown which technique is the superior revascularisation technique .',\n",
              " 'the neo trial is a randomised clinical trial with a @ factorial design .',\n",
              " 'we plan to randomise @ participants into four intervention groups : ( @ ) mammario-radial endoscopic group ; ( @ ) aorto-radial endoscopic group ; ( @ ) mammario-radial open surgery group ; and ( @ ) aorto-radial open surgery group.the hand function will be assessed by a questionnaire , a clinical examination , the change in cutaneous sensibility , and the measurement of both sensory and motor nerve conduction velocity at @months postoperatively .',\n",
              " 'all the postoperative complications will be registered , and we will evaluate muscular function , scar appearance , vascular supply to the hand , and the graft patency including the patency of the central radial artery anastomosis .',\n",
              " 'a patency evaluation by multi-slice computer tomography will be done at one year postoperatively.we expect the nerve conduction studies and the standardised neurological examinations to be able to discriminate differences in hand function comparing endoscopic to open harvest of the radial artery .',\n",
              " 'the trial also aims to show if there is any patency difference between mammario-radial compared to aorto-radial revascularisation techniques but this objective is exploratory .',\n",
              " 'clinicaltrials.gov identifier : nct@.danish ethics committee number : h-@-@-@ .',\n",
              " 'danish data protection agency : @-@-@ / jr. n :@ -@ .',\n",
              " 'knowledge of essential amino acid requirements in infants is important because excessive intake of protein can lead to increased long-term morbidity such as obesity .',\n",
              " 'a deficient intake may lead to suboptimal growth and impaired neurodevelopment .',\n",
              " 'the current recommended branched-chain amino acid requirements in infants aged @-@ mo are based on the amino acid content of human milk .',\n",
              " 'we quantified the requirements for isoleucine , leucine , and valine for term neonates by using the indicator amino acid oxidation method with -lsb- @ - ( @ ) c -rsb- phenylalanine as the indicator .',\n",
              " 'fully enterally fed term infants received randomly graded amounts of isoleucine ( @-@ mg kg ( -@ ) d ( -@ ) ) , leucine ( @-@ mg kg ( -@ ) d ( -@ ) ) , or valine ( @-@ mg kg ( -@ ) d ( -@ ) ) as part of an elemental formula .',\n",
              " 'data are expressed as means sds .',\n",
              " 'eighty-three asian , term neonates ( mean sd birth weight : @ @ kg ; gestational age : @ @ wk ) were studied at a postnatal age of @ @ d. mean requirements for isoleucine , leucine , and valine ( measured in boys only ) were @ mg kg ( -@ ) d ( -@ ) ( r ( @ ) = @ , p < @ ) , @ mg kg ( -@ ) d ( -@ ) ( r ( @ ) = @ , p < @ ) , and @ mg kg ( -@ ) d ( -@ ) ( r ( @ ) = @ , p = @ ) , respectively .',\n",
              " 'current human milk-based recommendations for isoleucine and valine in term infants aged @-@ mo are correct .',\n",
              " 'however , the current recommendation for leucine ( @ mg kg ( -@ ) d ( -@ ) ) is higher than the mean requirement of @ mg kg ( -@ ) d ( -@ ) that we determined in this study .',\n",
              " 'this trial was registered at www.trialregister.nl as ntr@ .',\n",
              " 'we wanted to confirm the benefit of mometasone furoate ( mf ) in preventing acute radiation reactions , as shown in a previous study ( bostrm et al , radiother oncol @ ; @:@ -@ ) .',\n",
              " 'the study was a double-blind comparison of mf with d ( diprobase ) , administered daily from the start of radiation therapy for @ weeks in patients receiving breast radiation therapy , @ gy in @-gy fractions daily over @ weeks .',\n",
              " 'the primary endpoint was mean modified radiation therapy oncology group ( rtog ) score .',\n",
              " 'mean rtog scores were significantly less for mf than for d ( p = @ ) .',\n",
              " 'maximum rtog and mean erythema scores were significantly less for mf than for d ( p = @ and p = @ , respectively ) .',\n",
              " 'the dermatology life quality index ( dlqi ) score was significantly less for mf than for d at weeks @ and @ when corrected for hospital anxiety and depression ( had ) questionnaire scores .',\n",
              " 'mf cream significantly reduces radiation dermatitis when applied to the breast during and after radiation therapy .',\n",
              " 'for the first time , we have shown a significantly beneficial effect on quality of life using a validated instrument ( dlqi ) , for a topical steroid cream .',\n",
              " 'we believe that application of this cream should be the standard of care where radiation dermatitis is expected .',\n",
              " 'to compare the interstage cardiac catheterization hemodynamic and angiographic findings between shunt types for the pediatric heart network single ventricle reconstruction trial .',\n",
              " 'the trial , which randomized subjects to a modified blalock-taussig shunt ( mbts ) or right ventricle-to-pulmonary artery shunt ( rvpas ) for the norwood procedure , demonstrated the rvpas was associated with a smaller pulmonary artery diameter but superior @-month transplant-free survival .',\n",
              " 'we analyzed the pre-stage ii catheterization data for the trial subjects .',\n",
              " 'the hemodynamic variables and shunt and pulmonary angiographic data were compared between shunt types ; their association with @-month transplant-free survival was also evaluated .',\n",
              " 'of @ randomized subjects , @ underwent pre-stage ii catheterization .',\n",
              " 'a smaller size , lower aortic and superior vena cava saturation , and higher ventricular end-diastolic pressure were associated with worse @-month transplant-free survival .',\n",
              " 'the mbts group had a lower coronary perfusion pressure ( @ vs @ mm hg ; p < @ ) and greater pulmonary blood flow/systemic blood flow ratio ( @ vs @ , p = @ ) .',\n",
              " 'a greater pulmonary blood flow/systemic blood flow ratio increased the risk of death or transplantation only in the rvpas group ( p = @ ) .',\n",
              " 'the mbts group had fewer shunt ( @ % vs @ % , p = @ ) and severe left pulmonary artery ( @ % vs @ % , p = @ ) stenoses , larger mid-main branch pulmonary artery diameters , and greater nakata indexes ( @ vs @ , p < @ ) .',\n",
              " 'compared with the rvpas subjects , the mbts subjects had more hemodynamic abnormalities related to shunt physiology , and the rvpas subjects had more shunt or pulmonary obstruction of a severe degree and inferior pulmonary artery growth at pre-stage ii catheterization .',\n",
              " 'a lower body surface area , greater ventricular end-diastolic pressure , and lower superior vena cava saturation were associated with worse @-month transplant-free survival .',\n",
              " 'it has been hypothesized that the development of diabetic polyneuropathy ( dpn ) is due to swelling of the nerve , as well as thickening and stiffening of the surrounding ligaments , causing chronic compression of nerves .',\n",
              " 'we aimed to examine the effect of surgical decompression of the tibial nerve on the mean cross-sectional area ( csa ) .',\n",
              " 'we performed a randomized controlled trial of @ subjects with painful dpn diagnosed using the diabetic neuropathy score .',\n",
              " 'a computer randomized for the surgery arm of the study .',\n",
              " 'a control group consisting of @ healthy subjects was included .',\n",
              " 'an experienced sonographer measured the csa and thickness-to-width ( t/w ) ratio of the tibial nerve , as well as the thickness of the flexor retinaculum .',\n",
              " 'csa is significantly larger in patients with painful dpn ( @ @ mm ( @ ) ) than in control subjects ( @ @ mm ( @ ) ) , p = @ .',\n",
              " 'the t/w ratio in patients with painful dpn is @ and in control subjects @ , p = @ .',\n",
              " 'patients with dpn have a significantly thicker retinaculum ( @ mm ) than control subjects ( @ mm ) , p < @ .',\n",
              " 'mean follow-up was @ weeks ( range @-@ ) .',\n",
              " 'difference between baseline and follow-up in the operated leg was @ mm ( @ ) and in the control leg @ mm ( @ ) , p = @ .',\n",
              " 'decompression of the tibial nerve does not result in a significant difference between baseline and follow-up in csa using ultrasound between the operated and control leg .',\n",
              " 'ultrasound measurements show a significantly increased csa , a significantly thicker retinaculum , and a significantly increased t/w ratio in patients with painful dpn compared with healthy control subjects .',\n",
              " 'clinical trial reg .',\n",
              " 'no .',\n",
              " 'ntr@ , www.trialregister.nl .',\n",
              " 'a community-based randomized trial was conducted in costa rica to evaluate the hpv-@ / @ as@-adjuvanted vaccine ( nct@ ) .',\n",
              " 'the primary objective was to evaluate efficacy of the vaccine to prevent cervical intraepithelial neoplasia @ or more severe disease ( cin@ + ) associated with incident hpv-@ / @ cervical infections .',\n",
              " 'secondary objectives were to evaluate efficacy against cin@ + associated with incident cervical infection by any oncogenic hpvs and to evaluate duration of protection against incident cervical infection with hpv-@ / @ .',\n",
              " 'vaccine safety and immunogenicity over the @-year follow-up were also evaluated .',\n",
              " 'we randomized ( @ hpv arm ; @ control arm ) , vaccinated ( hpv-@ / @ or hepatitis a ) and followed ( median @ months ) @ healthy women aged @-@ years .',\n",
              " '@ women ( @ hpv arm ; @ control arm ) were included in the according to protocol analysis for efficacy .',\n",
              " 'the full cohort was evaluated for safety .',\n",
              " 'immunogenicity was considered on a subset of @ ( hpv-@ ) and @ ( hpv-@ ) women .',\n",
              " 'hpv type was assessed by pcr on cervical specimens .',\n",
              " 'immunogenicity was assessed using elisa and inhibition enzyme immunoassays .',\n",
              " 'disease outcomes were histologically confirmed .',\n",
              " 'vaccine efficacy and @ % confidence intervals ( @ % ci ) were computed .',\n",
              " 'vaccine efficacy was @ % ( @ % ci : @-@ @ ; n = @ events total ) against hpv-@ / @ associated cin@ + , @ % ( @ % ci : @-@ @ ; n = @ events total ) against cin@ + associated with non-hpv-@ / @ oncogenic hpvs and @ % ( @ % ci : @-@ @ ; n = @ events total ) against cin@ + irrespective of hpv type .',\n",
              " 'the vaccine had an acceptable safety profile and induced robust and long-lasting antibody responses .',\n",
              " 'our findings confirm the high efficacy and immunogenicity of the hpv-@ / @ vaccine against incident hpv infections and cervical disease associated with hpv-@ / @ and other oncogenic hpv types .',\n",
              " 'these results will serve as a benchmark to which we can compare future findings from the ongoing extended follow-up of participants in the costa rica trial .',\n",
              " 'registered with clinicaltrials.gov : nct@ .',\n",
              " 'there is a long-held concept among spine surgeons that endoscopic lumbar discectomy procedures are reserved for small-contained disc herniation ; @-year follow-up has not been reported .',\n",
              " 'the purpose of this study is to assess microendoscopic discectomy ( med ) in patients with large uncontained lumbar disc herniation ( the antero-posterior diameter of the extruded fragment is @-@ mm or more on axial cuts of mri ) and report long-term outcome .',\n",
              " 'one hundred eighty-five patients with med or standard open discectomy underwent follow-up for @ years .',\n",
              " 'primary ( clinical ) outcomes data included numerical rating scale ( nrs ) for back and leg symptoms and oswestry disability index ( odi ) to quantify pain and disability , respectively .',\n",
              " 'secondary ( objective ) outcomes data included operative time , blood loss , postoperative analgesics , length of hospital stay , time to return to work , reoperation and complication rate , patient satisfaction index ( psi ) , and modified ( macnab ) criteria .',\n",
              " 'at the end of the follow-up , the leg pain relief was statistically significant for both groups .',\n",
              " 'nrs back pain , odi , psi and macnab criteria showed significant deterioration for control group .',\n",
              " 'secondary outcomes data of med group were significantly better than the control group .',\n",
              " 'large , uncontained , lumbar disc herniations can be sufficiently removed using med which is an effective alternative to open discectomy procedures with remarkable long-term outcome .',\n",
              " 'although the neurological outcome of the two procedures is the same , the morbidity of med is significantly less than open discectomy .',\n",
              " 'maximum benefit can be gained if we adhere to strict selection criteria .',\n",
              " 'the optimum indication is single - or multi-level radiculopathy secondary to a single-level , large , uncontained , lumbar disc herniation .',\n",
              " 'heart failure ( hf ) patients suffer from frequent and repeated hospitalizations , causing a substantial economic burden on society .',\n",
              " 'hospitalizations can be reduced considerably by better compliance with self-care .',\n",
              " \"home telemonitoring has the potential to boost patients ' compliance with self-care , although the results are still contradictory .\",\n",
              " 'a randomized controlled trial was conducted in order to study whether the multidisciplinary care of heart failure patients promoted with telemonitoring leads to decreased hf-related hospitalization .',\n",
              " 'hf patients were eligible whose left ventricular ejection fraction was lower than @ % , nyha functional class @ , and who needed regular follow-up .',\n",
              " 'patients in the telemonitoring group ( n = @ ) measured their body weight , blood pressure , and pulse and answered symptom-related questions on a weekly basis , reporting their values to the heart failure nurse using a mobile phone app .',\n",
              " 'the heart failure nurse followed the status of patients weekly and if necessary contacted the patient .',\n",
              " 'the primary outcome was the number of hf-related hospital days .',\n",
              " 'control patients ( n = @ ) received multidisciplinary treatment according to standard practices .',\n",
              " \"patients ' clinical status , use of health care resources , adherence , and user experience from the patients ' and the health care professionals ' perspective were studied .\",\n",
              " 'adherence , calculated as a proportion of weekly submitted self-measurements , was close to @ % .',\n",
              " 'no difference was found in the number of hf-related hospital days ( incidence rate ratio -lsb- irr -rsb- = @ , p = @ ) , which was the primary outcome .',\n",
              " 'the intervention group used more health care resources : they paid an increased number of visits to the nurse ( irr = @ , p < @ ) , spent more time at the nurse reception ( mean difference of @ minutes , p < @ ) , and there was a greater number of telephone contacts between the nurse and intervention patients ( irr = @ , p < @ for nurse-induced contacts and irr = @ , p = @ for patient-induced contacts ) .',\n",
              " \"there were no statistically significant differences in patients ' clinical health status or in their self-care behavior .\",\n",
              " 'the technology received excellent feedback from the patient and professional side with a high adherence rate throughout the study .',\n",
              " \"home telemonitoring did not reduce the number of patients ' hf-related hospital days and did not improve the patients ' clinical condition .\",\n",
              " 'patients in the telemonitoring group contacted the cardiology outpatient clinic more frequently , and on this way increased the use of health care resources .',\n",
              " 'clinicaltrials.gov nct@ ; http://clinicaltrials.gov/show/nct@ ( archived by webcite at http://www.webcitation.org/@ufxick@z ) .',\n",
              " 'probiotics help maintain balance in composition of the gut microbiota , and have been considered as a potential treatment for obesity .',\n",
              " 'this study was conducted in order to assess the effects of probiotics when combined with herbal medicine in treatment of obesity .',\n",
              " 'probiotics were tested for the ability to modulate gut microbiota , gut permeability , and endotoxin level , which may have correlation with factors involved in obesity .',\n",
              " 'a randomized , double-blind , placebo controlled study was conducted , in which patients with higher bmi ( > @kg/m ( @ ) ) and waist circumference ( > @cm ) were enrolled and randomly assigned to receive bofutsushosan with either probiotics or placebo capsules for a period of eight weeks .',\n",
              " 'assessment of body composition parameters , metabolic biomarkers , endotoxin level , gut permeability , and fecal bacteria in stool was performed at baseline and at week @ .',\n",
              " 'the study was registered at the clinical research information service , approved by the korea national institute of health ( kct@ ) .',\n",
              " 'although both groups showed a significant reduction in weight and waist circumference ( p = @ ) , no significant differences in body composition and metabolic markers were observed .',\n",
              " 'in correlation analysis , change in body composition showed positive correlation with endotoxin level ( r = @ , p < @ for bw ; and r = @ , p < @ for fat mass ) and the population of gut lactobacillus plantarum ( r = @ , p < @ for bw ; and r = @ , p < @ for bmi ) .',\n",
              " 'the gram negative bacterial population in gut also exhibited positive correlation with changes in body composition ( wc ) and total cholesterol level ( r = @ , and @ , for the former and later parameters , respectively , p < @ for both ) .',\n",
              " 'while , the profile of gut bifidobacterium breve population showed negative correlation with endotoxin level ( r = -@ , p < @ ) .',\n",
              " 'correlations between gut microbiota and change in body composition indicate that probiotics may influence energy metabolism in obesity .',\n",
              " 'correlation between endotoxin level and weight reduction indicates that probiotics may play an important role in prevention of endotoxin production , which can lead to gut microbiota dysbiosis associated with obesity .',\n",
              " 'the objective of this study is to analyze the effects of a @-week indoor intermittent training program on lung function , physical capacity , body composition and quality of life in children with asthma .',\n",
              " 'participants were randomized in an experimental group ( eg , @ children , age = @ years ) and in a control group ( cg , @ children , age = @ years ) .',\n",
              " 'the training program was conducted indoors and consisted of alternating high - and low-intensity stimuli , for three sessions of @min/week , for @ weeks .',\n",
              " \"physical exercise and sports activities were organized to follow the criteria of the american college of sports medicine ( @ ) and previous interventions ' studies .\",\n",
              " 'in eg , there was a significant improvement ( p < @ ) in fev@ , fev@ , @mwt , handgrip strength , cmj and flexibility .',\n",
              " 'reductions in bmi and fat mass as well as an increase in quality of life were all shown .',\n",
              " 'the dyspnea index decreased significantly and there were no episodes of eia .',\n",
              " 'there is a significant positive correlation ( p < @ ) between the fev@ with handgrip strength and @mwt and a negative correlation with fat mass .',\n",
              " 'an indoor intermittent training program with these characteristics has improved lung function , physical capacity , body composition and quality of life in children with asthma .',\n",
              " 'these training adaptations are particularly relevant for those patients suffering from asthma as a regular physical exercise routine will greatly improve their quality of life .',\n",
              " 'to observe the efficacy of catgut implantation at back-shu points in treatment of mild perimenopausal depression of kidney , deficiency and liver stagnation syndrome and analyze its essential function on target symptoms .',\n",
              " 'forty-five cases were randomized into a catgut implantation group ( @ cases ) and atid acupuncture group ( @ cases ) .',\n",
              " 'in the catgut implantation group , catguts were implanted at shenshu ( bl @ ) , ganshu ( bl @ ) , xinshu ( bl @ ) , pishu ( bl @ ) , etc. , once every week .',\n",
              " 'in the acupuncture group , the conventional acupuncture was applied to the same acupoints as the catgut implantation group , once every two days .',\n",
              " 'the : treatment of @ weeks made one session , and continuous @ sessions were required .',\n",
              " 'the efficacy was evaluated in , @ sessions .',\n",
              " 'the follow-up started in the @th week .',\n",
              " 'before treatment , after treatment and in the follow-up period , kupperman score and the total score in hamilton depression scale ( hamd ) , as well as the factor score were observed in the patients separately .',\n",
              " 'kupperman score , the total hamd score and the scores in the items of anxiety/somatization , retardation , sleep disorder and cognitive disorder after treatment were all reduced significantly as compared with those before treatment in the two groups ( p < @ , p < @ ) .',\n",
              " 'in the follow-up period , the difference in kupperman was not significant in comparison with that after treatment in the catgut implantation : group ( p > @ ) .',\n",
              " 'the total hamd score and sleep disorder were reduced significantly as compared with those after treatment in the catgut implantation group ( both p < @ ) ; in the acupuncture group , kupperman score , the total hamd score and sleep disorder were all increased as compared with those after treatment ( all p < @ ) .',\n",
              " 'in ; the catgut implantation group , the total hamd score was lower than that in the acupuncture group ( p < @ ) , and the scores in the items of retardation and sleep disorder were reduced significantly as compared with those in the acupuncture group ( both p < @ ) .',\n",
              " 'the catgut implantation at back-shu points alleviates perimenopasual sympton is in patients of mild perimenopausal depression of kidney deficiency and liver stagnation syndrome .',\n",
              " \"this therapy effectively relieves depressive disorders by regulating the target symptoms such as anxiety / somatization , retardation , sleep disorder and cognitive ' disorder .\",\n",
              " 'the long-term efficacy of this therapy is better than the conventional acupuncture .',\n",
              " 'up to @ % of patients who undergo a percutaneous coronary intervention show some limitation in the use of drug-eluting stents .',\n",
              " 'the aim of this study was to evaluate if titanium-nitride-oxide-coated stents could be a good alternative to everolimus-eluting stents in diabetic patients .',\n",
              " 'a total of @ diabetic patients with lesions at moderate risk of restenosis ( exclusion criteria : diameter < @ mm or length > @ mm in vessels < @mm , chronic occlusion ) were randomized to a titanium group ( @ patients ) or an everolimus group ( @ patients ) .',\n",
              " 'baseline characteristics were well balanced ; @ % of patients were insulin dependent .',\n",
              " 'at @ year , the incidence of major adverse cardiac events ( death , nonfatal myocardial infarction , stroke , or repeat target vessel revascularization ) was significantly higher in the titanium group than in the everolimus group ( total , @ % vs @ % ; p = @ ; noninsulin-dependent subgroup , @ % vs @ % ; p = @ ; insulin-dependent subgroup , @ % vs @ % ; p = @ ) .',\n",
              " 'the incidence of death , nonfatal myocardial infarction , stroke , or any revascularization was @ % in the titanium group and @ % in the everolimus group ( p = @ ) .',\n",
              " 'target lesion and vessel revascularizations occurred in @ % compared with @ % ( p = @ ) and in @ % compared with @ % ( p = @ ) in the titanium and everolimus groups , respectively .',\n",
              " 'angiographic follow-up at @ months showed significantly less late lumen loss in the everolimus group ( in-segment , @ -lsb- standard deviation , @ ) mm vs -@ -lsb- @ -rsb- mm ; in-stent , @ -lsb- @ -rsb- mm vs @ -lsb- @ -rsb- mm ; p < @ ) .',\n",
              " 'the everolimus-eluting stent is superior to the titanium stent for clinical and angiographic end points in diabetic patients with lesions at moderate risk of restenosis .',\n",
              " 'to evaluate the safety of the fixed combination of ibuprofen and famotidine compared with ibuprofen alone from two @-week , multicenter , double-blind trials designed to evaluate the comparative incidence of endoscopically documented upper gastrointestinal ulcers and a @-week double-blind extension study .',\n",
              " 'safety was analyzed by pooling data from the two double-blind trials and the follow-on study .',\n",
              " 'safety was assessed by monitoring the incidence , causality , and severity of adverse events ( aes ) .',\n",
              " 'in the pivotal efficacy and safety trials , discontinuation rates due to any cause and dyspepsia were significantly lower for the ibuprofen/famotidine combination versus ibuprofen alone .',\n",
              " 'other than dyspepsia , gastrointestinal and cardiovascular aes of special interest were similar .',\n",
              " 'events judged to be treatment related were significantly lower with the ibuprofen/famotidine combination ( @ % vs. @ % ) .',\n",
              " 'in the safety extension population , there were no differences in the discontinuation rates and the reporting of aes or serious aes ( saes ) between the two groups .',\n",
              " 'gastrointestinal-related events were similar between the groups .',\n",
              " 'incidence of cardiovascular-related aes of special interest were @ % ( ibuprofen/famotidine ) and @ % ( ibuprofen ) ( p = @ ) , possibly due to a higher number of rheumatoid arthritis patients in the combination group .',\n",
              " 'of these , @ % were reports of hypertension ( @ % ibuprofen/famotidine vs. @ % ibuprofen ) .',\n",
              " 'three cases of hypertension in the ibuprofen/famotidine group were considered treatment related .',\n",
              " 'the probability of a cardiovascular event decreased during days @-@ of treatment and remained low with continued treatment .',\n",
              " 'one-year safety data from two pivotal trials and a long-term extension study indicate that the ibuprofen/famotidine combination demonstrates a favorable gastrointestinal safety profile and more patients continued on therapy compared to ibuprofen alone .',\n",
              " 'no new safety signals have been identified .',\n",
              " 'these data offer additional evidence supporting a new therapeutic option to improve gastrointestinal safety and adherence for patients who require long-term ibuprofen .',\n",
              " 'to compare the effects of volume-controlled ventilation ( vcv ) and pressure-controlled volume-guaranteed ( pcv-vg ) mode during one-lung ventilation ( olv ) on circulation , pulmonary function and lung injury .',\n",
              " '@ february to @ march in ningbo no@ .',\n",
              " 'hospital cardiothoracic surgery , @ patients aged @ to @ years ( asa grade ii-iii ) undergoing elective thoracoscopic lobectomy were randomly divided into vcv group and pcv-vg group , with @ cases in each group .',\n",
              " 'after anesthesia induction and endotracheal intubation , endobronchial blocker was inserted to start olv .',\n",
              " 'heart rate ( hr ) , mean arterial pressure ( map ) , measured tidal volume ( tv ) , peak airway pressure ( ppeak ) , airway resistance ( raw ) , chest compliance ( cdyn ) and the end-tidal carbon dioxide pressure ( petco ( @ ) ) were recorded at the time point of @ minutes after turning to the lateral position , @ minutes and @ minutes after olv , and @ minutes after the resumption of two lung ventilation .',\n",
              " 'in the meanwhile , arterial blood gas analysis was conducted to measure indicators of ph , oxygen tension ( pao ( @ ) ) and carbon dioxide partial pressure ( paco ( @ ) ) .',\n",
              " 'blood was drawn before induction , @ hour after olv and @ hour after the end of surgery , and the concentration of interleukin-@ ( il-@ ) and tumor necrosis factor-alpha ( tnf - ) were detected by enzyme-linked immunosorbent assay ( elisa ) .',\n",
              " 'hr , map , tv , petco ( @ ) , ph and paco ( @ ) in two groups at the time point of @ minutes after turning to the lateral position , @ minutes and @ minutes after olv , and @ minutes after the resumption of two lung ventilation showed no significant difference ( p > @ ) .',\n",
              " 'at the point of @ minutes after turning to the lateral position and @ minutes after two lung ventilation , ppeak and cdyn of two groups were significantly different ( p < @ ) ( ppeak :@ @ cmh ( @ ) o , @ @ cmh ( @ ) o for vcv group and @ @ cmh ( @ ) o , @ @ cmh ( @ ) o for pcv-vg group ; cdyn : @ @ ml/cmh ( @ ) o , @ @ ml/cmh@o for vcv group and @ @ ml/cmh ( @ ) o , @ @ ml/cmh ( @ ) o for pcv-vg group ) .',\n",
              " 'compared with vcv group , pcv-vg group showed a lower ppeak @ minutes and @ minutes after olv -lsb- ( @ @ cmh ( @ ) o ) vs ( @ @ cmh ( @ ) o ) and ( @ @ cmh ( @ ) o ) vs ( @ @ cmh ( @ ) o ) with a higher cdyn at the same point ( @ @ ml/cmh ( @ ) o ) vs ( @ @ ml/cmh ( @ ) o ) and @ @ ml/cmh ( @ ) o ) vs ( @ @ ml/cmh ( @ ) o ) -rsb- ( p < @ ) .',\n",
              " 'compared with vcv group,il-@ and tnf - of pcv-vg group @ hour after olv and @ hour after the end of surgery were significantly lower ( p < @ ) ( il-@ : @ @ vs @ @ pg/ml and @ @ vs @ @ pg/ml ; tnf - : @ @ vs @ @ pg/ml and @ @ vs. @ @ pg/ml ) .',\n",
              " 'during one-lung ventilation in thoracoscopic lobectomy , pcv-vg mode has a competitive advantage over vcv mode in terms of pulmonary function and lung protection .',\n",
              " 'we compared the recovery profile of propofol and sevoflurane when used for maintenance of anesthesia in elective day care operative procedures .',\n",
              " 'one hundred asa physical status i and ii patients , aged between @ and @ years , were randomly assigned to receive either propofol-nitrous oxide or sevoflurane-nitrous oxide maintenance of anesthesia .',\n",
              " 'early and intermediate recovery in terms of cognitive and ambulatory functions was recorded .',\n",
              " 'psychomotor testing , in the form of trieger dot test and digit symbol substitution test , were performed before surgery and in the post-anesthesia care unit at @ min , @ min , @ h , @ h , and @ h following nitrous oxide switch-off to evaluate intermediate recovery .',\n",
              " \"there were no significant differences in recovery of early cognitive functions between the two groups , except that patients in the sevoflurane group were more responsive at around @ min following nitrous oxide switch-off and `` recalled address '' earlier than patients in the propofol group .\",\n",
              " \"there was no significant difference in between the two groups with regard to `` home-readiness . ''\",\n",
              " \"recovery from sevoflurane anesthesia , especially with regard to cognitive functions , may be slightly faster than from propofol , but the difference is not sufficiently significant to affect the time to `` home-readiness '' in patients undergoing day care surgery .\",\n",
              " \"vertigo imposes considerable health restrictions with significant impact on the patient 's quality of life .\",\n",
              " 'the most effective antivertigo agent is undetermined thus far .',\n",
              " 'this study was performed to assess whether promethazine has superior vertigo reduction compared with lorazepam in ed patients .',\n",
              " 'in this randomized , double-blind , parallel group trial @ patients were assigned ( @:@ ratio ) to receive either promethazine , @ mg intravenously , or lorazepam , @ mg intravenously .',\n",
              " 'primary endpoint was mean change in vertigo intensity at @ hours measured using visual analog scale ( vas ) .',\n",
              " 'secondary endpoints were mean change in nausea score , need for second dose of study medications , and adverse events ( aes ) .',\n",
              " 'promethazine was associated with significantly more reduction ( @ mm ) in vertigo than lorazepam ( @ mm , p < @ ) .',\n",
              " 'mean change in nausea score @ hours after drug injection on the vas was @ mm for promethazine and @ for lorazepam ( p = @ ) .',\n",
              " 'the most frequently reported aes were lethargy ( @ % in lorazepam group , @ % in promethazine group , p = @ ) and drowsiness ( @ % for promethazine , @ % for lorazepam , p = @ ) .',\n",
              " 'our study demonstrated the evidence that promethazine is superior to lorazepam in management of peripheral vertigo and vertigo-related nausea in ed adults .',\n",
              " 'during lower limb lengthening , distraction-induced muscle pain and surrounding joint contractures are frustrating complications for which few effective treatments are available .',\n",
              " 'we evaluated botulinum toxin type a ( btx-a ) injection in the calf muscles during human tibial distraction osteogenesis .',\n",
              " 'we hypothesized that it may decrease calf pain and increase rom of the surrounding joints by reducing muscle stiffness .',\n",
              " 'between april @ and january @ , we evaluated @ patients undergoing bilateral tibia lengthening who met prespecified inclusion criteria .',\n",
              " 'all patients underwent stature lengthening with lengthening over a nail or lengthening and then nailing .',\n",
              " 'btx-a ( @iu ) was injected at the calf muscle only in one leg for each patient and the same amount of sterile normal saline was injected into the other leg as a control .',\n",
              " 'selection of the leg receiving the toxin was randomized .',\n",
              " 'clinical evaluation included a vas score for calf pain and measurement of rom of the knees and ankles and calf circumference , with evaluations performed in a double-blinded manner .',\n",
              " 'side-to-side differences were analyzed until the end of consolidation phase .',\n",
              " 'minimum followup was @months ( mean , @months ; range , @-@months ) .',\n",
              " 'the distraction rate and the final length gain were similar in the treated and control limbs .',\n",
              " 'a priori power analysis suggested that @ legs were required to achieve statistical significance of @ with @ % of power to detect a @ % difference in treatment effect between treatment and control groups .',\n",
              " 'there were no differences in calf pain , knee and ankle rom , and maximal calf circumferences between the two legs at each time point .',\n",
              " 'local injection of @iu btx-a at the human calf muscle does not appear to reduce calf pain or help enhance rom of the knee and ankle during tibial lengthening .',\n",
              " 'however , the small sample size provided sufficient power to detect only relatively large clinical effects ; future , larger trials will be needed to determine whether smaller differences are present .',\n",
              " 'level ii , therapeutic study .',\n",
              " 'see instructions for authors for a complete description of levels of evidence .',\n",
              " 'to assess potential of preoperative therapy with local steroid and non-steroid anti-inflammatory drugs ( saids and nsaids ) for prolonging the hypotensive effect of trabeculectomy .',\n",
              " 'a total of @ patients with primary open-angle glaucoma planed for trabeculectomy were randomized into @ groups of @ each : @ groups that differed in the studied drug ( nepafenac , dexamethasone , or their non-fixed combination ) and a control group with no preoperative therapy .',\n",
              " 'the patients instilled @ drop of either drug b.i.d. for @ weeks before the surgery and were examined each day of the first week and then at weeks @ , @ , @ and months @ , @ , and @ .',\n",
              " 'the rate of postoperative surgical and medical interventions ( needling , needling revision , hypotensive therapy ) was used for outcome evaluation .',\n",
              " 'postoperative needling was required in @ % of the controls , @ % of the nsaids and @ % of the saids patients as well as @ % the combination-therapy patients .',\n",
              " 'needling revision had to be performed in @ % of patients from the control group and @ % of patients from the nsaids group .',\n",
              " 'patients from the steroid and combination-therapy groups had no need in needling procedure .',\n",
              " 'further hypotensive therapy was required in @ % of the control group , @ % of the nsaids group , @ % of the saids group and @ % of the combination-therapy group .',\n",
              " 'during the first postoperative year complete success of the treatment was achieved in @ % of the controls , @ % of the nsaids patients , @ % of the saids patients , and @ % of those under combination therapy .',\n",
              " 'qualified success during the same period was achieved in @ % of cases .',\n",
              " 'preoperative local anti-inflammatory therapy helped to increase the one-year complete success rate after trabeculectomy as compared with the controls .',\n",
              " 'the most significant hypotensive effect was noted in the combination-therapy group ( @ % ) , less significant -- in the steroid and non-steroid monotherapy groups ( @ % and @ % correspondingly ) .',\n",
              " 'a negative correlation was noted between the use of nepafenac and dexamethasone and other measures aimed at increasing the hypotensive effect of glaucoma surgery .',\n",
              " 'case-control study ; ecological study .',\n",
              " 'to examine the efficacy of wearing compression stockings to prevent muscle damage and to maintain running performance during a marathon competition .',\n",
              " 'exercise-induced muscle damage has been identified as one of the main causes of the progressive decrease in running and muscular performance found during marathon races .',\n",
              " 'thirty-four experienced runners were pair-matched for age , anthropometric data , and best race time in the marathon , and randomly assigned to a control group ( n = @ ) of runners who wore conventional socks or to a group of runners who wore foot-to-knee graduated compression stockings ( n = @ ) .',\n",
              " 'before and after the race , a sample of venous blood was obtained , and jump height and leg muscle power were measured during a countermovement jump .',\n",
              " 'serum myoglobin and creatine kinase concentrations were determined as blood markers of muscle fiber damage .',\n",
              " 'total race time was not different between the control group and the compression stockings group ( @ @ and @ @ minutes , respectively ; p = @ ) .',\n",
              " 'between the control group and the compression stockings group , postrace reductions in leg muscle power ( -@ % @ % versus -@ % @ % , respectively ; p = @ ) and jump height ( -@ % @ % versus -@ % .',\n",
              " '@ % , respectively ; p = @ ) were similar .',\n",
              " 'at the end of the race , there were no differences between the control group and the compression stockings group in serum myoglobin ( @ @ ngml ( -@ ) versus @ @ ngml ( -@ ) , respectively ; p = @ ) and creatine kinase concentration ( @ @ ul ( -@ ) versus @ @ ul ( -@ ) , respectively ; p = @ ) .',\n",
              " 'the use of compression stockings did not improve running pace and did not prevent exercise-induced muscle damage during the marathon .',\n",
              " 'wearing compression stockings during long-distance running events is an ineffective strategy to avoid the deleterious effects of muscle damage on running performance .',\n",
              " 'therapy , level @b .',\n",
              " 'the relationships of left ventricular ( lv ) longitudinal and circumferential systolic dysfunction with diastolic performance in hypertensive patients have never been compared .',\n",
              " \"in @ asymptomatic hypertensive patients , circumferential function was assessed with the use of midwall fractional shortening ( mfs ) and stress-corrected mfs ( scmfs ) , whereas longitudinal function was assessed with the use of left atrioventricular plane displacement ( avpd ) and systolic mitral annulus velocity ( s ' ) .\",\n",
              " \"early diastolic annular velocity ( e ' ) and the e/e ' ratio were measured .\",\n",
              " 'global longitudinal and circumferential strain were determined in a subset of @ patients .',\n",
              " \"e ' was linearly related to all systolic indexes ( avpd : r = @ ; s ' : r = @ ; mfs : r = @ ; scmfs : r = @ ; all p < @ ) , but the correlations were stronger with longitudinal indexes than with circumferential ones ( p < @ ) .\",\n",
              " \"e/e ' was nonlinearly related to avpd ( r = -@ ; p < @ ) and s ' ( r = -@ ; p < @ ) and showed no relationship with mfs and scmfs .\",\n",
              " \"longitudinal indexes were superior to circumferential ones in predicting e ' < @ cm/s , e/e ' < @ , and e/e ' @ .\",\n",
              " 'the effect of lv geometry on lv diastolic function was evident among patients with preserved systolic longitudinal function , but was blunted among patients with impaired longitudinal function .',\n",
              " \"in multivariable analyses , only longitudinal indexes remained associated with e ' and e/e ' .\",\n",
              " 'analyses using strains provided similar results .',\n",
              " 'in asymptomatic hypertensive subjects , lv diastolic performance is independently associated with longitudinal systolic dysfunction , but not with circumferential systolic dysfunction .',\n",
              " 'subtle longitudinal systolic impairment plays a role in mediating the effect of lv geometry on diastolic performance .',\n",
              " 'these findings may support the need of critically revising the concept of isolated diastolic dysfunction in these patients .',\n",
              " 'multiple sclerosis ( ms ) is a chronic and disabling disease resulting in disabilities in young and middle-aged persons .',\n",
              " 'in this study , researchers explored the effect of yoga techniques on physical activities and sexual function among some iranian women with ms.',\n",
              " 'in this study , @ iranian women with multiple sclerosis ( ms ) were placed in two equally divided control and case groups through random selection to assess pre-and post-effects of yoga exercises on their physical activities and sexual satisfaction levels .',\n",
              " 'women in case group were offered a series of yoga training and exercises for @ months , which consisted of @ sessions per month for @ to @ minutes at each session .',\n",
              " 'yoga training program included the @ principles of slow motions ( hatayoga ) , respiratory exercises ( pranayama ) and centralization to control mind via meditation , expansion and stasis ( rajayoga ) .',\n",
              " 'after @ months both groups were surveyed using the initial questionnaire to evaluate and compare findings with the base-line data .',\n",
              " 'researchers found significant statistical difference in physical activity and sexual satisfaction levels among the women in case group ( p = @ ) .',\n",
              " 'women in case group showed improvement in physical ability while women in control group manifested exacerbated symptoms .',\n",
              " 'yoga techniques may improve physical activities and sexual satisfaction function of women with ms.',\n",
              " 'to evaluate the safety and efficacy of antiplatelet therapy of ticagrelor on patients suffering from acute st segment elevation myocardial infarction undergoing primary percutaneous coronary intervention .',\n",
              " 'in the study , @ patients suffering from acute st segment elevation myocardial infarction onset within @ h undergoing primary percutaneous coronary intervention from may to october in @ were randomly divided into ticagrelor group ( n = @ ) and clopidogrel group ( n = @ ) by using the method of random number table .',\n",
              " 'ticagrelor and clopidogrel antiplatelet treatment were used before and after operation .',\n",
              " 'their baseline data , coronary artery disease characteristics , platelet count , adenosine diphosphate ( adp ) - induced platelet inhibition rate by thrombelastograph after @ days of treatment , the major adverse cardiovascular events of the follow up for @ months and bleeding complications were observed and compared in the two groups .',\n",
              " 'the differences between the two groups of patients with their baseline data , the features of coronary artery lesions , platelet count before and after @ days of treatment had no statistical significance ( p > @ ) .',\n",
              " 'adp induced platelet inhibition rate -lsb- ( @ ) % -rsb- after @ days of treatment in ticagrelor group was significantly higher than that in clopidogrel group -lsb- ( @ ) % , p < @ -rsb- .',\n",
              " 'the two groups of patients were followed up for @ months , @ cases of major adverse cardiovascular events occurred in clopidogrel group , @ cases of major adverse cardiovascular events occurred in ticagrelor group , and there was significant difference between the two groups ( p < @ ) .',\n",
              " 'the two groups ( @ cases of @ patients in ticagrelor group vs. @ cases of @ patients in clopidogrel group ) had no statistically significant difference in bleeding complications ( p > @ ) .',\n",
              " 'antiplatelet therapy of ticagrelor on patients suffering from acute st segment elevation myocardial infarction undergoing emergency pci has good efficacy and safety .',\n",
              " 'to evaluate the image quality , radiation dose and diagnostic accuracy of @kvp , high-pitch ct pulmonary angiography ( ctpa ) with iterative reconstruction using @ ml of contrast agent .',\n",
              " 'one hundred patients with suspected pulmonary embolism ( pe ) were randomly divided into two groups ( n = @ each ; group a , @ kvp , @ pitch , @ ml of contrast medium and filtered back projection algorithm ; group b , @ kvp , @ pitch , @ ml of contrast medium and sinogram affirmed iterative reconstruction ) .',\n",
              " 'image quality , diagnostic accuracy and radiation dose were evaluated and compared .',\n",
              " 'mean ct numbers of pulmonary arteries in group b were higher than those in group a ( all p < @ ) .',\n",
              " 'contrast-to-noise ratio and signal-to-noise ratio of group b were higher than those of group a ( both p < @ ) .',\n",
              " 'there was no significant difference in subjective image quality scores between two groups ( p = @ ) .',\n",
              " 'the interobserver agreement was excellent ( k = @ ) .',\n",
              " 'there was no significant difference in diagnostic accuracy between the two groups ( p > @ ) .',\n",
              " 'compared with group a , radiation dose of group b was reduced by @ % ( p < @ ) .',\n",
              " 'high-pitch ctpa at @ kvp can obtain sufficient image quality in normal-weight individuals with @ ml of contrast agent and half the radiation dose of a conventional ctpa protocol .',\n",
              " 'ctpa is feasible at @ kvp using only @ ml of contrast agent .',\n",
              " 'high-pitch ctpa at @ kvp has an effective dose under @ msv .',\n",
              " 'this ctpa protocol can obtain sufficient image quality in normal-weight individuals .',\n",
              " 'families express a need for guidance in helping their loved ones with anorexia nervosa ( an ) .',\n",
              " 'guided self-help interventions can offer support to caregivers .',\n",
              " 'one hundred seventy-eight adult an patients and their caregivers were recruited from @ uk treatment centres .',\n",
              " \"families were randomized to carers ' assessment , skills and information sharing ( c ) intervention + treatment as usual ( tau ) or tau alone .\",\n",
              " 'feedback forms were sent at @months post-discharge and , if not returned , at @months .',\n",
              " 'one hundred two ( @ % ) patient forms ( n = @tau ; n = @c ) and @ ( @ % ) caregiver forms ( n = @tau ; n = @c ) were returned .',\n",
              " 'two researchers coded data blind , using thematic analysis .',\n",
              " '( i ) caregivers and patients express a need for post-discharge support .',\n",
              " '( ii ) patients identify helpful and unhelpful support strategies , useful for developing future interventions .',\n",
              " '( iii ) patients could identify positive caregiver behaviour changes targeted in intervention .',\n",
              " '( iv ) guided self-help may benefit caregiver and sufferer , post-discharge .',\n",
              " 'caregiver interventions can be a useful tool that will improve the cost effectiveness of inpatient treatment by enhancing the well-being of caregivers and patients .',\n",
              " 'cardiac mortality and electrophysiological dysfunction both increase with age .',\n",
              " 'heart rate variability ( hrv ) provides indices of autonomic function and electrophysiology that are associated with cardiac risk .',\n",
              " 'how habitual physical activity among older adults prospectively relates to hrv , including nonlinear indices of erratic sinus patterns , is not established .',\n",
              " 'we hypothesized that increasing the levels of both total leisure-time activity and walking would be prospectively associated with more favorable time-domain , frequency-domain , and nonlinear hrv measures in older adults .',\n",
              " 'we evaluated serial longitudinal measures of both physical activity and @-hour holter hrv over @ years among @ older us adults in the community-based cardiovascular health study .',\n",
              " 'after multivariable adjustment , greater total leisure-time activity , walking distance , and walking pace were each prospectively associated with specific , more favorable hrv indices , including higher @-hour standard deviation of all normal-to-normal intervals ( ptrend = @ , @ , @ , respectively ) and ultralow-frequency power ( ptrend = @ , @ , @ , respectively ) .',\n",
              " 'greater walking pace was also associated with a higher short-term fractal scaling exponent ( ptrend = @ ) and lower poincar ratio ( ptrend = @ ) , markers of less erratic sinus patterns .',\n",
              " 'greater total leisure-time activity , and walking alone , as well , were prospectively associated with more favorable and specific indices of autonomic function in older adults , including several suggestive of more normal circadian fluctuations and less erratic sinoatrial firing .',\n",
              " 'our results suggest potential mechanisms that might contribute to lower cardiovascular mortality with habitual physical activity later in life .',\n",
              " 'our aim was to compare anatomical and functional outcome between vaginal colposuspension and transvaginal mesh .',\n",
              " 'this was a prospective randomized controlled trial in a teaching hospital .',\n",
              " 'sixty-eight women with stage @ anterior vaginal wall prolapse according to the pelvic organ prolapse quantification ( pop-q ) system were assessed , randomized , and analyzed .',\n",
              " 'patients were randomized to anterior colporrhaphy with vaginal colposuspension ( n = @ ) or transvaginal mesh ( n = @ ) .',\n",
              " 'primary outcome was objective cure rate of the anterior vaginal wall , defined as pop-q @ at @years .',\n",
              " 'secondary outcomes were functional results , quality-of-life ( qol ) scores , mesh-related morbidity , and onset of urinary incontinence .',\n",
              " 'the anatomical result for point ba was significantly better at @years in the mesh group ( -@ cm ) than in the colposuspension group ( -@ cm ) ( p = @ ) .',\n",
              " 'concerning pop-q stages , the anatomical success rate at @years was @ % for colposuspension and @ % for mesh ( p = @ ) .',\n",
              " 'there were @ anatomic recurrences ( @ % ) in the colposuspension group .',\n",
              " 'the erosion rate was @ % ( n = @ ) .',\n",
              " 'no significant difference was noted regarding minor complications .',\n",
              " 'analysis of qol questionnaires showed overall improvement in both groups , with no significant difference between them .',\n",
              " 'the vaginal colposuspension technique of anterior vaginal wall prolapse repair gave good anatomical and functional results at @years .',\n",
              " 'transobturator vaginal mesh gave better @-year anatomical results than vaginal colposuspension , with overall improvement in qol in both groups .',\n",
              " 'clinical studies evaluating the effects of medications on - cell function in type @ diabetes ( t@dm ) are compromised by an inability to determine the actual baseline degree of - cell dysfunction independent of the reversible dysfunction induced by hyperglycemia ( glucotoxicity ) .',\n",
              " 'short-term intensive insulin therapy ( iit ) is a strategy for eliminating glucotoxicity before randomization .',\n",
              " 'this study determined whether liraglutide can preserve - cell function over @ weeks in early t@dm following initial elimination of glucotoxicity with iit .',\n",
              " \"in this double-blind , randomized , placebo-controlled trial , @ patients with t@dm of @ @ years ' duration and an a@c of @ @ % ( @ @ mmol/mol ) completed @ weeks of iit before randomization to daily subcutaneous liraglutide or placebo injection , with serial assessment of - cell function by insulin secretion-sensitivity index-@ ( issi-@ ) on oral glucose tolerance test performed every @ weeks .\",\n",
              " 'the primary outcome of baseline-adjusted issi-@ at @ weeks was higher in the liraglutide group than in the placebo group ( @ @ vs. @ @ , p = @ ) .',\n",
              " 'baseline-adjusted hba@c at @ weeks was lower in the liraglutide group ( @ @ % vs. @ @ % , p = @ ) ( @ @ vs. @ @ mmol/mol ) .',\n",
              " 'at each quarterly assessment , > @ % of participants on liraglutide had an hba@c @ % ( @ mmol/mol ) and glucose tolerance in the nondiabetic range .',\n",
              " 'despite this level of glycemic control , no difference was found in the incidence of hypoglycemia between the liraglutide and placebo groups ( p = @ ) .',\n",
              " 'two weeks after stopping treatment , however , the beneficial effect on issi-@ of liraglutide versus placebo was entirely lost ( @ @ vs. @ @ , p = @ ) .',\n",
              " 'liraglutide provides robust enhancement of - cell function that is sustained over @ weeks in early t@dm but lost upon cessation of therapy .',\n",
              " 'to investigate the effectiveness of rectally administered indomethacin in the prophylaxis of post-endoscopic retrograde cholangiopancreatography ( ercp ) pancreatitis and hyperamylasaemia in a multicentre study .',\n",
              " 'a prospective , randomised , placebo-controlled multicentre study in five endoscopic units was conducted on @ patients randomised to receive a suppository containing @ mg indomethacin , or an inert placebo , @-@ min before ercp .',\n",
              " 'post-ercp pancreatitis and hyperamylasaemia were evaluated @ h following the procedure on the basis of clinical signs and laboratory parameters , and computed tomography/magnetic resonance imaging findings if required .',\n",
              " 'twenty-one patients were excluded because of incompleteness of their data or because of protocol violation .',\n",
              " 'the results of @ investigations were evaluated : @ in the indomethacin group and @ in the placebo group .',\n",
              " 'the distributions of the risk factors in the two groups did not differ significantly .',\n",
              " 'pancreatitis developed in @ patients ( @ % ) : it was mild in @ ( @ % ) and severe in eight ( @ % ) cases .',\n",
              " 'hyperamylaesemia occurred in @ patients ( @ % ) .',\n",
              " 'there was no significant difference between the indomethacin and placebo groups in the incidence of either post-ercp pancreatitis ( @ % vs @ % ) or hyperamylasaemia ( @ % vs @ % ) .',\n",
              " 'similarly , subgroup analysis did not reveal any significant differences between the two groups .',\n",
              " '@ mg rectal indomethacin administered before ercp did not prove effective in preventing post-ercp pancreatitis .',\n",
              " 'we sought to determine the incidence of newly diagnosed diabetes in treated elderly hypertensive patients and the prognostic impact of diabetes on long-term survival .',\n",
              " 'the second australian national blood pressure ( anbp@ ) study randomized @,@ hypertensive patients aged @-@ years to angiotensin-converting enzyme inhibitor ( acei ) or thiazide diuretic-based therapy and followed them for a median of @ years .',\n",
              " 'long-term survival was determined in @,@ patients over an additional median of @ years after anbp@ ( post-trial ) .',\n",
              " 'after anbp@ , the cohort was classified into preexisting ( @ % ) , newly diagnosed ( @ % ) , and no diabetes ( @ % ) groups .',\n",
              " 'a @ % higher incidence of newly diagnosed diabetes was observed in patients randomized to thiazide diuretic compared with acei-based treatment .',\n",
              " 'the other predictors of newly diagnosed diabetes were having a higher body mass index , having a higher random blood glucose , and living in a regional location compared to major cities ( a geographical classification based on accessibility ) at study entry .',\n",
              " 'after completion of anbp@ , compared with those with no diabetes , the preexisting diabetes group experienced higher cardiovascular ( hazards ratio ( hr ) = @ ; @ % confidence interval ( ci ) = @-@ @ ) and all-cause mortality ( hr = @ ; @ % ci = @-@ @ ) when adjusted for age , sex , and treatment .',\n",
              " 'a similar pattern was observed after including the post-trial period for cardiovascular ( hr = @ ; @ % ci = @-@ @ ) and all-cause mortality ( hr = @ ; @ % ci = @-@ @ ) .',\n",
              " 'however , when the newly diagnosed group was compared with the no diabetes group , no significant difference was observed in cardiovascular ( hr = @ ; @ % ci = @-@ @ ) or all-cause mortality ( hr = @ ; @ % ci = @-@ @ ) either during the anbp@ trial or including post-trial follow-up ( cardiovascular : hr = @ ; @ % ci = @-@ @ ; all-cause mortality : hr = @ ; @ % ci = @-@ @ ) .',\n",
              " 'long-term presence of diabetes reduces survival .',\n",
              " 'compared with thiazide diuretics , acei-based antihypertensives may delay the development of diabetes in those at risk and thus potentially improve cardiovascular outcome in the elderly .',\n",
              " 'obesity is associated with a risk of gastroesophageal reflux disease .',\n",
              " 'the pharmacodynamic efficacy of proton pump inhibitors has not been specifically evaluated in obese subjects .',\n",
              " 'the aim of this study was to compare the antisecretory response to a single oral dose of @ mg rabeprazole , @ mg omeprazole and placebo in obese subjects .',\n",
              " 'gastric ph was monitored for @ hours on three separate occasions in eighteen h. pylori-negative , asymptomatic obese subjects .',\n",
              " 'subjects were given omeprazole , rabeprazole or placebo in a randomized order and in a double-blind fashion .',\n",
              " 'the main analysis criterion was @-h percent of time post dose with intragastric ph above @ ; secondary criteria were percentage of time above ph @ , median ph , -lsb- h + -rsb- concentrations and nocturnal acid breakthrough ( nab ) .',\n",
              " 'results were analyzed using linear mixed models and wilks test comparing variances .',\n",
              " '@-h median -lsb- iq -rsb- percentages of time with gastric ph above @ and @ were higher with rabeprazole than omeprazole ( @ -lsb- @-@ -rsb- vs. @ -lsb- @-@ -rsb- % , @ -lsb- @-@ -rsb- % for placebo ) but the differences did not reach statistical significance ( p = @ and @ , respectively ) .',\n",
              " 'median acid concentrations were significantly lower with rabeprazole than with omeprazole and placebo ( @ -lsb- @-@ -rsb- vs. @ -lsb- @-@ -rsb- and @ -lsb- @-@ -rsb- mmoles/l , p < @ ) for all periods .',\n",
              " 'the number of nab was significantly lower with rabeprazole than with omeprazole ( median @ -lsb- @,@ -rsb- vs. @ -lsb- @-@ -rsb- , p = @ ) .',\n",
              " 'variances of @-h data ( ph above @ and @ , median ph , -lsb- h + -rsb- concentrations ) were significantly lower with rabeprazole than with omeprazole ( p < @ ) .',\n",
              " 'in asymptomatic obese subjects the gastric antisecretory response to a single dose of rabeprazole and omeprazole was strong and not significantly different between drugs despite a significantly more homogeneous response with rabeprazole .',\n",
              " 'clinicaltrial.gov : nct@ .',\n",
              " 'to study the effect of growth hormone ( gh ) treatment on ovarian and uterine morphology and function in short , prepubertal small-for-gestational-age ( sga ) girls .',\n",
              " 'a multinational , randomized controlled trial on safety and efficacy of gh therapy in short , prepubertal children born sga .',\n",
              " 'not applicable .',\n",
              " 'a subgroup of @ danish girls born sga included in north european sga study ( nesgas ) .',\n",
              " 'one year of gh treatment ( @ g/kg/day ) followed by @ years of randomized gh treatment ( @ g/kg/day , @ g/kg/day , or igf-i titrated ) .',\n",
              " 'data on anthropometrics , reproductive hormones , and ultrasonographic examination of the internal genitalia were collected during @ months of gh treatment .',\n",
              " 'uterine and ovarian volume increased significantly during @ years of treatment ( @ % and @ % , respectively ) but remained low within normal reference ranges .',\n",
              " 'ovarian follicles became visible in @ % after @ year compared with @ % before gh therapy .',\n",
              " 'anti-mllerian hormone increased significantly during the @ years of gh therapy but remained within the normal range .',\n",
              " 'precocious puberty was observed in one girl ; another girl developed multicystic ovaries .',\n",
              " 'gh treatment was associated with statistically significant growth of the internal genitalia , but remained within the normal range .',\n",
              " 'as altered pubertal development and ovarian morphology were found in @ of @ girls , monitoring of puberty and ovarian function during gh therapy in sga girls is prudent .',\n",
              " 'altogether , the findings are reassuring .',\n",
              " 'however , long-term effects of gh treatment on adult reproductive function remain unknown .',\n",
              " 'eudract @-@-@ .',\n",
              " 'to test the hypothesis that a brief , clinic-based , single-session programme will reduce the rate of @ selected condom use errors in a clinical sample of young black men ( ybm ) ages @ through @ years .',\n",
              " 'data were collected in clinics treating patients with sexually transmitted infections ( sti ) in three southern us cities .',\n",
              " 'males @-@years of age who identified as black/african-american , and reported recent ( past @months ) condom use were eligible .',\n",
              " 'only those also reporting condom use in the @months prior to a @-month follow-up assessment ( n = @ ) were included in this secondary analysis of data from a randomised , controlled trial .',\n",
              " 'difference scores were used to capture a grouptime effect .',\n",
              " 'ybm reported @ condom use events in the @months preceding study enrolment and @ in the @months preceding the follow-up assessment .',\n",
              " 'mean baseline error rates were @ and @ for young men randomised to the intervention and control conditions , respectively .',\n",
              " 'follow-up rates were @ and @ for young men randomised to the intervention and control conditions , respectively .',\n",
              " 'controlled findings yielded a significant effect for the influence of group assignment on the difference score ( baseline to follow-up ) in the condom use error rate ( = @ ; p = @ ) .',\n",
              " 'a brief , clinic-based counselling programme produced modest reductions in condom use errors among ybm attending sti clinics in the southern usa intensified clinic-based intervention that helps ybm improve the quality of their condom use behaviours is warranted .',\n",
              " 'nct@ .',\n",
              " 'to provide evidence for chinese medical treatment of children with eb virus infection by exploring its clinical efficacy from multiple angles .',\n",
              " 'totally @ children patients were randomly assigned to the treatment group ( @ cases ) and the control group ( @ cases ) .',\n",
              " 'patients in the treatment group took chinese medical decoction , while those in the control received intravenous dripping of ganciclovir and oral administration of pidotimod .',\n",
              " 'the treatment period for the two groups was @ weeks .',\n",
              " 'patients were followed-up till the @th week .',\n",
              " 'clinical symptoms such as fever , lymphadenopathy and hepatosplenomegaly , as well as lab indices such as abnormal lymphocyte percentage , eb virus antibody , virus dna load , t cell subsets , immunoglobulin , and so on were observed before and after treatment , at week @ and @ of follow-ups .',\n",
              " '( @ ) the total effective rate at week @ was @ % in the treatment group , higher than that of the control group ( @ % ) , but there was no statistical difference between the two groups .',\n",
              " '( @ ) the time for defervescence , duration of pharyngeal hyperemia , duration of swollen tonsils was shorter in the treatment group than in the control group ( p < @ ) .',\n",
              " 'the subsidence of lymphadenopathy , hepatomegaly , and abnormal lymphocytes was better in the treatment group than in the control group ( p < @ ) .',\n",
              " '( @ ) the positive cases of peripheral blood hetero-lymphocyte was significantly reduced after treatment , at week @ and @ of follow-ups both in the treatment group and the control group ( p < @ ) .',\n",
              " 'the expression of iga and igm decreased after treatment in the two groups when compared with before treatment in the same group ( p < @ , p < @ ) .',\n",
              " 'igg in the treatment group also obviously decreased after treatment , at week @ and @ of follow-ups ( p < @ , p < @ ) , while it decreased only after treatment in the control group ( p < @ ) .',\n",
              " 'activities of ast and alt in the treatment group and the ast activity in the control group were markedly improved when compared with those before treatment ( p < @ ) .',\n",
              " 'compared with the control group , the abnormal lymphocyte positive case number obviously decreased in the treatment group after treatment , at week @ and @ of follow-ups ( p < @ ) .',\n",
              " '( @ ) after treatment , at week @ and @ of follow-ups , cd@ + and cd@ + significantly decreased ; cd@ + , cd@/cd@ , and b cells significantly increased in the two groups , when compared with before treatment ( p < @ ) .',\n",
              " 'nk cells significantly increased more in the treatment group after treatment , at week @ and @ of follow-ups , higher than before treatment as well as the control group ( p < @ ) .',\n",
              " '( @ ) eb viral dna and eb viral ca-igm negative conversion case numbers significantly increased in the two groups after treatment , at week @ and @ of follow-ups ( p < @ ) .',\n",
              " 'compared with the control group , eb viral dna and eb viral ca-igm negative conversion case numbers significantly increased in the treatment group after treatment and at week @ of follow-ups ( p < @ ) .',\n",
              " 'treatment of eb virus infection by chinese medical treatment was effective .',\n",
              " 'it could promote the recovery of eb viral infection , and reduce the risk of vicious disease after eb viral infection .',\n",
              " 'the primary objective was to compare the cosmetic outcomes of traumatic trunk and extremity lacerations repaired using absorbable versus nonabsorbable sutures .',\n",
              " 'the secondary objective was to compare complication rates between the two groups .',\n",
              " 'this was a randomized controlled trial comparing wounds repaired with vicryl rapide and prolene sutures .',\n",
              " 'pediatric and adult patients with lacerations were enrolled in the study .',\n",
              " 'at a @-day follow-up , the wounds were evaluated for infection and dehiscence .',\n",
              " 'after @ months , patients returned to have the wounds photographed .',\n",
              " 'two plastic surgeons blinded to the method of closure rated the cosmetic outcome of each wound using a @-mm visual analog scale ( vas ) .',\n",
              " 'using a noninferiority design , a vas score of @ mm or greater was considered to be a clinically significant difference .',\n",
              " \"we used a student 's t-test to compare differences between mean vas scores and odds ratios ( ors ) to compare differences in complication rates between the two groups .\",\n",
              " 'of the @ patients enrolled , @ completed the study including @ in the vicryl rapide group and @ in the prolene group .',\n",
              " 'the mean ( sd ) age of patients who completed the study was @ ( @ ) years , and @ were male .',\n",
              " 'we found no significant differences in the age , race , sex , length of wound , number of sutures , or layers of repair in the two groups .',\n",
              " \"the observer 's mean vas for the vicryl rapide group was @ mm ( @ % confidence interval -lsb- ci -rsb- = @ to @ mm ) and for the prolene group was @ mm ( @ % ci = @ to @ mm ) .\",\n",
              " 'the resulting mean difference was @ mm ( @ % ci = -@ to @ mm ; p = @ ) ; thus noninferiority was established .',\n",
              " 'statistical testing showed no differences in the rates of complications between the two groups , but a higher percentage of the vicryl rapide wounds developed complications .',\n",
              " 'the use of absorbable sutures for the repair of simple lacerations on the trunk and extremities should be considered as an alternative to nonabsorbable suture repair .',\n",
              " 'aspirin early after intravenous thrombolysis in acute ischemic stroke increases the risk of symptomatic intracranial hemorrhage ( sich ) , without influencing functional outcome at @ months .',\n",
              " 'the effect of aspirin on early neurological deterioration ( end ) was explored as a post hoc analysis of the randomized antiplatelet therapy in combination with recombinant t-pa thrombolysis in ischemic stroke ( artis ) trial .',\n",
              " 'end , defined as a @ points national institutes of health stroke scale worsening @ hours after intravenous thrombolysis , was categorized into sich ( endsich ) and cerebral ischemia ( endci ) .',\n",
              " 'multinomial logistic regression was used to assess the effect of aspirin on end .',\n",
              " 'of the @ patients , @ patients ( @ % ) experienced end ( @ endsich , @ endci ) .',\n",
              " 'aspirin increased the risk of endsich ( odds ratio , @ ; @ % confidence interval , @-@ @ ) but not of endci ( odds ratio , @ ; @ % confidence interval , @-@ @ ) .',\n",
              " 'after adjustment for other explanatory variables , the association between aspirin and endsich remained significant .',\n",
              " 'in this trial , there is no evidence of an early antithrombotic effect from the addition of aspirin to intravenous thrombolysis in acute ischemic stroke .',\n",
              " 'to compare the relative effectiveness of methotrexate and mycophenolate mofetil for noninfectious intermediate uveitis , posterior uveitis , or panuveitis .',\n",
              " 'multicenter , block-randomized , observer-masked clinical trial .',\n",
              " 'eighty patients with noninfectious intermediate , posterior , or panuveitis requiring corticosteroid-sparing therapy at aravind eye hospitals in madurai and coimbatore , india .',\n",
              " 'patients were randomized to receive @ mg weekly oral methotrexate or @ g twice daily oral mycophenolate mofetil and were monitored monthly for @ months .',\n",
              " 'oral prednisone and topical corticosteroids were tapered .',\n",
              " 'masked examiners assessed the primary outcome of treatment success , defined by achieving the following at @ and @ months : ( @ ) @ + anterior chamber cells , @ + vitreous cells , @ + vitreous haze and no active retinal/choroidal lesions in both eyes , ( @ ) @ mg of prednisone and @ drops of prednisolone acetate @ % a day , and ( @ ) no declaration of treatment failure because of intolerability or safety .',\n",
              " 'additional outcomes included time to sustained corticosteroid-sparing control of inflammation , change in best spectacle-corrected visual acuity , resolution of macular edema , adverse events , subgroup analysis by anatomic location , and medication adherence .',\n",
              " 'forty-one patients were randomized to methotrexate and @ to mycophenolate mofetil .',\n",
              " 'a total of @ patients ( @ methotrexate , @ mycophenolate mofetil ) contributed to the primary outcome .',\n",
              " 'sixty-nine percent of patients achieved treatment success with methotrexate and @ % with mycophenolate mofetil ( p = @ ) .',\n",
              " 'treatment failure from adverse events or tolerability was not different by treatment arm ( p = @ ) .',\n",
              " 'there were no differences between treatment groups in time to corticosteroid-sparing control of inflammation ( p = @ ) , change in best spectacle-corrected visual acuity ( p = @ ) , or resolution of macular edema ( p = @ ) .',\n",
              " 'there was no statistically significant difference in corticosteroid-sparing control of inflammation between patients receiving methotrexate or mycophenolate mofetil .',\n",
              " 'however , there was a @ % difference in treatment success favoring methotrexate .',\n",
              " 'the prevalence of methicillin-resistant staphylococcus aureus ( mrsa ) respiratory infection in cystic fibrosis ( cf ) has increased dramatically over the last decade , and is now affecting approximately @ % of patients .',\n",
              " 'epidemiologic evidence suggests that persistent infection with mrsa results in an increased rate of decline in fev@ and shortened survival .',\n",
              " 'currently , there are no conclusive studies demonstrating an effective and safe treatment protocol for persistent mrsa respiratory infection in cf.',\n",
              " 'the primary objective of this study is to evaluate the safety and efficacy of a @-day course of vancomycin for inhalation in combination with oral antibiotics in eliminating mrsa from the respiratory tract of individuals with cf and persistent mrsa infection .',\n",
              " 'this is a two-center , randomized , double-blind , comparator-controlled , parallel-group study with @:@ assignment to either vancomycin for inhalation ( @mg twice a day ) or taste-matched placebo for @days in individuals with cystic fibrosis .',\n",
              " 'in addition , both groups will receive oral rifampin , a second oral antibiotic - trimethoprim/sulfamethoxazole ( tmp/smx ) or doxycycline , protocol determined - mupirocin intranasal cream , and chlorhexidine body washes .',\n",
              " 'forty patients with persistent respiratory tract mrsa infection will be enrolled : @ will be randomized to vancomycin for inhalation and @ to a taste-matched placebo .',\n",
              " 'the primary outcome will be the presence of mrsa in sputum respiratory tract cultures @month after the conclusion of treatment .',\n",
              " 'secondary outcomes include the efficacy of the intervention on : fev@ % predicted , patient reported outcomes , pulmonary exacerbations , and mrsa colony-forming units found in respiratory tract sample culture .',\n",
              " 'results of this study will provide guidance to clinicians regarding the safety and effectiveness of a targeted eradication strategy for persistent mrsa infection in cf.',\n",
              " 'this trial is registered at clinicaltrials.gov ( nct@ , received @/@/@ ) and is funded by the cystic fibrosis foundation ( grants : pmep@k@ and pmep@k@ ) .',\n",
              " 'there is a strong association between weight gain and metabolic events in patients with schizophrenia receiving many of the second-generation antipsychotic agents .',\n",
              " 'we explored the relationship between body mass index ( bmi ) and metabolic events in patients with schizophrenia receiving long-acting injectable paliperidone palmitate ( pp ) in a long-term trial .',\n",
              " 'we conducted a post hoc analysis of data from a pp study that included a @-week open-label transition ( tr ) and maintenance phase ; a variable duration , randomized , double-blind ( db ) , placebo-controlled phase and a @-week open-label extension ( ole ) phase .',\n",
              " 'overall , @ patients received pp continuously from study entry through discontinuation or study completion and were grouped by baseline bmi ( kg/m@ ) : underweight ( bmi < @ ; n = @ , @ % ) , normal-weight ( bmi @ - < @ ; n = @ , @ % ) , overweight ( bmi @ - < @ ; n = @ , @ % ) and obese ( bmi @ ; n = @ , @ % ) .',\n",
              " 'metabolic treatment-emergent adverse events ( teaes ) and changes in related laboratory results from tr baseline were analyzed .',\n",
              " 'pp exposure was similar across bmi groups ; overall mean ( sd ) dose/month was @ ( @ ) mg eq .',\n",
              " '-lsb- @ ( @ ) mg -rsb- ; median duration of exposure was @ days ( @ to @ days ) .',\n",
              " 'occurrences of metabolic teaes overall by group were @ % ( underweight ) , @ % ( normal-weight ) , @ % ( overweight ) , and @ % ( obese ) .',\n",
              " 'the most common ( @ % ) metabolic teae were weight gain and elevated blood levels of glucose , lipids , and insulin .',\n",
              " 'mean bmi and weight increased in normal-weight and overweight groups at db endpoint , and in underweight , normal-weight and overweight groups at ole endpoint ( p @ ) .',\n",
              " 'no consistent trend for increased metabolic-related laboratory values by baseline bmi group was observed .',\n",
              " 'homeostatic model assessments for insulin resistance indicated preexisting insulin resistance at baseline , with minimal changes at ole endpoint across baseline bmi groups .',\n",
              " 'occurrences of metabolic-related teaes trended with greater bmi status in patients with schizophrenia treated with pp ; consistent trends in metabolic-related laboratory values were not observed .',\n",
              " 'this study is registered at clinicaltrials.gov ( nct @ ) .',\n",
              " 'fecal immunochemical tests ( fits ) are recommended to screen average-risk adults for colorectal cancer ( crc ) .',\n",
              " 'little research has examined whether a two-sample fit affects participant uptake , compared with a one-sample fit .',\n",
              " 'examining participant uptake is important , as evidence suggests that a two-sample fit may increase the sensitivity to detect crc .',\n",
              " 'this study had two objectives : ( i ) to evaluate fit completion in a population that received either a one-sample fit kit ( @-fit ) or a two-sample fit kit ( @-fit ) and ( ii ) to understand whether uptake varies by age , sex , or receipt of prior crc screening .',\n",
              " 'we conducted a randomized controlled trial in which @ participants who were aged between @ and @ years and were at an average risk for crc , and who had requested fits , randomly received @-fit ( n = @ ) or @-fit ( n = @ ) kits .',\n",
              " 'fit completion was defined as the completion and return of a one-sample test by the patients in the @-fit group or of both sample tests by those in the @-fit group .',\n",
              " 'cox proportional hazard regression models were used to determine the independent effect of group type ( @-fit vs. @-fit ) on the completion of the fit , adjusting for age , sex , and receipt of prior crc screening .',\n",
              " 'the @-fit group had lower test completion rates ( hazard ratio = @ ; @ % confidence interval = @-@ @ ; p = @ ) after adjusting for age , sex , and receipt of prior crc screening .',\n",
              " 'participant uptake did not vary by age , sex , or receipt of prior crc screening .',\n",
              " 'this unique , rigorous randomized controlled trial found that the @-fit regimen decreases completion of fit .',\n",
              " 'further research is needed to understand whether decreases in participant uptake are offset by increased gains in test sensitivity .',\n",
              " 'evaluation of the safety and efficacy of pazopanib , a multikinase angiogenesis inhibitor , in a single-arm , open-label , extension study ( veg@/nct@ ) for placebo-treated patients with advanced renal cell carcinoma ( rcc ) from a randomized , double-blind , placebo-controlled phase iii study ( veg@/nct@ ) .',\n",
              " 'patients received pazopanib @ mg/day .',\n",
              " 'the primary endpoint was the safety and tolerability of pazopanib treatment .',\n",
              " 'secondary endpoints included response rate per response evaluation criteria in solid tumors , progression-free survival ( pfs ) , and overall survival ( os ) .',\n",
              " 'seventy-nine placebo-treated patients from veg@/nct@ who experienced disease progression and one pazopanib-treated patient ( an exemption ) were enrolled .',\n",
              " 'forty-one patients ( @ % ) were treatment-naive ; @ ( @ % ) were cytokine-pretreated .',\n",
              " 'median exposure to pazopanib was @ months .',\n",
              " 'all patients had discontinued pazopanib at the time of analysis .',\n",
              " 'the most common reason for discontinuation was disease progression ( @ % ) .',\n",
              " 'the most common adverse events were hypertension ( @ % ) , diarrhea ( @ % ) , hair color changes ( @ % ) , anorexia ( @ % ) , and nausea ( @ % ) .',\n",
              " 'the response rate was @ % -lsb- @ % confidence interval ( ci ) : @-@ @ -rsb- ; median pfs was @ months ( @ % ci : @-@ @ ) ; median os was @ months ( @ % ci : @-@ @ ) .',\n",
              " 'efficacy and safety profiles for pazopanib in this extension study of patients with rcc previously treated with placebo were very similar to those observed for pazopanib-treated patients in the pivotal phase iii study .',\n",
              " 'an established multivariate serum protein test can be used to classify patients according to whether they are likely to have a good or poor outcome after treatment with egfr tyrosine-kinase inhibitors .',\n",
              " 'we assessed the predictive power of this test in the comparison of erlotinib and chemotherapy in patients with non-small-cell lung cancer .',\n",
              " 'from feb @ , @ , to april @ , @ , patients ( aged @ years ) with histologically or cytologically confirmed , second-line , stage iiib or iv non-small-cell lung cancer were enrolled in @ centres in italy .',\n",
              " 'patients were stratified according to a minimisation algorithm by eastern cooperative oncology group performance status , smoking history , centre , and masked pretreatment serum protein test classification , and randomly assigned centrally in a @:@ ratio to receive erlotinib ( @ mg/day , orally ) or chemotherapy ( pemetrexed @ mg/m ( @ ) , intravenously , every @ days , or docetaxel @ mg/m ( @ ) , intravenously , every @ days ) .',\n",
              " 'the proteomic test classification was masked for patients and investigators who gave treatments , and treatment allocation was masked for investigators who generated the proteomic classification .',\n",
              " 'the primary endpoint was overall survival and the primary hypothesis was the existence of a significant interaction between the serum protein test classification and treatment .',\n",
              " 'analyses were done on the per-protocol population .',\n",
              " 'this trial is registered with clinicaltrials.gov , number nct@ .',\n",
              " '@ patients were randomly assigned to chemotherapy and @ to erlotinib , and @ ( @ % ) and @ ( @ % ) , respectively , were included in the per-protocol analysis .',\n",
              " '@ ( @ % ) patients in the chemotherapy group and @ ( @ % ) in the erlotinib group had a proteomic test classification of good .',\n",
              " 'median overall survival was @ months ( @ % ci @-@ ) in the chemotherapy group and @ months ( @-@ ) in the erlotinib group .',\n",
              " 'we noted a significant interaction between treatment and proteomic classification ( pinteraction = @ when adjusted for stratification factors ; pinteraction = @ when unadjusted for stratification factors ) .',\n",
              " 'patients with a proteomic test classification of poor had worse survival on erlotinib than on chemotherapy ( hazard ratio @ -lsb- @ % ci @-@ -rsb- , p = @ ) .',\n",
              " 'there was no significant difference in overall survival between treatments for patients with a proteomic test classification of good ( adjusted hr @ -lsb- @-@ -rsb- , p = @ ) .',\n",
              " 'in the group of patients who received chemotherapy , the most common grade @ or @ toxic effect was neutropenia ( @ -lsb- @ % -rsb- vs one -lsb- < @ % -rsb- in the erlotinib group ) , whereas skin toxicity ( one -lsb- < @ % -rsb- vs @ -lsb- @ % -rsb- ) was the most frequent in the erlotinib group .',\n",
              " 'our findings indicate that serum protein test status is predictive of differential benefit in overall survival for erlotinib versus chemotherapy in the second-line setting .',\n",
              " 'patients classified as likely to have a poor outcome have better outcomes on chemotherapy than on erlotinib .',\n",
              " 'italian ministry of health , italian association of cancer research , and biodesix .',\n",
              " 'this study was to evaluate the effect of intraoperative continuous infusion of dexmedetomidine on intraocular pressure ( iop ) in patients undergoing robot-assisted laparoscopic radical prostatectomy ( ralrp ) in the steep trendelenburg ( st ) .',\n",
              " 'sixty-eight patients were randomly divided into two groups .',\n",
              " 'the dexmedetomidine group ( group d , n = @ ) received a continuous infusion of dexmedetomidine at a rate of @ g kg ( -@ ) hour ( -@ ) from the induction of anesthesia until the end of the st position , while the control group ( group c , n = @ ) received an equal volume of physiologic saline at the same rate under conventional general anesthesia with sevoflurane and remifentanil .',\n",
              " 'iop was measured at @ predefined time points for all patients .',\n",
              " 'significant differences in iop were detected between the two groups by a linear mixed model analysis ( p < @ ) .',\n",
              " 'the highest mean iop was @ mm hg in group d and @ mm hg in group c ; both were measured @ minutes after the patients had been placed in the st position .',\n",
              " 'no significant between-group differences in ocular perfusion pressure , mean blood pressure , or heart rate were observed between the two groups .',\n",
              " 'no ocular or other complications were noted .',\n",
              " 'intraoperative continuous infusion of dexmedetomidine may help alleviate iop increase in patients undergoing ralrp in the st position .',\n",
              " 'disruptive or challenging behavior problems pose a threat to children and adolescents with intellectual disabilities and their caregivers .',\n",
              " 'psychopharmacological treatment is mostly studied with new-generation antipsychotics and has been criticized for adverse side effects .',\n",
              " 'this study examined the effect of the classic antipsychotic zuclopenthixol .',\n",
              " 'a total of @ boys ( ages @-@ @ years ) with learning disabilities were included and examined for a response to zuclopenthixol during a @ week period of open label treatment .',\n",
              " 'doses started low and were adapted individually .',\n",
              " 'from responders , zuclopenthixol was randomly withdrawn for @ weeks .',\n",
              " 'responses to withdrawal were observed by external raters using the modified overt aggression scale .',\n",
              " 'of all patients included into the study , @ were not randomized because of insufficient therapeutic effect , adverse event , or noncompliance .',\n",
              " 'kaplan-meier estimations showed less aggressive behavior problems for the continuing subgroup ( n = @ ) than in the placebo group ( n = @ ) .',\n",
              " 'individual doses stayed < @mg/day .',\n",
              " 'zuclopenthixol proved to be effective in reducing challenging behavior in boys even at low doses .',\n",
              " 'the purpose of this multicenter , open label , randomized phase iii study was to determine whether ixabepilone resulted in improved overall survival ( os ) compared with commonly used single-agent chemotherapy ( doxorubicin or paclitaxel ) in women with locally advanced , recurrent , or metastatic endometrial cancer with at least one failed prior platinum-based chemotherapeutic regimen .',\n",
              " 'patients were randomized @:@ to ixabepilone ( @mg/m ( @ ) ) , or either paclitaxel ( @mg/m ( @ ) ) or doxorubicin ( @mg/m ( @ ) ) , every @days .',\n",
              " 'patients that had previously received an anthracycline were randomized to ixabepilone or paclitaxel ; all other patients were randomized to ixabepilone or doxorubicin .',\n",
              " 'an interim analysis of futility for os was planned .',\n",
              " 'at the time of database lock , @ patients were randomized to receive ixabepilone ( n = @ ) or control ( n = @ ) ; nine patients in the control arm were not treated .',\n",
              " 'the interim analysis of futility for os ( @ events ) favored the control chemotherapy arm ( hazard ratio = @ -lsb- @ % confidence interval : @-@ @ -rsb- , stratified log rank test p = @ ) , indicating that the study would not meet its primary objective .',\n",
              " 'the study was discontinued based on the interim os results .',\n",
              " 'the frequency of adverse events was comparable between the treatment arms .',\n",
              " 'the study did not meet its primary objective of improving os in the ixabepilone arm compared to the control chemotherapy arm .',\n",
              " 'a favorable risk/benefit ratio was not observed for ixabepilone versus control at the time of the interim analysis .',\n",
              " 'the safety results were consistent with the known safety profiles of ixabepilone and control .',\n",
              " 'to determine the impact of calcium and phosphorus on radiological and biochemical characteristics of osteopenia in premature infants .',\n",
              " 'the randomised clinical trial study was conducted at valie-e-asr hospital of zanjan city , iran , from december @ to june @ .',\n",
              " 'it involved monitoring @ premature neonates over a period of six months .',\n",
              " 'the babies , who were fed with breast milk and @ units of vitamin d daily , were randomly divided into two equal groups .',\n",
              " 'one group received supplement of calcium and phosphorus .',\n",
              " 'serum calcium , phosphorus and alkaline phosphatase levels as well as growth parameters ( including weight , height , and head circumference ) were measured every two weeks .',\n",
              " 'at the end of the study , wrist x-ray was done for evaluation of osteopenia .',\n",
              " 'data was analysed using spss @ .',\n",
              " 'radiological changes , characteristic of osteopenia , were found in @ ( @ % ) cases and @ ( @ % ) controls ( p < @ ) .',\n",
              " 'the mean of weight , length and head circumference increased significantly from second to sixth week during follow-up ( p < @ ) .',\n",
              " 'phosphorus and alkaline phosphatase activity decreased significantly from second to sixth week of follow-up ( p < @ , p < @ respectively ) .',\n",
              " 'however , repeated measurement analyses did not show significant effect of intervention in biochemical and growth parameters in the trial group .',\n",
              " \"the study did n't show significant effect of calcium and phosphorus on prevention of osteopenia and improvement of growth .\",\n",
              " 'further studies of longer duration and with different doses of supplement are recommended .',\n",
              " 'the purpose of this study was to test the efficacy of a @-month course of anti-inflammatory treatment with colchicinein improving functional status of patients with stable chronic heart failure ( chf ) .',\n",
              " 'chf has been shown to be associated with inflammatory activation .',\n",
              " 'inflammation has been designated as a therapeutic target in chf .',\n",
              " 'patients with stable chf were randomly assigned to colchicine ( @ mg twice daily ) or placebo for @ months .',\n",
              " 'theprimary endpoint was the proportion of patients achieving at least one-grade improvement in new york heartassociation class .',\n",
              " 'two hundred sixty-seven patients were available for final evaluation of the primary endpoint : its rate was @ % in the control group and @ % in the colchicine group ( odds ratio : @ ; @ % confidence interval : @ to @ ; p = @ ) .',\n",
              " 'the rate of the composite of death or hospital stay for heart failure was @ % in the control group , compared with @ % in the colchicine group ( p = @ ) .',\n",
              " 'the changes in treadmill exercise time with treatment were insignificant and similar in the @ groups ( p = @ ) .',\n",
              " 'c-reactive protein and interleukin-@ were both significantly reduced in the colchicine group ( -@ mg/l and -@ pg/ml , respectively ; p < @ for both , compared with the control group ) .',\n",
              " 'according to this prospective , randomized study , anti-inflammatory treatment with colchicine in patients with stable chf , although effective in reducing inflammation biomarker levels , did not affect in any significant way patient functional status ( in terms of new york heart association class and objective treadmill exercise tolerance ) or the likelihood of death or hospital stay for heart failure .',\n",
              " 'to examine the comparative antidepressant efficacy of s-adenosyl-l-methionine ( same ) and escitalopram in a placebo-controlled , randomized , double-blind clinical trial .',\n",
              " 'one hundred eighty-nine outpatients ( @ % female , mean -lsb- sd -rsb- age = @ -lsb- @ -rsb- years ) with dsm-iv-diagnosed major depressive disorder ( mdd ) were recruited from april @ , @ , to december @ , @ , at the massachusetts general hospital and at butler hospital .',\n",
              " 'patients were randomized for @ weeks to same @,@-@ ,@ mg/d , escitalopram @-@ mg/d , or placebo .',\n",
              " 'doses were escalated at @ weeks in the event of nonresponse .',\n",
              " 'the main outcome measure was the @-item hamilton depression rating scale ( hdrs-@ ) .',\n",
              " 'tolerability was assessed by the systematic assessment for treatment of emergent events-specific inquiry ( saftee-si ) .',\n",
              " ...]"
            ]
          },
          "execution_count": 47,
          "metadata": {},
          "output_type": "execute_result"
        }
      ],
      "source": [
        "train_sentences"
      ]
    },
    {
      "cell_type": "code",
      "execution_count": null,
      "metadata": {
        "colab": {
          "base_uri": "https://localhost:8080/"
        },
        "id": "oxQ2YCw8V9x-",
        "outputId": "549eabdf-5d1d-4a46-8cc2-e56f725b96bd"
      },
      "outputs": [
        {
          "name": "stdout",
          "output_type": "stream",
          "text": [
            "--2024-02-26 06:01:39--  https://raw.githubusercontent.com/mrdbourke/tensorflow-deep-learning/main/extras/helper_functions.py\n",
            "Resolving raw.githubusercontent.com (raw.githubusercontent.com)... 185.199.108.133, 185.199.109.133, 185.199.110.133, ...\n",
            "Connecting to raw.githubusercontent.com (raw.githubusercontent.com)|185.199.108.133|:443... connected.\n",
            "HTTP request sent, awaiting response... 200 OK\n",
            "Length: 10246 (10K) [text/plain]\n",
            "Saving to: ‘helper_functions.py’\n",
            "\n",
            "\rhelper_functions.py   0%[                    ]       0  --.-KB/s               \rhelper_functions.py 100%[===================>]  10.01K  --.-KB/s    in 0s      \n",
            "\n",
            "2024-02-26 06:01:39 (97.4 MB/s) - ‘helper_functions.py’ saved [10246/10246]\n",
            "\n"
          ]
        }
      ],
      "source": [
        "!wget https://raw.githubusercontent.com/mrdbourke/tensorflow-deep-learning/main/extras/helper_functions.py"
      ]
    },
    {
      "cell_type": "code",
      "execution_count": null,
      "metadata": {
        "id": "v_Hb8MlVV7HN"
      },
      "outputs": [],
      "source": [
        "from helper_functions import create_tensorboard_callback"
      ]
    },
    {
      "cell_type": "code",
      "execution_count": null,
      "metadata": {
        "id": "1WK9ugWNQgU8"
      },
      "outputs": [],
      "source": [
        "import tensorflow_hub as hub\n",
        "\n",
        "tf_hub_embedding_layer=hub.KerasLayer('https://tfhub.dev/google/universal-sentence-encoder/4',\n",
        "                                      input_shape=[],\n",
        "                                      trainable=False,\n",
        "                                      dtype=tf.string,\n",
        "                                      name='USE')"
      ]
    },
    {
      "cell_type": "code",
      "execution_count": null,
      "metadata": {
        "colab": {
          "base_uri": "https://localhost:8080/"
        },
        "id": "btPHP8fzUvoE",
        "outputId": "0d14455c-b020-4c75-e9fb-118ebc8363ce"
      },
      "outputs": [
        {
          "name": "stdout",
          "output_type": "stream",
          "text": [
            "Random sentence:\n",
            " baseline , discharge , and change in renal function were associated with @-day mortality or rehospitalization for heart failure .\n"
          ]
        },
        {
          "data": {
            "text/plain": [
              "<tf.Tensor: shape=(1, 512), dtype=float32, numpy=\n",
              "array([[ 9.16565489e-03, -1.68393981e-02, -4.99853157e-02,\n",
              "         7.82494340e-03,  3.24145518e-02, -7.86465630e-02,\n",
              "         3.78119834e-02, -2.73545422e-02,  3.22036333e-02,\n",
              "         2.45247898e-03,  9.03863907e-02,  6.49837926e-02,\n",
              "        -4.49856371e-02, -5.63248359e-02,  4.21939678e-02,\n",
              "        -6.56256303e-02, -9.03765187e-02,  6.08600862e-02,\n",
              "         7.10306410e-03,  6.16219230e-02,  7.29348958e-02,\n",
              "         5.98876998e-02,  6.89629838e-02,  8.85615777e-03,\n",
              "         5.98081537e-02,  3.16717691e-04,  3.51736732e-02,\n",
              "         5.16396612e-02, -7.62219280e-02, -4.06582616e-02,\n",
              "         3.58364768e-02,  8.96947235e-02,  1.00234700e-02,\n",
              "         7.23350719e-02, -2.70287842e-02, -7.84901977e-02,\n",
              "        -3.47775780e-02, -5.66381887e-02,  3.75582743e-03,\n",
              "         4.03674245e-02,  4.39509675e-02, -4.61680889e-02,\n",
              "        -8.14710744e-03, -2.38147136e-02, -1.83957852e-02,\n",
              "         2.66152192e-02,  1.29346959e-02,  5.61623685e-02,\n",
              "         7.00119510e-02,  4.80439588e-02, -6.28991574e-02,\n",
              "        -3.41678150e-02, -5.26264086e-02,  1.57351196e-02,\n",
              "         2.90049035e-02,  3.40462998e-02, -7.38542974e-02,\n",
              "         5.62673062e-02, -6.23781122e-02, -8.32431018e-02,\n",
              "         1.36542367e-02,  6.56990409e-02,  4.38753627e-02,\n",
              "        -5.35805337e-02, -5.73946200e-02, -4.86734957e-02,\n",
              "        -1.74583979e-02,  4.35099453e-02,  6.03796728e-02,\n",
              "         3.37903239e-02,  1.08717028e-02, -1.55350575e-02,\n",
              "        -3.49738710e-02,  5.83538087e-03,  4.32830751e-02,\n",
              "         1.60692520e-02, -6.56668022e-02,  3.99266034e-02,\n",
              "        -3.70588750e-02, -2.29967926e-02, -3.25964428e-02,\n",
              "         3.33634056e-02, -1.43149747e-02,  7.10841864e-02,\n",
              "        -6.71047941e-02,  6.43004477e-02,  7.34569803e-02,\n",
              "        -2.31006201e-02, -1.15528926e-02, -5.42743546e-05,\n",
              "         2.69288961e-02, -1.47574525e-02,  7.38371117e-03,\n",
              "         1.91582143e-02,  1.49956644e-02, -3.93771678e-02,\n",
              "        -5.09266071e-02,  3.11632715e-02,  3.77678089e-02,\n",
              "        -3.15788649e-02,  1.79488696e-02,  4.35372517e-02,\n",
              "        -1.43378628e-02,  1.03935692e-02, -4.48840335e-02,\n",
              "        -4.31734249e-02,  3.04181594e-02, -4.44501974e-02,\n",
              "        -1.85880922e-02, -2.43180878e-02, -9.00186449e-02,\n",
              "         3.67284454e-02,  6.65419409e-03, -3.70499454e-02,\n",
              "         4.65635881e-02, -1.82241462e-02,  2.21155956e-02,\n",
              "        -1.44805200e-02, -7.22079277e-02,  2.78583635e-02,\n",
              "        -5.87873086e-02,  5.99830598e-03, -6.37288913e-02,\n",
              "         4.23738919e-02, -2.67110374e-02, -6.12291135e-02,\n",
              "        -5.34244180e-02, -8.87916796e-03,  6.14047870e-02,\n",
              "        -6.34569004e-02,  2.77770367e-02,  8.96380618e-02,\n",
              "        -4.42043208e-02, -6.17241263e-02, -4.68882993e-02,\n",
              "        -1.93111785e-02,  5.04823029e-02,  7.07228947e-03,\n",
              "        -2.45730653e-02, -5.18926159e-02, -7.21045882e-02,\n",
              "         7.13495025e-03,  4.46038023e-02, -1.04567138e-02,\n",
              "        -4.11419049e-02, -6.82172105e-02, -5.28954342e-02,\n",
              "        -1.89253744e-02,  2.43072752e-02,  1.31723993e-02,\n",
              "        -5.85280620e-02, -3.82245183e-02, -6.30180687e-02,\n",
              "        -3.18620987e-02, -8.15586746e-03,  5.20544648e-02,\n",
              "         4.21335511e-02, -4.11506183e-03, -1.80533119e-02,\n",
              "         2.22626571e-02,  3.19448560e-02, -2.15133596e-02,\n",
              "        -4.29160632e-02, -1.46634951e-02, -8.93287454e-03,\n",
              "        -5.05138971e-02, -2.06798837e-02, -3.77263129e-02,\n",
              "         4.24766690e-02, -1.31270988e-02, -3.16468328e-02,\n",
              "        -8.85363668e-02,  8.48494098e-02, -7.08048418e-02,\n",
              "         5.36533259e-02,  3.05503532e-02, -4.33737151e-02,\n",
              "        -8.25052802e-03, -1.03127128e-02,  1.63486637e-02,\n",
              "        -1.10601755e-02,  3.66001353e-02,  2.21868604e-02,\n",
              "         1.35662509e-02,  4.98430990e-02,  6.85521215e-02,\n",
              "        -5.02297767e-02, -1.34471785e-02,  5.82453795e-02,\n",
              "        -5.13011664e-02, -3.09896730e-02, -5.29107265e-02,\n",
              "         4.66702171e-02,  1.37270588e-04,  3.18807513e-02,\n",
              "        -4.33408730e-02,  4.06369716e-02,  5.20944521e-02,\n",
              "         3.28500830e-02, -3.79845798e-02,  5.87189570e-02,\n",
              "        -4.39829892e-03, -8.72503668e-02,  7.84770474e-02,\n",
              "        -2.33641602e-02, -1.84827391e-02,  2.88699847e-02,\n",
              "        -2.53119273e-03, -5.03959320e-02,  6.03935868e-02,\n",
              "        -4.94488254e-02, -4.35625985e-02, -5.97331002e-02,\n",
              "        -4.06714790e-02,  7.92973209e-03,  5.20798601e-02,\n",
              "        -6.76602498e-02, -3.05321300e-03, -2.23388914e-02,\n",
              "        -8.31836089e-02,  7.81570747e-03,  2.21268404e-02,\n",
              "        -2.42336486e-02, -1.92795601e-02, -1.65871549e-02,\n",
              "         4.47036959e-02, -1.11566773e-02,  5.14008058e-03,\n",
              "         7.49054402e-02,  7.30430409e-02, -1.24817779e-02,\n",
              "         6.79943264e-02, -3.25826518e-02, -1.44987302e-02,\n",
              "        -8.05806275e-03, -1.83819029e-02, -2.82807909e-02,\n",
              "         2.47287732e-02,  2.23420113e-02, -1.38722919e-02,\n",
              "         6.22014329e-02, -3.57798375e-02, -2.95546204e-02,\n",
              "        -1.66277941e-02,  1.55711435e-02, -7.68452417e-03,\n",
              "        -3.74661479e-03,  6.10336401e-02,  2.40477249e-02,\n",
              "        -8.77941847e-02,  4.01465222e-02, -1.39133865e-02,\n",
              "         5.35620414e-02,  7.54938228e-04, -4.66202572e-02,\n",
              "        -5.68847060e-02, -5.62673137e-02,  4.06456552e-03,\n",
              "        -2.15054266e-02,  5.69874644e-02,  3.18834279e-03,\n",
              "        -3.97499092e-02, -4.46160771e-02, -1.33643029e-02,\n",
              "         7.09312910e-04, -7.09512755e-02, -1.72174741e-02,\n",
              "        -1.23958811e-02, -5.95259964e-02,  4.85806949e-02,\n",
              "        -6.52913703e-03,  4.76001352e-02,  7.48790354e-02,\n",
              "        -4.56396490e-02,  5.51232025e-02, -3.49681415e-02,\n",
              "        -4.81725521e-02,  7.14248940e-02,  5.75491823e-02,\n",
              "        -2.73575466e-02, -2.88156345e-02,  6.47649914e-02,\n",
              "        -1.37320785e-02,  3.70539539e-02,  2.92661004e-02,\n",
              "        -8.60180892e-03, -5.35298064e-02, -3.37787382e-02,\n",
              "        -5.14011551e-03,  7.05178380e-02,  6.44934624e-02,\n",
              "        -2.28648540e-02, -5.82291558e-02,  3.33596580e-02,\n",
              "        -5.55959716e-02, -5.46956901e-03,  1.23760663e-02,\n",
              "         3.51859294e-02,  6.92244992e-03,  8.58575199e-03,\n",
              "        -2.16355361e-02,  7.22307563e-02, -3.82235856e-03,\n",
              "        -6.39527068e-02, -2.04643160e-02, -9.64303967e-03,\n",
              "         8.42510816e-03, -7.67642725e-03, -9.60125588e-03,\n",
              "        -5.81899583e-02, -6.38329163e-02, -6.83043990e-03,\n",
              "        -5.36664985e-02,  6.15798049e-02, -2.55117994e-02,\n",
              "        -4.73245420e-02,  6.70651346e-03,  2.24382244e-02,\n",
              "        -5.76147325e-02,  1.35074137e-02,  5.34584485e-02,\n",
              "        -7.19701946e-02,  3.58781666e-02, -2.91784555e-02,\n",
              "        -3.54252979e-02,  8.68609250e-02, -8.07622671e-02,\n",
              "         1.31430160e-02, -7.80124888e-02, -2.14092694e-02,\n",
              "        -4.81989160e-02,  5.29201515e-02,  3.16261165e-02,\n",
              "         6.71148896e-02,  7.57333338e-02,  1.93601064e-02,\n",
              "        -3.81700434e-02,  2.50572618e-03,  3.00799161e-02,\n",
              "         5.19865789e-02, -7.50100985e-02, -5.47928102e-02,\n",
              "         6.72627315e-02, -4.64004129e-02, -4.72892039e-02,\n",
              "        -7.41783008e-02,  8.40578508e-03, -2.72689629e-02,\n",
              "        -1.71459373e-02, -5.29549830e-02, -3.98103036e-02,\n",
              "         6.40237257e-02, -6.66592121e-02, -3.90272960e-02,\n",
              "         3.07268612e-02, -7.64892064e-03, -6.56796247e-02,\n",
              "        -3.29976715e-02, -2.85556167e-02, -6.34236038e-02,\n",
              "        -3.56236883e-02, -1.39253531e-02, -6.73538819e-02,\n",
              "        -6.25031516e-02,  4.12574746e-02,  5.03439344e-02,\n",
              "         2.51170788e-02,  5.86207286e-02,  1.38888881e-02,\n",
              "         1.38958124e-02,  1.39988055e-02, -2.14840309e-03,\n",
              "        -7.18516335e-02, -6.19103722e-02, -4.38068509e-02,\n",
              "        -5.36834970e-02, -3.05570867e-02,  5.51448166e-02,\n",
              "         1.41894901e-02, -2.83541754e-02,  3.19174752e-02,\n",
              "        -6.74264133e-03, -7.20121316e-04, -6.48303553e-02,\n",
              "         2.96734311e-02,  6.05667382e-02, -4.90074530e-02,\n",
              "         1.23873381e-02, -6.36962205e-02, -4.93269367e-03,\n",
              "         3.65978405e-02,  5.82105890e-02, -7.20680207e-02,\n",
              "        -6.11605123e-02,  6.29885793e-02,  4.96274121e-02,\n",
              "         3.57472291e-03,  4.62270379e-02, -8.12178198e-03,\n",
              "        -8.33854675e-02,  6.93906248e-02, -3.51148918e-02,\n",
              "         1.81822584e-03,  5.86086996e-02,  1.82991289e-02,\n",
              "        -1.88865475e-02,  6.81468099e-02,  1.81868412e-02,\n",
              "         4.02461030e-02,  4.31681909e-02, -2.01576315e-02,\n",
              "         3.88266370e-02,  5.24182543e-02, -2.86928862e-02,\n",
              "        -2.25356016e-02, -6.02674484e-02, -2.88980436e-02,\n",
              "         5.83810266e-03, -4.68637794e-02, -6.39027432e-02,\n",
              "         2.61103902e-02, -2.87910700e-02,  6.98462799e-02,\n",
              "         3.57184149e-02, -6.89400807e-02, -6.33528307e-02,\n",
              "         3.58211435e-02,  6.51415288e-02,  7.37632960e-02,\n",
              "         1.06804287e-02, -2.71676038e-03, -1.23609575e-02,\n",
              "        -3.90999690e-02,  4.73473929e-02,  1.74166784e-02,\n",
              "        -1.00388313e-02,  3.50991599e-02,  3.82459611e-02,\n",
              "         6.31487370e-02,  5.74430078e-02, -1.26054941e-03,\n",
              "         2.40565427e-02, -1.72352083e-02,  1.82378497e-02,\n",
              "        -6.05499856e-02, -6.15389422e-02, -1.91827572e-03,\n",
              "        -5.62678911e-02, -7.46417344e-02, -8.72818381e-03,\n",
              "        -6.08884613e-04,  9.46270861e-03,  2.72521134e-02,\n",
              "         6.04954436e-02, -2.17864960e-02, -3.40002701e-02,\n",
              "        -5.14288954e-02,  1.79504100e-02,  2.46470119e-03,\n",
              "         1.94014125e-02,  3.11436895e-02,  4.61992919e-02,\n",
              "         1.62460806e-03, -4.70498912e-02,  2.85714259e-03,\n",
              "        -6.68038726e-02, -6.35376051e-02, -2.90097240e-02,\n",
              "        -7.55055621e-02, -2.78305560e-02,  6.41930401e-02,\n",
              "         6.83432221e-02, -2.04561260e-02,  6.34551868e-02,\n",
              "        -5.16798608e-02,  2.45193169e-02, -5.00121154e-02,\n",
              "        -4.81064804e-02, -3.99851203e-02,  3.88273075e-02,\n",
              "        -9.78277158e-03,  3.98805737e-02,  1.29084568e-02,\n",
              "         2.19996758e-02, -2.46306434e-02,  3.47553417e-02,\n",
              "        -1.69415511e-02, -2.55678669e-02, -1.78454369e-02,\n",
              "         3.98929976e-02, -1.87361427e-02, -4.73659253e-03,\n",
              "        -2.81936545e-02, -2.89969537e-02,  7.11646974e-02,\n",
              "         3.28799300e-02, -1.58136226e-02, -5.03651127e-02,\n",
              "         7.54044726e-02, -6.78540468e-02,  1.43534336e-02,\n",
              "         5.92533173e-03,  3.64746265e-02, -4.93499227e-02,\n",
              "         6.39597252e-02, -9.05794948e-02,  5.47153205e-02,\n",
              "         4.64452915e-02, -2.28391797e-03, -1.46989422e-02,\n",
              "        -1.70580354e-02,  5.56886243e-03]], dtype=float32)>"
            ]
          },
          "execution_count": 51,
          "metadata": {},
          "output_type": "execute_result"
        }
      ],
      "source": [
        "random_train_sentence=random.choice(train_sentences)\n",
        "print(f\"Random sentence:\\n {random_train_sentence}\")\n",
        "use_embed_sentence=tf_hub_embedding_layer([random_train_sentence])\n",
        "use_embed_sentence"
      ]
    },
    {
      "cell_type": "code",
      "execution_count": null,
      "metadata": {
        "colab": {
          "base_uri": "https://localhost:8080/"
        },
        "id": "JG7KkLo7Q1uy",
        "outputId": "edfdefe0-c6c9-4d8a-ec98-d82ac6c5fce7"
      },
      "outputs": [
        {
          "name": "stdout",
          "output_type": "stream",
          "text": [
            "Model: \"model_2_USE\"\n",
            "_________________________________________________________________\n",
            " Layer (type)                Output Shape              Param #   \n",
            "=================================================================\n",
            " USE (KerasLayer)            (None, 512)               256797824 \n",
            "                                                                 \n",
            " dense_1 (Dense)             (None, 128)               65664     \n",
            "                                                                 \n",
            " dense_2 (Dense)             (None, 5)                 645       \n",
            "                                                                 \n",
            "=================================================================\n",
            "Total params: 256864133 (979.86 MB)\n",
            "Trainable params: 66309 (259.02 KB)\n",
            "Non-trainable params: 256797824 (979.61 MB)\n",
            "_________________________________________________________________\n"
          ]
        }
      ],
      "source": [
        "model_2=tf.keras.Sequential([\n",
        "    tf_hub_embedding_layer,\n",
        "    layers.Dense(128,activation='relu'),\n",
        "    layers.Dense(num_classes,activation='softmax')\n",
        "],name='model_2_USE')\n",
        "model_2.summary()"
      ]
    },
    {
      "cell_type": "code",
      "execution_count": null,
      "metadata": {
        "id": "2vCFsrawRxGR"
      },
      "outputs": [],
      "source": [
        "model_2.compile(loss='categorical_crossentropy',\n",
        "                optimizer='adam',\n",
        "                metrics=['accuracy'])"
      ]
    },
    {
      "cell_type": "code",
      "execution_count": null,
      "metadata": {
        "id": "CFQr5WJyWT0d"
      },
      "outputs": [],
      "source": [
        "SAVE_DIR='model_logs'"
      ]
    },
    {
      "cell_type": "code",
      "execution_count": null,
      "metadata": {
        "colab": {
          "base_uri": "https://localhost:8080/"
        },
        "id": "38kvVNI0VgNM",
        "outputId": "dbe192cd-f735-470c-fc19-c69502043771"
      },
      "outputs": [
        {
          "name": "stdout",
          "output_type": "stream",
          "text": [
            "Saving TensorBoard log files to: model_logs/tf_hub_sentence_encoder/20240226-060210\n",
            "Epoch 1/5\n",
            "562/562 [==============================] - 13s 17ms/step - loss: 0.9114 - accuracy: 0.6539 - val_loss: 0.8026 - val_accuracy: 0.6872\n",
            "Epoch 2/5\n",
            "562/562 [==============================] - 10s 17ms/step - loss: 0.7683 - accuracy: 0.7029 - val_loss: 0.7584 - val_accuracy: 0.7023\n",
            "Epoch 3/5\n",
            "562/562 [==============================] - 9s 16ms/step - loss: 0.7505 - accuracy: 0.7121 - val_loss: 0.7423 - val_accuracy: 0.7105\n",
            "Epoch 4/5\n",
            "562/562 [==============================] - 8s 15ms/step - loss: 0.7196 - accuracy: 0.7233 - val_loss: 0.7146 - val_accuracy: 0.7250\n",
            "Epoch 5/5\n",
            "562/562 [==============================] - 11s 20ms/step - loss: 0.7253 - accuracy: 0.7212 - val_loss: 0.6950 - val_accuracy: 0.7332\n"
          ]
        }
      ],
      "source": [
        "model_2_history=model_2.fit(train_dataset,\n",
        "                            epochs=5,\n",
        "                            steps_per_epoch=(0.1*len(train_dataset)),\n",
        "                            validation_data=val_dataset,\n",
        "                            validation_steps=(0.1*len(val_dataset)),\n",
        "                            callbacks=create_tensorboard_callback(SAVE_DIR,\n",
        "                                                                  'tf_hub_sentence_encoder'))"
      ]
    },
    {
      "cell_type": "code",
      "execution_count": null,
      "metadata": {
        "colab": {
          "base_uri": "https://localhost:8080/"
        },
        "id": "bK7w_A7pWPzI",
        "outputId": "ca8f5696-2798-44ed-b5aa-dc193c0397b5"
      },
      "outputs": [
        {
          "name": "stdout",
          "output_type": "stream",
          "text": [
            "945/945 [==============================] - 12s 12ms/step\n"
          ]
        },
        {
          "data": {
            "text/plain": [
              "array([[0.6304002 , 0.24608588, 0.0029147 , 0.10902718, 0.01157203],\n",
              "       [0.43585208, 0.46334198, 0.00638736, 0.09211046, 0.00230803]],\n",
              "      dtype=float32)"
            ]
          },
          "execution_count": 56,
          "metadata": {},
          "output_type": "execute_result"
        }
      ],
      "source": [
        "model_2_pred_probs=model_2.predict(val_sentences)\n",
        "model_2_pred_probs[:2]"
      ]
    },
    {
      "cell_type": "code",
      "execution_count": null,
      "metadata": {
        "colab": {
          "base_uri": "https://localhost:8080/"
        },
        "id": "2YuQP_kGX6xu",
        "outputId": "7b50d6b4-a513-4b74-9d89-201ae02574d6"
      },
      "outputs": [
        {
          "data": {
            "text/plain": [
              "<tf.Tensor: shape=(30212,), dtype=int64, numpy=array([0, 1, 3, ..., 4, 2, 2])>"
            ]
          },
          "execution_count": 57,
          "metadata": {},
          "output_type": "execute_result"
        }
      ],
      "source": [
        "model_2_preds=tf.argmax(model_2_pred_probs,axis=1)\n",
        "model_2_preds"
      ]
    },
    {
      "cell_type": "code",
      "execution_count": null,
      "metadata": {
        "id": "c9mfJScEYr14"
      },
      "outputs": [],
      "source": [
        "def calculate_results(y_true,y_pred):\n",
        "  \"\"\"\n",
        "  Calculates model accuracy,precision,recall,f1-score of a binary classification mdoel.\n",
        "  \"\"\"\n",
        "  # Calculate the accuracy\n",
        "  model_accuracy=accuracy_score(y_true,y_pred)*100\n",
        "\n",
        "  # Calculate the precision,recall,f1_score using \"weighted\" average\n",
        "  model_precision,model_recall,model_f1,_=precision_recall_fscore_support(y_true,y_pred,average='weighted')\n",
        "\n",
        "  model_results={'accuracy':model_accuracy,\n",
        "                 \"precision\":model_precision,\n",
        "                 'recall':model_recall,\n",
        "                 'f1':model_f1}\n",
        "  return model_results"
      ]
    },
    {
      "cell_type": "code",
      "execution_count": null,
      "metadata": {
        "colab": {
          "base_uri": "https://localhost:8080/"
        },
        "id": "TbRWMA-7YeG1",
        "outputId": "5255d2cf-273f-4f84-f5a7-7e94990bb244"
      },
      "outputs": [
        {
          "data": {
            "text/plain": [
              "{'accuracy': 73.36819806699324,\n",
              " 'precision': 0.7305798181382394,\n",
              " 'recall': 0.7336819806699325,\n",
              " 'f1': 0.7283024223297443}"
            ]
          },
          "execution_count": 59,
          "metadata": {},
          "output_type": "execute_result"
        }
      ],
      "source": [
        "model_2_results=calculate_results(y_true=val_labels_encoded,\n",
        "                                  y_pred=model_2_preds)\n",
        "model_2_results"
      ]
    },
    {
      "cell_type": "markdown",
      "metadata": {
        "id": "eQQToUHYKwk2"
      },
      "source": [
        "### Model 3: Conv1D with character embeddings"
      ]
    },
    {
      "cell_type": "markdown",
      "metadata": {
        "id": "sxGN1NSUW6u0"
      },
      "source": [
        "### Creating character-level tokenizer"
      ]
    },
    {
      "cell_type": "code",
      "execution_count": null,
      "metadata": {
        "id": "AlSOE5hhZAmo"
      },
      "outputs": [],
      "source": [
        "def split_chars(text):\n",
        "  return \" \".join(list(text))"
      ]
    },
    {
      "cell_type": "code",
      "execution_count": null,
      "metadata": {
        "colab": {
          "base_uri": "https://localhost:8080/",
          "height": 53
        },
        "id": "hixvOWqKYNjr",
        "outputId": "1f7f2eeb-2f32-487d-9ecb-9394d8148a5b"
      },
      "outputs": [
        {
          "data": {
            "application/vnd.google.colaboratory.intrinsic+json": {
              "type": "string"
            },
            "text/plain": [
              "'b a s e l i n e   ,   d i s c h a r g e   ,   a n d   c h a n g e   i n   r e n a l   f u n c t i o n   w e r e   a s s o c i a t e d   w i t h   @ - d a y   m o r t a l i t y   o r   r e h o s p i t a l i z a t i o n   f o r   h e a r t   f a i l u r e   .'"
            ]
          },
          "execution_count": 61,
          "metadata": {},
          "output_type": "execute_result"
        }
      ],
      "source": [
        "split_chars(random_train_sentence)"
      ]
    },
    {
      "cell_type": "code",
      "execution_count": null,
      "metadata": {
        "colab": {
          "base_uri": "https://localhost:8080/"
        },
        "id": "Tm2owTjzYO84",
        "outputId": "dd7593a6-be28-4be3-87b3-caa0bc669247"
      },
      "outputs": [
        {
          "data": {
            "text/plain": [
              "(['t o   i n v e s t i g a t e   t h e   e f f i c a c y   o f   @   w e e k s   o f   d a i l y   l o w - d o s e   o r a l   p r e d n i s o l o n e   i n   i m p r o v i n g   p a i n   ,   m o b i l i t y   ,   a n d   s y s t e m i c   l o w - g r a d e   i n f l a m m a t i o n   i n   t h e   s h o r t   t e r m   a n d   w h e t h e r   t h e   e f f e c t   w o u l d   b e   s u s t a i n e d   a t   @   w e e k s   i n   o l d e r   a d u l t s   w i t h   m o d e r a t e   t o   s e v e r e   k n e e   o s t e o a r t h r i t i s   (   o a   )   .'],\n",
              " ['i g e   s e n s i t i z a t i o n   t o   a s p e r g i l l u s   f u m i g a t u s   a n d   a   p o s i t i v e   s p u t u m   f u n g a l   c u l t u r e   r e s u l t   a r e   c o m m o n   i n   p a t i e n t s   w i t h   r e f r a c t o r y   a s t h m a   .'],\n",
              " ['t h i s   s t u d y   a n a l y z e d   l i v e r   f u n c t i o n   a b n o r m a l i t i e s   i n   h e a r t   f a i l u r e   p a t i e n t s   a d m i t t e d   w i t h   s e v e r e   a c u t e   d e c o m p e n s a t e d   h e a r t   f a i l u r e   (   a d h f   )   .'])"
            ]
          },
          "execution_count": 62,
          "metadata": {},
          "output_type": "execute_result"
        }
      ],
      "source": [
        "train_chars=[split_chars(sentence) for sentence in train_sentences]\n",
        "val_chars=[split_chars(sentence) for sentence in val_sentences]\n",
        "test_chars=[split_chars(sentence) for sentence in test_sentences]\n",
        "train_chars[:1],val_chars[:1],test_chars[:1]"
      ]
    },
    {
      "cell_type": "code",
      "execution_count": null,
      "metadata": {
        "id": "Gin9DgIla_YN"
      },
      "outputs": [],
      "source": [
        "import numpy as np"
      ]
    },
    {
      "cell_type": "code",
      "execution_count": null,
      "metadata": {
        "colab": {
          "base_uri": "https://localhost:8080/"
        },
        "id": "nW41kt1VY9Ib",
        "outputId": "7147f893-3f7c-4197-e0e9-e99557f0c42f"
      },
      "outputs": [
        {
          "data": {
            "text/plain": [
              "149.3662574983337"
            ]
          },
          "execution_count": 64,
          "metadata": {},
          "output_type": "execute_result"
        }
      ],
      "source": [
        "char_lens=[len(sentence) for sentence in train_sentences]\n",
        "mean_char_lens=np.mean(char_lens)\n",
        "mean_char_lens"
      ]
    },
    {
      "cell_type": "code",
      "execution_count": null,
      "metadata": {
        "colab": {
          "base_uri": "https://localhost:8080/"
        },
        "id": "uvnvwIftayY5",
        "outputId": "36127de1-a7b6-43e5-e4b7-32fd168e7b7b"
      },
      "outputs": [
        {
          "data": {
            "text/plain": [
              "290"
            ]
          },
          "execution_count": 65,
          "metadata": {},
          "output_type": "execute_result"
        }
      ],
      "source": [
        "output_seq_char_len=int(np.percentile(char_lens,95))\n",
        "output_seq_char_len"
      ]
    },
    {
      "cell_type": "code",
      "execution_count": null,
      "metadata": {
        "id": "qsTUwdVydrT0"
      },
      "outputs": [],
      "source": [
        "import string\n",
        "alphabet=string.ascii_lowercase+string.digits+string.punctuation"
      ]
    },
    {
      "cell_type": "code",
      "execution_count": null,
      "metadata": {
        "id": "tS1-fNmJefIV"
      },
      "outputs": [],
      "source": [
        "NUM_CHAR_TOKENS=len(alphabet)+2\n",
        "char_vectorizer=TextVectorization(max_tokens=NUM_CHAR_TOKENS,\n",
        "                                  output_sequence_length=output_seq_char_len,\n",
        "                                  # standardize=None,\n",
        "                                  name='char_vectorizer')"
      ]
    },
    {
      "cell_type": "code",
      "execution_count": null,
      "metadata": {
        "id": "ojWN6ht5gmJK"
      },
      "outputs": [],
      "source": [
        "char_vectorizer.adapt(train_chars)"
      ]
    },
    {
      "cell_type": "code",
      "execution_count": null,
      "metadata": {
        "colab": {
          "base_uri": "https://localhost:8080/"
        },
        "id": "jVaVkRQUidoH",
        "outputId": "17860357-acea-4515-9e87-05e7138b24fa"
      },
      "outputs": [
        {
          "name": "stdout",
          "output_type": "stream",
          "text": [
            "Number of different characters in character vocab:28\n",
            "5 most common characters:['', '[UNK]', 'e', 't', 'i']\n",
            "5 least common characters:['k', 'x', 'z', 'q', 'j']\n"
          ]
        }
      ],
      "source": [
        "char_vocab=char_vectorizer.get_vocabulary()\n",
        "print(f'Number of different characters in character vocab:{len(char_vocab)}')\n",
        "print(f'5 most common characters:{char_vocab[:5]}')\n",
        "print(f'5 least common characters:{char_vocab[-5:]}')"
      ]
    },
    {
      "cell_type": "code",
      "execution_count": null,
      "metadata": {
        "colab": {
          "base_uri": "https://localhost:8080/"
        },
        "id": "5AhCXINFjMdf",
        "outputId": "dd16ba88-cdbd-4f52-c603-c9ef6e308d22"
      },
      "outputs": [
        {
          "name": "stdout",
          "output_type": "stream",
          "text": [
            "Charified text:\n",
            " (   c l i n i c a l t r i a l s . g o v   n u m b e r   ,   n c t @   .   )\n",
            "Length of random_train_chars :75\n"
          ]
        }
      ],
      "source": [
        "random_train_chars=random.choice(train_chars)\n",
        "print(f'Charified text:\\n {random_train_chars}')\n",
        "print(f'Length of random_train_chars :{len(random_train_chars)}')"
      ]
    },
    {
      "cell_type": "code",
      "execution_count": null,
      "metadata": {
        "colab": {
          "base_uri": "https://localhost:8080/"
        },
        "id": "983GeR1XkuJk",
        "outputId": "63b2e324-4217-4ff3-d894-633e9fc57efa"
      },
      "outputs": [
        {
          "name": "stdout",
          "output_type": "stream",
          "text": [
            "\n",
            " Vectorized_chars:\n",
            " [[11 12  4  6  4 11  5 12  3  8  4  5 12  9 18  7 21  6 16 15 22  2  8  6\n",
            "  11  3  0  0  0  0  0  0  0  0  0  0  0  0  0  0  0  0  0  0  0  0  0  0\n",
            "   0  0  0  0  0  0  0  0  0  0  0  0  0  0  0  0  0  0  0  0  0  0  0  0\n",
            "   0  0  0  0  0  0  0  0  0  0  0  0  0  0  0  0  0  0  0  0  0  0  0  0\n",
            "   0  0  0  0  0  0  0  0  0  0  0  0  0  0  0  0  0  0  0  0  0  0  0  0\n",
            "   0  0  0  0  0  0  0  0  0  0  0  0  0  0  0  0  0  0  0  0  0  0  0  0\n",
            "   0  0  0  0  0  0  0  0  0  0  0  0  0  0  0  0  0  0  0  0  0  0  0  0\n",
            "   0  0  0  0  0  0  0  0  0  0  0  0  0  0  0  0  0  0  0  0  0  0  0  0\n",
            "   0  0  0  0  0  0  0  0  0  0  0  0  0  0  0  0  0  0  0  0  0  0  0  0\n",
            "   0  0  0  0  0  0  0  0  0  0  0  0  0  0  0  0  0  0  0  0  0  0  0  0\n",
            "   0  0  0  0  0  0  0  0  0  0  0  0  0  0  0  0  0  0  0  0  0  0  0  0\n",
            "   0  0  0  0  0  0  0  0  0  0  0  0  0  0  0  0  0  0  0  0  0  0  0  0\n",
            "   0  0]]\n",
            "\n",
            " Length of vectorized chars: 1\n"
          ]
        }
      ],
      "source": [
        "vectorized_chars=char_vectorizer([random_train_chars])\n",
        "print(f\"\\n Vectorized_chars:\\n {vectorized_chars}\")\n",
        "print(f'\\n Length of vectorized chars: {len(vectorized_chars)}')"
      ]
    },
    {
      "cell_type": "markdown",
      "metadata": {
        "id": "knGDs-exS7D5"
      },
      "source": [
        "### Creating a character-level embedding"
      ]
    },
    {
      "cell_type": "code",
      "execution_count": null,
      "metadata": {
        "colab": {
          "base_uri": "https://localhost:8080/"
        },
        "id": "1H1JLGKZUG8s",
        "outputId": "08b5c085-d560-434f-d87a-8cfb855d4660"
      },
      "outputs": [
        {
          "data": {
            "text/plain": [
              "<keras.src.layers.core.embedding.Embedding at 0x7f53ac0fb640>"
            ]
          },
          "execution_count": 72,
          "metadata": {},
          "output_type": "execute_result"
        }
      ],
      "source": [
        "from tensorflow.keras import layers\n",
        "char_embed=layers.Embedding(input_dim=len(char_vocab),\n",
        "                            output_dim=25,\n",
        "                            mask_zero=True,\n",
        "                            name='char_embed')\n",
        "char_embed"
      ]
    },
    {
      "cell_type": "code",
      "execution_count": null,
      "metadata": {
        "colab": {
          "base_uri": "https://localhost:8080/"
        },
        "id": "jqdK4r15U6dl",
        "outputId": "4fb2cabb-7bc5-4f8a-a254-f5c9fdb1f6f8"
      },
      "outputs": [
        {
          "name": "stdout",
          "output_type": "stream",
          "text": [
            "Charified text:\n",
            "(   c l i n i c a l t r i a l s . g o v   n u m b e r   ,   n c t @   .   )\n",
            "\n",
            "Embedd chars. (after vectorization and embedding):\n",
            " [[[-0.02949653  0.02171942 -0.0342251  ...  0.04920575  0.03256614\n",
            "    0.02169831]\n",
            "  [-0.03344937  0.01949069 -0.04688866 ... -0.03549565 -0.01787458\n",
            "   -0.0497462 ]\n",
            "  [-0.00716114 -0.01843367  0.03710211 ... -0.02631853 -0.02801609\n",
            "   -0.03457531]\n",
            "  ...\n",
            "  [-0.04046383  0.04370305 -0.04186685 ...  0.04713598 -0.00205598\n",
            "    0.04900939]\n",
            "  [-0.04046383  0.04370305 -0.04186685 ...  0.04713598 -0.00205598\n",
            "    0.04900939]\n",
            "  [-0.04046383  0.04370305 -0.04186685 ...  0.04713598 -0.00205598\n",
            "    0.04900939]]]\n",
            "\n",
            "Char embed shape:(1, 290, 25)\n"
          ]
        }
      ],
      "source": [
        "print(f\"Charified text:\\n{random_train_chars}\\n\")\n",
        "char_embed_example=char_embed(char_vectorizer([random_train_chars]))\n",
        "print(f\"Embedd chars. (after vectorization and embedding):\\n {char_embed_example}\\n\")\n",
        "print(f'Char embed shape:{char_embed_example.shape}')"
      ]
    },
    {
      "cell_type": "code",
      "execution_count": null,
      "metadata": {
        "id": "h-1HJB1cs3I_"
      },
      "outputs": [],
      "source": [
        "inputs=layers.Input(shape=(1,),dtype=tf.string)\n",
        "char_vectors=char_vectorizer(inputs)\n",
        "char_embeddings=char_embed(char_vectors)\n",
        "x=layers.Conv1D(64,kernel_size=5,padding='same',activation='relu')(char_embeddings)\n",
        "x=layers.GlobalMaxPool1D()(x)\n",
        "outputs=layers.Dense(num_classes,activation='softmax')(x)\n",
        "model_3=tf.keras.Model(inputs,outputs)\n",
        "\n",
        "model_3.compile(loss='categorical_crossentropy',\n",
        "                optimizer=tf.keras.optimizers.Adam(),\n",
        "                metrics=['accuracy'])"
      ]
    },
    {
      "cell_type": "code",
      "execution_count": null,
      "metadata": {
        "colab": {
          "base_uri": "https://localhost:8080/"
        },
        "id": "XBK-9jqjwyrL",
        "outputId": "8f3a14a7-19e0-42fb-e3ad-d2b836f8fff2"
      },
      "outputs": [
        {
          "name": "stdout",
          "output_type": "stream",
          "text": [
            "Model: \"model_1\"\n",
            "_________________________________________________________________\n",
            " Layer (type)                Output Shape              Param #   \n",
            "=================================================================\n",
            " input_2 (InputLayer)        [(None, 1)]               0         \n",
            "                                                                 \n",
            " char_vectorizer (TextVecto  (None, 290)               0         \n",
            " rization)                                                       \n",
            "                                                                 \n",
            " char_embed (Embedding)      (None, 290, 25)           700       \n",
            "                                                                 \n",
            " conv1d_1 (Conv1D)           (None, 290, 64)           8064      \n",
            "                                                                 \n",
            " global_max_pooling1d (Glob  (None, 64)                0         \n",
            " alMaxPooling1D)                                                 \n",
            "                                                                 \n",
            " dense_3 (Dense)             (None, 5)                 325       \n",
            "                                                                 \n",
            "=================================================================\n",
            "Total params: 9089 (35.50 KB)\n",
            "Trainable params: 9089 (35.50 KB)\n",
            "Non-trainable params: 0 (0.00 Byte)\n",
            "_________________________________________________________________\n"
          ]
        }
      ],
      "source": [
        "model_3.summary()"
      ]
    },
    {
      "cell_type": "code",
      "execution_count": null,
      "metadata": {
        "colab": {
          "base_uri": "https://localhost:8080/"
        },
        "id": "aa4uD0LqzU_8",
        "outputId": "7fdd54eb-4704-4610-dbcc-d11ed7fce040"
      },
      "outputs": [
        {
          "data": {
            "text/plain": [
              "<_PrefetchDataset element_spec=(TensorSpec(shape=(None,), dtype=tf.string, name=None), TensorSpec(shape=(None, 5), dtype=tf.float64, name=None))>"
            ]
          },
          "execution_count": 76,
          "metadata": {},
          "output_type": "execute_result"
        }
      ],
      "source": [
        "train_char_datasets=tf.data.Dataset.from_tensor_slices((train_chars,train_labels_one_hot)).batch(32).prefetch(tf.data.AUTOTUNE)\n",
        "val_char_datasets=tf.data.Dataset.from_tensor_slices((val_chars,val_labels_one_hot)).batch(32).prefetch(tf.data.AUTOTUNE)\n",
        "test_char_datasets=tf.data.Dataset.from_tensor_slices((test_chars,test_labels_one_hot)).batch(32).prefetch(tf.data.AUTOTUNE)\n",
        "train_char_datasets"
      ]
    },
    {
      "cell_type": "code",
      "execution_count": null,
      "metadata": {
        "colab": {
          "background_save": true,
          "base_uri": "https://localhost:8080/"
        },
        "id": "gazEuqHnutKD",
        "outputId": "c3ecbc5e-7f31-493f-b10f-41998cdbb258"
      },
      "outputs": [
        {
          "name": "stdout",
          "output_type": "stream",
          "text": [
            "Epoch 1/3\n",
            "562/562 [==============================] - 14s 23ms/step - loss: 1.2477 - accuracy: 0.4949 - val_loss: 1.0580 - val_accuracy: 0.5773\n",
            "Epoch 2/3\n",
            "562/562 [==============================] - 12s 22ms/step - loss: 1.0125 - accuracy: 0.5948 - val_loss: 0.9622 - val_accuracy: 0.6148\n",
            "Epoch 3/3\n",
            "562/562 [==============================] - 12s 22ms/step - loss: 0.9287 - accuracy: 0.6368 - val_loss: 0.8810 - val_accuracy: 0.6572\n"
          ]
        }
      ],
      "source": [
        "model_3_history=model_3.fit(train_char_datasets,\n",
        "                            epochs=3,\n",
        "                            steps_per_epoch=(0.1*len(train_char_datasets)),\n",
        "                            validation_data=val_char_datasets,\n",
        "                            validation_steps=(0.1*len(val_char_datasets)))"
      ]
    },
    {
      "cell_type": "code",
      "execution_count": null,
      "metadata": {
        "colab": {
          "background_save": true
        },
        "id": "wf78QMzxvdtl",
        "outputId": "6ef3106d-74bd-4313-d2e5-183ae8797100"
      },
      "outputs": [
        {
          "name": "stdout",
          "output_type": "stream",
          "text": [
            "945/945 [==============================] - 8s 8ms/step\n"
          ]
        },
        {
          "data": {
            "text/plain": [
              "array([[0.1899602 , 0.40168586, 0.11210395, 0.24500585, 0.05124412],\n",
              "       [0.23634008, 0.30906942, 0.01988532, 0.40758342, 0.02712178],\n",
              "       [0.06250016, 0.20517415, 0.38589424, 0.25831482, 0.08811658],\n",
              "       ...,\n",
              "       [0.03035246, 0.12119371, 0.12073492, 0.04652167, 0.6811972 ],\n",
              "       [0.02894267, 0.13964185, 0.31385967, 0.03791636, 0.4796395 ],\n",
              "       [0.47742617, 0.33213097, 0.09149561, 0.08633088, 0.01261639]],\n",
              "      dtype=float32)"
            ]
          },
          "execution_count": 78,
          "metadata": {},
          "output_type": "execute_result"
        }
      ],
      "source": [
        "model_3_pred_probs=model_3.predict(val_char_datasets)\n",
        "model_3_pred_probs"
      ]
    },
    {
      "cell_type": "code",
      "execution_count": null,
      "metadata": {
        "colab": {
          "background_save": true
        },
        "id": "eGDKQ2rUwKdc",
        "outputId": "a53e136a-8cfa-4f32-eb1c-1358eee5de13"
      },
      "outputs": [
        {
          "data": {
            "text/plain": [
              "<tf.Tensor: shape=(30212,), dtype=int64, numpy=array([1, 3, 2, ..., 4, 4, 0])>"
            ]
          },
          "execution_count": 79,
          "metadata": {},
          "output_type": "execute_result"
        }
      ],
      "source": [
        "model_3_preds=tf.argmax(model_3_pred_probs,axis=1)\n",
        "model_3_preds"
      ]
    },
    {
      "cell_type": "code",
      "execution_count": null,
      "metadata": {
        "colab": {
          "background_save": true
        },
        "id": "NNfRZirZwTaL",
        "outputId": "f3684d4c-0854-40ab-e75b-b27537ca0f78"
      },
      "outputs": [
        {
          "data": {
            "text/plain": [
              "{'accuracy': 64.90798358268238,\n",
              " 'precision': 0.6505804154317266,\n",
              " 'recall': 0.6490798358268238,\n",
              " 'f1': 0.6364494238585536}"
            ]
          },
          "execution_count": 80,
          "metadata": {},
          "output_type": "execute_result"
        }
      ],
      "source": [
        "model_3_results=calculate_results(y_true=val_labels_encoded,\n",
        "                                  y_pred=model_3_preds)\n",
        "model_3_results"
      ]
    },
    {
      "cell_type": "markdown",
      "metadata": {
        "id": "J_9A-y8FwmNj"
      },
      "source": [
        "### Model 4: Combining pretrained token embeddings + characters embeddings (hybrid embeddings layer)\n",
        "\n",
        "1. Create a token-level embedding model (similar `model-1`)\n",
        "2. Create a char-level embedding model (similar `model-3` with slight modification)\n",
        "3. Combine 1 & 2 with a concatenate (`layers.Concatenate`)\n",
        "4. Build a series of output on top of 3\n",
        "5. Construct a model which takes token and character-level sequence as input and produces sequence label probabilities as outptu"
      ]
    },
    {
      "cell_type": "code",
      "execution_count": null,
      "metadata": {
        "colab": {
          "background_save": true
        },
        "id": "g3UpIu4y3hY0"
      },
      "outputs": [],
      "source": [
        "# 1.token-level embedding model\n",
        "token_inputs=layers.Input(shape=[],dtype=tf.string,name='token_inputs')\n",
        "token_embeddings=tf_hub_embedding_layer(token_inputs)\n",
        "token_outputs=layers.Dense(128,activation='relu')(token_embeddings)\n",
        "token_model=tf.keras.Model(inputs=token_inputs,outputs=token_outputs)\n",
        "\n",
        "# 2.char-level embedding model\n",
        "\n",
        "char_inputs=layers.Input(shape=(1,),dtype=tf.string,name='char_inputs')\n",
        "char_vectors=char_vectorizer(char_inputs)\n",
        "char_embeddings=char_embed(char_vectors)\n",
        "char_bi_lstm=layers.Bidirectional(layers.LSTM(24))(char_embeddings)\n",
        "\n",
        "char_model=tf.keras.Model(inputs=char_inputs,\n",
        "                          outputs=char_bi_lstm)\n",
        "\n",
        "# 3.Combine token and char inputs (create hybrid embeddings)\n",
        "token_char_concatenate=layers.Concatenate(name='token_char_hybrid')([token_model.output,char_model.output])\n",
        "\n",
        "\n",
        "# 4 create output layer - addding in dropout\n",
        "\n",
        "combined_dropout=layers.Dropout(0.5)(token_char_concatenate)\n",
        "combined_dense=layers.Dense(128,activation='relu')(combined_dropout)\n",
        "\n",
        "\n",
        "final_dropout=layers.Dropout(0.5)(combined_dense)\n",
        "output_layer=layers.Dense(num_classes,activation='softmax')(final_dropout)\n",
        "\n",
        "# 5.onstruct a model which takes token and character-level sequence as input\n",
        "model_4=tf.keras.Model(inputs=[token_model.input,char_model.input],\n",
        "                       outputs=output_layer,name='model_4_token_char_embeddings')\n"
      ]
    },
    {
      "cell_type": "code",
      "execution_count": null,
      "metadata": {
        "colab": {
          "background_save": true
        },
        "id": "AO-DTJGOp0S2",
        "outputId": "ee72c612-9d02-4fa8-c1fd-bc64ad71e974"
      },
      "outputs": [
        {
          "name": "stdout",
          "output_type": "stream",
          "text": [
            "Model: \"model_4_token_char_embeddings\"\n",
            "__________________________________________________________________________________________________\n",
            " Layer (type)                Output Shape                 Param #   Connected to                  \n",
            "==================================================================================================\n",
            " char_inputs (InputLayer)    [(None, 1)]                  0         []                            \n",
            "                                                                                                  \n",
            " token_inputs (InputLayer)   [(None,)]                    0         []                            \n",
            "                                                                                                  \n",
            " char_vectorizer (TextVecto  (None, 290)                  0         ['char_inputs[0][0]']         \n",
            " rization)                                                                                        \n",
            "                                                                                                  \n",
            " USE (KerasLayer)            (None, 512)                  2567978   ['token_inputs[0][0]']        \n",
            "                                                          24                                      \n",
            "                                                                                                  \n",
            " char_embed (Embedding)      (None, 290, 25)              700       ['char_vectorizer[1][0]']     \n",
            "                                                                                                  \n",
            " dense_4 (Dense)             (None, 128)                  65664     ['USE[1][0]']                 \n",
            "                                                                                                  \n",
            " bidirectional (Bidirection  (None, 48)                   9600      ['char_embed[1][0]']          \n",
            " al)                                                                                              \n",
            "                                                                                                  \n",
            " token_char_hybrid (Concate  (None, 176)                  0         ['dense_4[0][0]',             \n",
            " nate)                                                               'bidirectional[0][0]']       \n",
            "                                                                                                  \n",
            " dropout (Dropout)           (None, 176)                  0         ['token_char_hybrid[0][0]']   \n",
            "                                                                                                  \n",
            " dense_5 (Dense)             (None, 128)                  22656     ['dropout[0][0]']             \n",
            "                                                                                                  \n",
            " dropout_1 (Dropout)         (None, 128)                  0         ['dense_5[0][0]']             \n",
            "                                                                                                  \n",
            " dense_6 (Dense)             (None, 5)                    645       ['dropout_1[0][0]']           \n",
            "                                                                                                  \n",
            "==================================================================================================\n",
            "Total params: 256897089 (979.98 MB)\n",
            "Trainable params: 99265 (387.75 KB)\n",
            "Non-trainable params: 256797824 (979.61 MB)\n",
            "__________________________________________________________________________________________________\n"
          ]
        }
      ],
      "source": [
        "model_4.summary()"
      ]
    },
    {
      "cell_type": "code",
      "execution_count": null,
      "metadata": {
        "colab": {
          "background_save": true
        },
        "id": "A9dpG6b88wN-",
        "outputId": "ec5285ef-d846-4ad3-997f-77cfcc59c748"
      },
      "outputs": [
        {
          "data": {
            "image/png": "[encoded data removed]",
            "text/plain": [
              "<IPython.core.display.Image object>"
            ]
          },
          "execution_count": 83,
          "metadata": {},
          "output_type": "execute_result"
        }
      ],
      "source": [
        "from keras.utils import plot_model\n",
        "plot_model(model_4,show_shapes=True)"
      ]
    },
    {
      "cell_type": "code",
      "execution_count": null,
      "metadata": {
        "colab": {
          "background_save": true
        },
        "id": "JEirvlWT9VfN"
      },
      "outputs": [],
      "source": [
        "model_4.compile(loss='categorical_crossentropy',\n",
        "                optimizer=tf.keras.optimizers.Adam(),\n",
        "                metrics=['accuracy'])"
      ]
    },
    {
      "cell_type": "code",
      "execution_count": null,
      "metadata": {
        "colab": {
          "background_save": true
        },
        "id": "18x4nYutX6QU"
      },
      "outputs": [],
      "source": [
        "# Combine chars and tokens into a dataset\n",
        "train_char_token_data=tf.data.Dataset.from_tensor_slices((train_sentences,train_chars))\n",
        "train_char_token_labels=tf.data.Dataset.from_tensor_slices(train_labels_one_hot)\n",
        "train_char_token_dataset=tf.data.Dataset.zip((train_char_token_data,train_char_token_labels))\n",
        "\n",
        "\n",
        "train_char_token_dataset=train_char_token_dataset.batch(32).prefetch(tf.data.AUTOTUNE)"
      ]
    },
    {
      "cell_type": "code",
      "execution_count": null,
      "metadata": {
        "colab": {
          "background_save": true
        },
        "id": "VgKiwLK2Z74x"
      },
      "outputs": [],
      "source": [
        "# Repeat the above steps for our val data\n",
        "val_char_token_data=tf.data.Dataset.from_tensor_slices((val_sentences,val_chars))\n",
        "val_char_token_labels=tf.data.Dataset.from_tensor_slices(val_labels_one_hot)\n",
        "val_char_token_dataset=tf.data.Dataset.zip((val_char_token_data,val_char_token_labels))\n",
        "\n",
        "\n",
        "val_char_token_dataset=val_char_token_dataset.batch(32).prefetch(tf.data.AUTOTUNE)"
      ]
    },
    {
      "cell_type": "markdown",
      "metadata": {
        "id": "g5lM7L2feiGm"
      },
      "source": [
        "### Fitting a model on token and character-level sequences"
      ]
    },
    {
      "cell_type": "code",
      "execution_count": null,
      "metadata": {
        "colab": {
          "background_save": true
        },
        "id": "sRol6CNqcydO",
        "outputId": "0ce4bdad-50e9-4d25-a0f0-4ec903ec2156"
      },
      "outputs": [
        {
          "name": "stdout",
          "output_type": "stream",
          "text": [
            "Epoch 1/3\n",
            "493/562 [=========================>....] - ETA: 19s - loss: 0.9981 - accuracy: 0.6026"
          ]
        },
        {
          "ename": "KeyboardInterrupt",
          "evalue": "",
          "output_type": "error",
          "traceback": [
            "\u001b[0;31m---------------------------------------------------------------------------\u001b[0m",
            "\u001b[0;31mKeyboardInterrupt\u001b[0m                         Traceback (most recent call last)",
            "\u001b[0;32m<ipython-input-87-640097511b20>\u001b[0m in \u001b[0;36m<cell line: 1>\u001b[0;34m()\u001b[0m\n\u001b[0;32m----> 1\u001b[0;31m model_4_history=model_4.fit(train_char_token_dataset,\n\u001b[0m\u001b[1;32m      2\u001b[0m                             \u001b[0mepochs\u001b[0m\u001b[0;34m=\u001b[0m\u001b[0;36m3\u001b[0m\u001b[0;34m,\u001b[0m\u001b[0;34m\u001b[0m\u001b[0;34m\u001b[0m\u001b[0m\n\u001b[1;32m      3\u001b[0m                             \u001b[0msteps_per_epoch\u001b[0m\u001b[0;34m=\u001b[0m\u001b[0mint\u001b[0m\u001b[0;34m(\u001b[0m\u001b[0;36m0.1\u001b[0m\u001b[0;34m*\u001b[0m\u001b[0mlen\u001b[0m\u001b[0;34m(\u001b[0m\u001b[0mtrain_char_token_dataset\u001b[0m\u001b[0;34m)\u001b[0m\u001b[0;34m)\u001b[0m\u001b[0;34m,\u001b[0m\u001b[0;34m\u001b[0m\u001b[0;34m\u001b[0m\u001b[0m\n\u001b[1;32m      4\u001b[0m                             \u001b[0mvalidation_data\u001b[0m\u001b[0;34m=\u001b[0m\u001b[0mval_char_token_dataset\u001b[0m\u001b[0;34m,\u001b[0m\u001b[0;34m\u001b[0m\u001b[0;34m\u001b[0m\u001b[0m\n\u001b[1;32m      5\u001b[0m                             validation_steps=int(0.1*len(val_char_token_dataset)))\n",
            "\u001b[0;32m/usr/local/lib/python3.10/dist-packages/keras/src/utils/traceback_utils.py\u001b[0m in \u001b[0;36merror_handler\u001b[0;34m(*args, **kwargs)\u001b[0m\n\u001b[1;32m     63\u001b[0m         \u001b[0mfiltered_tb\u001b[0m \u001b[0;34m=\u001b[0m \u001b[0;32mNone\u001b[0m\u001b[0;34m\u001b[0m\u001b[0;34m\u001b[0m\u001b[0m\n\u001b[1;32m     64\u001b[0m         \u001b[0;32mtry\u001b[0m\u001b[0;34m:\u001b[0m\u001b[0;34m\u001b[0m\u001b[0;34m\u001b[0m\u001b[0m\n\u001b[0;32m---> 65\u001b[0;31m             \u001b[0;32mreturn\u001b[0m \u001b[0mfn\u001b[0m\u001b[0;34m(\u001b[0m\u001b[0;34m*\u001b[0m\u001b[0margs\u001b[0m\u001b[0;34m,\u001b[0m \u001b[0;34m**\u001b[0m\u001b[0mkwargs\u001b[0m\u001b[0;34m)\u001b[0m\u001b[0;34m\u001b[0m\u001b[0;34m\u001b[0m\u001b[0m\n\u001b[0m\u001b[1;32m     66\u001b[0m         \u001b[0;32mexcept\u001b[0m \u001b[0mException\u001b[0m \u001b[0;32mas\u001b[0m \u001b[0me\u001b[0m\u001b[0;34m:\u001b[0m\u001b[0;34m\u001b[0m\u001b[0;34m\u001b[0m\u001b[0m\n\u001b[1;32m     67\u001b[0m             \u001b[0mfiltered_tb\u001b[0m \u001b[0;34m=\u001b[0m \u001b[0m_process_traceback_frames\u001b[0m\u001b[0;34m(\u001b[0m\u001b[0me\u001b[0m\u001b[0;34m.\u001b[0m\u001b[0m__traceback__\u001b[0m\u001b[0;34m)\u001b[0m\u001b[0;34m\u001b[0m\u001b[0;34m\u001b[0m\u001b[0m\n",
            "\u001b[0;32m/usr/local/lib/python3.10/dist-packages/keras/src/engine/training.py\u001b[0m in \u001b[0;36mfit\u001b[0;34m(self, x, y, batch_size, epochs, verbose, callbacks, validation_split, validation_data, shuffle, class_weight, sample_weight, initial_epoch, steps_per_epoch, validation_steps, validation_batch_size, validation_freq, max_queue_size, workers, use_multiprocessing)\u001b[0m\n\u001b[1;32m   1805\u001b[0m                         ):\n\u001b[1;32m   1806\u001b[0m                             \u001b[0mcallbacks\u001b[0m\u001b[0;34m.\u001b[0m\u001b[0mon_train_batch_begin\u001b[0m\u001b[0;34m(\u001b[0m\u001b[0mstep\u001b[0m\u001b[0;34m)\u001b[0m\u001b[0;34m\u001b[0m\u001b[0;34m\u001b[0m\u001b[0m\n\u001b[0;32m-> 1807\u001b[0;31m                             \u001b[0mtmp_logs\u001b[0m \u001b[0;34m=\u001b[0m \u001b[0mself\u001b[0m\u001b[0;34m.\u001b[0m\u001b[0mtrain_function\u001b[0m\u001b[0;34m(\u001b[0m\u001b[0miterator\u001b[0m\u001b[0;34m)\u001b[0m\u001b[0;34m\u001b[0m\u001b[0;34m\u001b[0m\u001b[0m\n\u001b[0m\u001b[1;32m   1808\u001b[0m                             \u001b[0;32mif\u001b[0m \u001b[0mdata_handler\u001b[0m\u001b[0;34m.\u001b[0m\u001b[0mshould_sync\u001b[0m\u001b[0;34m:\u001b[0m\u001b[0;34m\u001b[0m\u001b[0;34m\u001b[0m\u001b[0m\n\u001b[1;32m   1809\u001b[0m                                 \u001b[0mcontext\u001b[0m\u001b[0;34m.\u001b[0m\u001b[0masync_wait\u001b[0m\u001b[0;34m(\u001b[0m\u001b[0;34m)\u001b[0m\u001b[0;34m\u001b[0m\u001b[0;34m\u001b[0m\u001b[0m\n",
            "\u001b[0;32m/usr/local/lib/python3.10/dist-packages/tensorflow/python/util/traceback_utils.py\u001b[0m in \u001b[0;36merror_handler\u001b[0;34m(*args, **kwargs)\u001b[0m\n\u001b[1;32m    148\u001b[0m     \u001b[0mfiltered_tb\u001b[0m \u001b[0;34m=\u001b[0m \u001b[0;32mNone\u001b[0m\u001b[0;34m\u001b[0m\u001b[0;34m\u001b[0m\u001b[0m\n\u001b[1;32m    149\u001b[0m     \u001b[0;32mtry\u001b[0m\u001b[0;34m:\u001b[0m\u001b[0;34m\u001b[0m\u001b[0;34m\u001b[0m\u001b[0m\n\u001b[0;32m--> 150\u001b[0;31m       \u001b[0;32mreturn\u001b[0m \u001b[0mfn\u001b[0m\u001b[0;34m(\u001b[0m\u001b[0;34m*\u001b[0m\u001b[0margs\u001b[0m\u001b[0;34m,\u001b[0m \u001b[0;34m**\u001b[0m\u001b[0mkwargs\u001b[0m\u001b[0;34m)\u001b[0m\u001b[0;34m\u001b[0m\u001b[0;34m\u001b[0m\u001b[0m\n\u001b[0m\u001b[1;32m    151\u001b[0m     \u001b[0;32mexcept\u001b[0m \u001b[0mException\u001b[0m \u001b[0;32mas\u001b[0m \u001b[0me\u001b[0m\u001b[0;34m:\u001b[0m\u001b[0;34m\u001b[0m\u001b[0;34m\u001b[0m\u001b[0m\n\u001b[1;32m    152\u001b[0m       \u001b[0mfiltered_tb\u001b[0m \u001b[0;34m=\u001b[0m \u001b[0m_process_traceback_frames\u001b[0m\u001b[0;34m(\u001b[0m\u001b[0me\u001b[0m\u001b[0;34m.\u001b[0m\u001b[0m__traceback__\u001b[0m\u001b[0;34m)\u001b[0m\u001b[0;34m\u001b[0m\u001b[0;34m\u001b[0m\u001b[0m\n",
            "\u001b[0;32m/usr/local/lib/python3.10/dist-packages/tensorflow/python/eager/polymorphic_function/polymorphic_function.py\u001b[0m in \u001b[0;36m__call__\u001b[0;34m(self, *args, **kwds)\u001b[0m\n\u001b[1;32m    830\u001b[0m \u001b[0;34m\u001b[0m\u001b[0m\n\u001b[1;32m    831\u001b[0m       \u001b[0;32mwith\u001b[0m \u001b[0mOptionalXlaContext\u001b[0m\u001b[0;34m(\u001b[0m\u001b[0mself\u001b[0m\u001b[0;34m.\u001b[0m\u001b[0m_jit_compile\u001b[0m\u001b[0;34m)\u001b[0m\u001b[0;34m:\u001b[0m\u001b[0;34m\u001b[0m\u001b[0;34m\u001b[0m\u001b[0m\n\u001b[0;32m--> 832\u001b[0;31m         \u001b[0mresult\u001b[0m \u001b[0;34m=\u001b[0m \u001b[0mself\u001b[0m\u001b[0;34m.\u001b[0m\u001b[0m_call\u001b[0m\u001b[0;34m(\u001b[0m\u001b[0;34m*\u001b[0m\u001b[0margs\u001b[0m\u001b[0;34m,\u001b[0m \u001b[0;34m**\u001b[0m\u001b[0mkwds\u001b[0m\u001b[0;34m)\u001b[0m\u001b[0;34m\u001b[0m\u001b[0;34m\u001b[0m\u001b[0m\n\u001b[0m\u001b[1;32m    833\u001b[0m \u001b[0;34m\u001b[0m\u001b[0m\n\u001b[1;32m    834\u001b[0m       \u001b[0mnew_tracing_count\u001b[0m \u001b[0;34m=\u001b[0m \u001b[0mself\u001b[0m\u001b[0;34m.\u001b[0m\u001b[0mexperimental_get_tracing_count\u001b[0m\u001b[0;34m(\u001b[0m\u001b[0;34m)\u001b[0m\u001b[0;34m\u001b[0m\u001b[0;34m\u001b[0m\u001b[0m\n",
            "\u001b[0;32m/usr/local/lib/python3.10/dist-packages/tensorflow/python/eager/polymorphic_function/polymorphic_function.py\u001b[0m in \u001b[0;36m_call\u001b[0;34m(self, *args, **kwds)\u001b[0m\n\u001b[1;32m    866\u001b[0m       \u001b[0;31m# In this case we have created variables on the first call, so we run the\u001b[0m\u001b[0;34m\u001b[0m\u001b[0;34m\u001b[0m\u001b[0m\n\u001b[1;32m    867\u001b[0m       \u001b[0;31m# defunned version which is guaranteed to never create variables.\u001b[0m\u001b[0;34m\u001b[0m\u001b[0;34m\u001b[0m\u001b[0m\n\u001b[0;32m--> 868\u001b[0;31m       return tracing_compilation.call_function(\n\u001b[0m\u001b[1;32m    869\u001b[0m           \u001b[0margs\u001b[0m\u001b[0;34m,\u001b[0m \u001b[0mkwds\u001b[0m\u001b[0;34m,\u001b[0m \u001b[0mself\u001b[0m\u001b[0;34m.\u001b[0m\u001b[0m_no_variable_creation_config\u001b[0m\u001b[0;34m\u001b[0m\u001b[0;34m\u001b[0m\u001b[0m\n\u001b[1;32m    870\u001b[0m       )\n",
            "\u001b[0;32m/usr/local/lib/python3.10/dist-packages/tensorflow/python/eager/polymorphic_function/tracing_compilation.py\u001b[0m in \u001b[0;36mcall_function\u001b[0;34m(args, kwargs, tracing_options)\u001b[0m\n\u001b[1;32m    137\u001b[0m   \u001b[0mbound_args\u001b[0m \u001b[0;34m=\u001b[0m \u001b[0mfunction\u001b[0m\u001b[0;34m.\u001b[0m\u001b[0mfunction_type\u001b[0m\u001b[0;34m.\u001b[0m\u001b[0mbind\u001b[0m\u001b[0;34m(\u001b[0m\u001b[0;34m*\u001b[0m\u001b[0margs\u001b[0m\u001b[0;34m,\u001b[0m \u001b[0;34m**\u001b[0m\u001b[0mkwargs\u001b[0m\u001b[0;34m)\u001b[0m\u001b[0;34m\u001b[0m\u001b[0;34m\u001b[0m\u001b[0m\n\u001b[1;32m    138\u001b[0m   \u001b[0mflat_inputs\u001b[0m \u001b[0;34m=\u001b[0m \u001b[0mfunction\u001b[0m\u001b[0;34m.\u001b[0m\u001b[0mfunction_type\u001b[0m\u001b[0;34m.\u001b[0m\u001b[0munpack_inputs\u001b[0m\u001b[0;34m(\u001b[0m\u001b[0mbound_args\u001b[0m\u001b[0;34m)\u001b[0m\u001b[0;34m\u001b[0m\u001b[0;34m\u001b[0m\u001b[0m\n\u001b[0;32m--> 139\u001b[0;31m   return function._call_flat(  # pylint: disable=protected-access\n\u001b[0m\u001b[1;32m    140\u001b[0m       \u001b[0mflat_inputs\u001b[0m\u001b[0;34m,\u001b[0m \u001b[0mcaptured_inputs\u001b[0m\u001b[0;34m=\u001b[0m\u001b[0mfunction\u001b[0m\u001b[0;34m.\u001b[0m\u001b[0mcaptured_inputs\u001b[0m\u001b[0;34m\u001b[0m\u001b[0;34m\u001b[0m\u001b[0m\n\u001b[1;32m    141\u001b[0m   )\n",
            "\u001b[0;32m/usr/local/lib/python3.10/dist-packages/tensorflow/python/eager/polymorphic_function/concrete_function.py\u001b[0m in \u001b[0;36m_call_flat\u001b[0;34m(self, tensor_inputs, captured_inputs)\u001b[0m\n\u001b[1;32m   1321\u001b[0m         and executing_eagerly):\n\u001b[1;32m   1322\u001b[0m       \u001b[0;31m# No tape is watching; skip to running the function.\u001b[0m\u001b[0;34m\u001b[0m\u001b[0;34m\u001b[0m\u001b[0m\n\u001b[0;32m-> 1323\u001b[0;31m       \u001b[0;32mreturn\u001b[0m \u001b[0mself\u001b[0m\u001b[0;34m.\u001b[0m\u001b[0m_inference_function\u001b[0m\u001b[0;34m.\u001b[0m\u001b[0mcall_preflattened\u001b[0m\u001b[0;34m(\u001b[0m\u001b[0margs\u001b[0m\u001b[0;34m)\u001b[0m\u001b[0;34m\u001b[0m\u001b[0;34m\u001b[0m\u001b[0m\n\u001b[0m\u001b[1;32m   1324\u001b[0m     forward_backward = self._select_forward_and_backward_functions(\n\u001b[1;32m   1325\u001b[0m         \u001b[0margs\u001b[0m\u001b[0;34m,\u001b[0m\u001b[0;34m\u001b[0m\u001b[0;34m\u001b[0m\u001b[0m\n",
            "\u001b[0;32m/usr/local/lib/python3.10/dist-packages/tensorflow/python/eager/polymorphic_function/atomic_function.py\u001b[0m in \u001b[0;36mcall_preflattened\u001b[0;34m(self, args)\u001b[0m\n\u001b[1;32m    214\u001b[0m   \u001b[0;32mdef\u001b[0m \u001b[0mcall_preflattened\u001b[0m\u001b[0;34m(\u001b[0m\u001b[0mself\u001b[0m\u001b[0;34m,\u001b[0m \u001b[0margs\u001b[0m\u001b[0;34m:\u001b[0m \u001b[0mSequence\u001b[0m\u001b[0;34m[\u001b[0m\u001b[0mcore\u001b[0m\u001b[0;34m.\u001b[0m\u001b[0mTensor\u001b[0m\u001b[0;34m]\u001b[0m\u001b[0;34m)\u001b[0m \u001b[0;34m->\u001b[0m \u001b[0mAny\u001b[0m\u001b[0;34m:\u001b[0m\u001b[0;34m\u001b[0m\u001b[0;34m\u001b[0m\u001b[0m\n\u001b[1;32m    215\u001b[0m     \u001b[0;34m\"\"\"Calls with flattened tensor inputs and returns the structured output.\"\"\"\u001b[0m\u001b[0;34m\u001b[0m\u001b[0;34m\u001b[0m\u001b[0m\n\u001b[0;32m--> 216\u001b[0;31m     \u001b[0mflat_outputs\u001b[0m \u001b[0;34m=\u001b[0m \u001b[0mself\u001b[0m\u001b[0;34m.\u001b[0m\u001b[0mcall_flat\u001b[0m\u001b[0;34m(\u001b[0m\u001b[0;34m*\u001b[0m\u001b[0margs\u001b[0m\u001b[0;34m)\u001b[0m\u001b[0;34m\u001b[0m\u001b[0;34m\u001b[0m\u001b[0m\n\u001b[0m\u001b[1;32m    217\u001b[0m     \u001b[0;32mreturn\u001b[0m \u001b[0mself\u001b[0m\u001b[0;34m.\u001b[0m\u001b[0mfunction_type\u001b[0m\u001b[0;34m.\u001b[0m\u001b[0mpack_output\u001b[0m\u001b[0;34m(\u001b[0m\u001b[0mflat_outputs\u001b[0m\u001b[0;34m)\u001b[0m\u001b[0;34m\u001b[0m\u001b[0;34m\u001b[0m\u001b[0m\n\u001b[1;32m    218\u001b[0m \u001b[0;34m\u001b[0m\u001b[0m\n",
            "\u001b[0;32m/usr/local/lib/python3.10/dist-packages/tensorflow/python/eager/polymorphic_function/atomic_function.py\u001b[0m in \u001b[0;36mcall_flat\u001b[0;34m(self, *args)\u001b[0m\n\u001b[1;32m    249\u001b[0m         \u001b[0;32mwith\u001b[0m \u001b[0mrecord\u001b[0m\u001b[0;34m.\u001b[0m\u001b[0mstop_recording\u001b[0m\u001b[0;34m(\u001b[0m\u001b[0;34m)\u001b[0m\u001b[0;34m:\u001b[0m\u001b[0;34m\u001b[0m\u001b[0;34m\u001b[0m\u001b[0m\n\u001b[1;32m    250\u001b[0m           \u001b[0;32mif\u001b[0m \u001b[0mself\u001b[0m\u001b[0;34m.\u001b[0m\u001b[0m_bound_context\u001b[0m\u001b[0;34m.\u001b[0m\u001b[0mexecuting_eagerly\u001b[0m\u001b[0;34m(\u001b[0m\u001b[0;34m)\u001b[0m\u001b[0;34m:\u001b[0m\u001b[0;34m\u001b[0m\u001b[0;34m\u001b[0m\u001b[0m\n\u001b[0;32m--> 251\u001b[0;31m             outputs = self._bound_context.call_function(\n\u001b[0m\u001b[1;32m    252\u001b[0m                 \u001b[0mself\u001b[0m\u001b[0;34m.\u001b[0m\u001b[0mname\u001b[0m\u001b[0;34m,\u001b[0m\u001b[0;34m\u001b[0m\u001b[0;34m\u001b[0m\u001b[0m\n\u001b[1;32m    253\u001b[0m                 \u001b[0mlist\u001b[0m\u001b[0;34m(\u001b[0m\u001b[0margs\u001b[0m\u001b[0;34m)\u001b[0m\u001b[0;34m,\u001b[0m\u001b[0;34m\u001b[0m\u001b[0;34m\u001b[0m\u001b[0m\n",
            "\u001b[0;32m/usr/local/lib/python3.10/dist-packages/tensorflow/python/eager/context.py\u001b[0m in \u001b[0;36mcall_function\u001b[0;34m(self, name, tensor_inputs, num_outputs)\u001b[0m\n\u001b[1;32m   1484\u001b[0m     \u001b[0mcancellation_context\u001b[0m \u001b[0;34m=\u001b[0m \u001b[0mcancellation\u001b[0m\u001b[0;34m.\u001b[0m\u001b[0mcontext\u001b[0m\u001b[0;34m(\u001b[0m\u001b[0;34m)\u001b[0m\u001b[0;34m\u001b[0m\u001b[0;34m\u001b[0m\u001b[0m\n\u001b[1;32m   1485\u001b[0m     \u001b[0;32mif\u001b[0m \u001b[0mcancellation_context\u001b[0m \u001b[0;32mis\u001b[0m \u001b[0;32mNone\u001b[0m\u001b[0;34m:\u001b[0m\u001b[0;34m\u001b[0m\u001b[0;34m\u001b[0m\u001b[0m\n\u001b[0;32m-> 1486\u001b[0;31m       outputs = execute.execute(\n\u001b[0m\u001b[1;32m   1487\u001b[0m           \u001b[0mname\u001b[0m\u001b[0;34m.\u001b[0m\u001b[0mdecode\u001b[0m\u001b[0;34m(\u001b[0m\u001b[0;34m\"utf-8\"\u001b[0m\u001b[0;34m)\u001b[0m\u001b[0;34m,\u001b[0m\u001b[0;34m\u001b[0m\u001b[0;34m\u001b[0m\u001b[0m\n\u001b[1;32m   1488\u001b[0m           \u001b[0mnum_outputs\u001b[0m\u001b[0;34m=\u001b[0m\u001b[0mnum_outputs\u001b[0m\u001b[0;34m,\u001b[0m\u001b[0;34m\u001b[0m\u001b[0;34m\u001b[0m\u001b[0m\n",
            "\u001b[0;32m/usr/local/lib/python3.10/dist-packages/tensorflow/python/eager/execute.py\u001b[0m in \u001b[0;36mquick_execute\u001b[0;34m(op_name, num_outputs, inputs, attrs, ctx, name)\u001b[0m\n\u001b[1;32m     51\u001b[0m   \u001b[0;32mtry\u001b[0m\u001b[0;34m:\u001b[0m\u001b[0;34m\u001b[0m\u001b[0;34m\u001b[0m\u001b[0m\n\u001b[1;32m     52\u001b[0m     \u001b[0mctx\u001b[0m\u001b[0;34m.\u001b[0m\u001b[0mensure_initialized\u001b[0m\u001b[0;34m(\u001b[0m\u001b[0;34m)\u001b[0m\u001b[0;34m\u001b[0m\u001b[0;34m\u001b[0m\u001b[0m\n\u001b[0;32m---> 53\u001b[0;31m     tensors = pywrap_tfe.TFE_Py_Execute(ctx._handle, device_name, op_name,\n\u001b[0m\u001b[1;32m     54\u001b[0m                                         inputs, attrs, num_outputs)\n\u001b[1;32m     55\u001b[0m   \u001b[0;32mexcept\u001b[0m \u001b[0mcore\u001b[0m\u001b[0;34m.\u001b[0m\u001b[0m_NotOkStatusException\u001b[0m \u001b[0;32mas\u001b[0m \u001b[0me\u001b[0m\u001b[0;34m:\u001b[0m\u001b[0;34m\u001b[0m\u001b[0;34m\u001b[0m\u001b[0m\n",
            "\u001b[0;31mKeyboardInterrupt\u001b[0m: "
          ]
        }
      ],
      "source": [
        "model_4_history=model_4.fit(train_char_token_dataset,\n",
        "                            epochs=3,\n",
        "                            steps_per_epoch=int(0.1*len(train_char_token_dataset)),\n",
        "                            validation_data=val_char_token_dataset,\n",
        "                            validation_steps=int(0.1*len(val_char_token_dataset)))\n"
      ]
    },
    {
      "cell_type": "code",
      "execution_count": null,
      "metadata": {
        "id": "-Tmc_8KDtB2J"
      },
      "outputs": [],
      "source": [
        "model_4.evaluate(val_char_token_dataset)"
      ]
    },
    {
      "cell_type": "code",
      "execution_count": null,
      "metadata": {
        "id": "C1xj7F3dd3Wm"
      },
      "outputs": [],
      "source": [
        "model_4_pred_probs=model_4.predict(val_char_token_dataset)\n",
        "model_4_pred_probs"
      ]
    },
    {
      "cell_type": "code",
      "execution_count": null,
      "metadata": {
        "id": "rV9kjCuoeCWd"
      },
      "outputs": [],
      "source": [
        "model_4_preds=tf.argmax(model_4_pred_probs,axis=1)\n",
        "model_4_preds"
      ]
    },
    {
      "cell_type": "code",
      "execution_count": null,
      "metadata": {
        "id": "wupLXHKRtcCZ"
      },
      "outputs": [],
      "source": [
        "model_4_results=calculate_results(y_true=val_labels_encoded,\n",
        "                                  y_pred=model_4_preds)\n",
        "model_4_results"
      ]
    },
    {
      "cell_type": "markdown",
      "metadata": {
        "id": "ePO96nowtyZ6"
      },
      "source": [
        "### Model 5: Transfer learning with token embeddings + char embeddings + positional embeddings"
      ]
    },
    {
      "cell_type": "markdown",
      "metadata": {
        "id": "P2WX9kLJwD4t"
      },
      "source": [
        "#### Create positional embeddings"
      ]
    },
    {
      "cell_type": "code",
      "execution_count": null,
      "metadata": {
        "id": "nuk8ys4vyLR2"
      },
      "outputs": [],
      "source": [
        "train_df['line_number'].value_counts()"
      ]
    },
    {
      "cell_type": "code",
      "execution_count": null,
      "metadata": {
        "id": "vK_XV3ZEyQZU"
      },
      "outputs": [],
      "source": [
        "train_df.line_number.plot.hist()"
      ]
    },
    {
      "cell_type": "code",
      "execution_count": null,
      "metadata": {
        "id": "OjrqPmBDztbD"
      },
      "outputs": [],
      "source": [
        "train_line_numbers_one_hot=tf.one_hot(train_df['line_number'].to_numpy(),depth=15)\n",
        "val_line_numbers_one_hot=tf.one_hot(val_df['line_number'].to_numpy(),depth=15)\n",
        "test_line_numbers_one_hot=tf.one_hot(test_df['line_number'].to_numpy(),depth=15)\n",
        "# val_line_numbers_one_hot[:10],val_line_numbers_one_hot.shape\n",
        "# train_line_numbers_one_hot[:10],train_line_numbers_one_hot.shape"
      ]
    },
    {
      "cell_type": "code",
      "execution_count": null,
      "metadata": {
        "id": "C7HNiBCR2ZSw"
      },
      "outputs": [],
      "source": [
        "train_df['total_lines'].value_counts()"
      ]
    },
    {
      "cell_type": "code",
      "execution_count": null,
      "metadata": {
        "id": "Io2kuIHU0dN5"
      },
      "outputs": [],
      "source": [
        "train_df.total_lines.plot.hist()"
      ]
    },
    {
      "cell_type": "code",
      "execution_count": null,
      "metadata": {
        "id": "qYYY720-2EEW"
      },
      "outputs": [],
      "source": [
        "train_total_lines_one_hot=tf.one_hot(train_df['total_lines'].to_numpy(),depth=20)\n",
        "val_total_lines_one_hot=tf.one_hot(val_df['total_lines'].to_numpy(),depth=20)\n",
        "test_total_lines_one_hot=tf.one_hot(test_df['total_lines'].to_numpy(),depth=20)\n",
        "\n",
        "train_total_lines_one_hot,train_total_lines_one_hot.shape"
      ]
    },
    {
      "cell_type": "markdown",
      "metadata": {
        "id": "0eQWjaNx2lsf"
      },
      "source": [
        "### Building a tribrid embedding model\n",
        "\n",
        "1. Create a token-level model\n",
        "2. Create a character-level model\n",
        "3. Create a model for the `line_number` feature\n",
        "4. Create a model for the `total_line` feature\n",
        "5. Combine the output of 1 & 2 using `tf.keras.layers.concatenate`\n",
        "6. Combine the output of 3,4,5 using `tf.keras.layers.concatenate`\n",
        "7. Create an output layer to accept the tribrid embedding and output label probabilities\n",
        "8. Combine the inputs of 1,2,3,4 and outputs of into a tf.keras.Model\n",
        "\n",
        "\n"
      ]
    },
    {
      "cell_type": "code",
      "execution_count": null,
      "metadata": {
        "id": "_GVTBe8H4mAk"
      },
      "outputs": [],
      "source": [
        "# 1.\n",
        "token_inputs=layers.Input(shape=[],dtype=tf.string)\n",
        "token_embeddings=tf_hub_embedding_layer(token_inputs)\n",
        "token_outputs=layers.Dense(128,activation='relu')(token_embeddings)\n",
        "token_model=tf.keras.Model(token_inputs,token_outputs)\n",
        "\n",
        "#2.\n",
        "char_inputs=layers.Input(shape=(1,),dtype=tf.string,name='char_inputs')\n",
        "char_vectors=char_vectorizer(char_inputs)\n",
        "char_embeddding=char_embed(char_vectors)\n",
        "char_bi_lstm=layers.Bidirectional(layers.LSTM(24))(char_embeddding)\n",
        "char_model=tf.keras.Model(inputs=char_inputs,outputs=char_bi_lstm)\n",
        "\n",
        "#3.\n",
        "line_numbers_inputs=layers.Input(shape=(15,),dtype=tf.float32,name='line_number_input')\n",
        "line_numbers_dense=layers.Dense(32,activation='relu')(line_numbers_inputs)\n",
        "line_number_model=tf.keras.Model(line_numbers_inputs,line_numbers_dense)\n",
        "\n",
        "\n",
        "#4.\n",
        "total_lines_inputs=layers.Input(shape=(20,),dtype=tf.float32,name='total_line_input')\n",
        "total_lines_dense=layers.Dense(32,activation='relu')(total_lines_inputs)\n",
        "total_lines_model=tf.keras.Model(total_lines_inputs,total_lines_dense)\n",
        "\n",
        "\n",
        "#5.\n",
        "combined_embeddings=layers.Concatenate(name='char_token_hybrid_embedding')([token_model.output,\n",
        "                                                                            char_model.output])\n",
        "\n",
        "z=layers.Dense(256,activation='relu')(combined_embeddings)\n",
        "\n",
        "z=layers.Dropout(0.5)(z)\n",
        "\n",
        "#6.\n",
        "tribrid_embeddings=layers.Concatenate(name='char_token_positional_embedding')([line_number_model.output,\n",
        "                                                                               total_lines_model.output,\n",
        "                                                                               z])\n",
        "#7.\n",
        "output_layer=layers.Dense(num_classes,activation='softmax',name='output_layer')(tribrid_embeddings)\n",
        "\n",
        "#8.\n",
        "model_5=tf.keras.Model(inputs=[line_number_model.input,total_lines_model.input,token_model.input,char_model.input],\n",
        "                       outputs=output_layer,name='model_5_tribrid_embedding_model')"
      ]
    },
    {
      "cell_type": "code",
      "execution_count": null,
      "metadata": {
        "id": "xWYAA1uZ7VAB"
      },
      "outputs": [],
      "source": [
        "model_5.summary()"
      ]
    },
    {
      "cell_type": "code",
      "execution_count": null,
      "metadata": {
        "id": "CX19l27v7XJW"
      },
      "outputs": [],
      "source": [
        "model_5.compile(loss=tf.keras.losses.CategoricalCrossentropy(label_smoothing=0.2),\n",
        "                optimizer=tf.keras.optimizers.Adam(),\n",
        "                metrics=['accuracy'])"
      ]
    },
    {
      "cell_type": "code",
      "execution_count": null,
      "metadata": {
        "id": "KCFaJJhGgs_l"
      },
      "outputs": [],
      "source": [
        "plot_model(model_5)"
      ]
    },
    {
      "cell_type": "markdown",
      "metadata": {
        "id": "8OYcKcnhhybo"
      },
      "source": [
        "### Create tribrid embedding datasets"
      ]
    },
    {
      "cell_type": "code",
      "execution_count": null,
      "metadata": {
        "id": "trfF58ztmCHW"
      },
      "outputs": [],
      "source": [
        "train_char_token_data=tf.data.Dataset.from_tensor_slices((train_sentences,train_chars))\n",
        "train_char_token_labels=tf.data.Dataset.from_tensor_slices(train_labels_one_hot)\n",
        "train_char_token_dataset=tf.data.Dataset.zip((train_char_token_data,train_char_token_labels))\n",
        "\n",
        "\n",
        "train_char_token_dataset=train_char_token_dataset.batch(32).prefetch(tf.data.AUTOTUNE)"
      ]
    },
    {
      "cell_type": "code",
      "execution_count": null,
      "metadata": {
        "id": "NZZAQeX0lVvU"
      },
      "outputs": [],
      "source": [
        "train_char_token_pos_data=tf.data.Dataset.from_tensor_slices((train_line_numbers_one_hot,\n",
        "                                                              train_total_lines_one_hot,\n",
        "                                                              train_sentences,\n",
        "                                                              train_chars))\n",
        "train_char_token_pos_labels=tf.data.Dataset.from_tensor_slices(train_labels_one_hot)\n",
        "train_char_token_pos_dataset=tf.data.Dataset.zip((train_char_token_pos_data,train_char_token_pos_labels))\n",
        "train_char_token_pos_dataset=train_char_token_pos_dataset.batch(32).prefetch(tf.data.AUTOTUNE)\n",
        "\n",
        "\n",
        "# Same for val data\n",
        "val_char_token_pos_data=tf.data.Dataset.from_tensor_slices((val_line_numbers_one_hot,\n",
        "                                                              val_total_lines_one_hot,\n",
        "                                                              val_sentences,\n",
        "                                                              val_chars))\n",
        "val_char_token_pos_labels=tf.data.Dataset.from_tensor_slices(val_labels_one_hot)\n",
        "val_char_token_pos_dataset=tf.data.Dataset.zip((val_char_token_pos_data,val_char_token_pos_labels))\n",
        "val_char_token_pos_dataset=val_char_token_pos_dataset.batch(32).prefetch(tf.data.AUTOTUNE)"
      ]
    },
    {
      "cell_type": "markdown",
      "metadata": {
        "id": "JwHercWKmPRy"
      },
      "source": [
        "### Fitting,evaluating and making prediction with our tribrid model"
      ]
    },
    {
      "cell_type": "code",
      "execution_count": null,
      "metadata": {
        "id": "RGADRWlsp8_4"
      },
      "outputs": [],
      "source": [
        "history_model_5=model_5.fit(train_char_token_pos_dataset,\n",
        "                            epochs=3,\n",
        "                            steps_per_epoch=int(0.1*len(train_char_token_pos_dataset)),\n",
        "                            validation_data=val_char_token_pos_dataset,\n",
        "                            validation_steps=int(0.1*len(train_char_token_pos_dataset)))\n",
        "history_model_5"
      ]
    },
    {
      "cell_type": "code",
      "execution_count": null,
      "metadata": {
        "id": "zbcuNn3nqa-8"
      },
      "outputs": [],
      "source": [
        "model_5_pred_probs=model_5.predict(val_char_token_pos_dataset,verbose=1)\n",
        "model_5_pred_probs"
      ]
    },
    {
      "cell_type": "code",
      "execution_count": null,
      "metadata": {
        "id": "S0oVhH-arCTG"
      },
      "outputs": [],
      "source": [
        "model_5_preds=tf.argmax(model_5_pred_probs,axis=1)\n",
        "model_5_preds"
      ]
    },
    {
      "cell_type": "code",
      "execution_count": null,
      "metadata": {
        "id": "z3n9UjjyrGX1"
      },
      "outputs": [],
      "source": [
        "model_5_results=calculate_results(val_labels_encoded,\n",
        "                                  model_5_preds)\n",
        "model_5_results"
      ]
    },
    {
      "cell_type": "code",
      "execution_count": null,
      "metadata": {
        "id": "PNJuvYX3tUxr"
      },
      "outputs": [],
      "source": [
        "import pandas as pd"
      ]
    },
    {
      "cell_type": "code",
      "execution_count": null,
      "metadata": {
        "id": "-JzE6IixrwY3"
      },
      "outputs": [],
      "source": [
        "all_model_results=pd.DataFrame({\"model_0_baseline\":baseline_results,\n",
        "                                'model_1_custom_token_embedding':model_1_results,\n",
        "                                'model_2_pretrained_token_embedding':model_2_results,\n",
        "                                'model_3_custom_character_embedding':model_3_results,\n",
        "                                'model_4_hybrid_char_token_embedding':model_4_results,\n",
        "                                'model_5_pos_char_token_embedding':model_5_results})\n",
        "all_model_results=all_model_results.transpose()\n",
        "all_model_results"
      ]
    },
    {
      "cell_type": "code",
      "execution_count": null,
      "metadata": {
        "id": "GjmjrcKztPQt"
      },
      "outputs": [],
      "source": []
    }
  ],
  "metadata": {
    "accelerator": "GPU",
    "colab": {
      "gpuType": "T4",
      "provenance": [],
      "toc_visible": true
    },
    "kernelspec": {
      "display_name": "Python 3",
      "name": "python3"
    },
    "language_info": {
      "name": "python"
    }
  },
  "nbformat": 4,
  "nbformat_minor": 0
}